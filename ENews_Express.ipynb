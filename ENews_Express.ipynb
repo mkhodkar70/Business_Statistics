{
 "cells": [
  {
   "cell_type": "markdown",
   "id": "6yDxo9u0d9Na",
   "metadata": {
    "id": "6yDxo9u0d9Na"
   },
   "source": [
    "# Project Business Statistics: E-news Express\n"
   ]
  },
  {
   "cell_type": "markdown",
   "id": "SrLd-ICEmPSD",
   "metadata": {
    "id": "SrLd-ICEmPSD"
   },
   "source": [
    "## Define Problem Statement and Objectives"
   ]
  },
  {
   "cell_type": "markdown",
   "id": "9Vt1PLLqmXNn",
   "metadata": {
    "id": "9Vt1PLLqmXNn"
   },
   "source": [
    "### Business Context\n",
    "\n",
    "The advent of e-news, or electronic news, portals has offered us a great opportunity to quickly get updates on the day-to-day events occurring globally. The information on these portals is retrieved electronically from online databases, processed using a variety of software, and then transmitted to the users. There are multiple advantages of transmitting new electronically, like faster access to the content and the ability to utilize different technologies such as audio, graphics, video, and other interactive elements that are either not being used or aren’t common yet in traditional newspapers.\n",
    "\n",
    "E-news Express, an online news portal, aims to expand its business by acquiring new subscribers. With every visitor to the website taking certain actions based on their interest, the company plans to analyze these actions to understand user interests and determine how to drive better engagement.  The executives at E-news Express are of the opinion that there has been a decline in new monthly subscribers compared to the past year because the current webpage is not designed well enough in terms of the outline & recommended content to keep customers engaged long enough to make a decision to subscribe.\n",
    "\n",
    "[Companies often analyze user responses to two variants of a product to decide which of the two variants is more effective. This experimental technique, known as A/B testing, is used to determine whether a new feature attracts users based on a chosen metric.]\n",
    "\n",
    "\n",
    "### Objective\n",
    "\n",
    "The design team of the company has researched and created a new landing page that has a new outline & more relevant content shown compared to the old page. In order to test the effectiveness of the new landing page in gathering new subscribers, the Data Science team conducted an experiment by randomly selecting 100 users and dividing them equally into two groups. The existing landing page was served to the first group (control group) and the new landing page to the second group (treatment group). Data regarding the interaction of users in both groups with the two versions of the landing page was collected. Being a data scientist in E-news Express, you have been asked to explore the data and perform a statistical analysis (at a significance level of 5%) to determine the effectiveness of the new landing page in gathering new subscribers for the news portal by answering the following questions:\n",
    "\n",
    "1. Do the users spend more time on the new landing page than on the existing landing page?\n",
    "\n",
    "2. Is the conversion rate (the proportion of users who visit the landing page and get converted) for the new page greater than the conversion rate for the old page?\n",
    "\n",
    "3. Does the converted status depend on the preferred language? [Hint: Create a contingency table using the pandas.crosstab() function]\n",
    "\n",
    "4. Is the time spent on the new page the same for the different language users?\n",
    "\n",
    "\n",
    "### Data Dictionary\n",
    "\n",
    "The data contains information regarding the interaction of users in both groups with the two versions of the landing page.\n",
    "\n",
    "1. user_id - Unique user ID of the person visiting the website\n",
    "\n",
    "2. group - Whether the user belongs to the first group (control) or the second group (treatment)\n",
    "\n",
    "3. landing_page - Whether the landing page is new or old\n",
    "\n",
    "4. time_spent_on_the_page - Time (in minutes) spent by the user on the landing page\n",
    "\n",
    "5. converted - Whether the user gets converted to a subscriber of the news portal or not\n",
    "\n",
    "6. language_preferred - Language chosen by the user to view the landing page"
   ]
  },
  {
   "cell_type": "markdown",
   "id": "a6a3d218",
   "metadata": {
    "id": "a6a3d218"
   },
   "source": [
    "## Import all the necessary libraries"
   ]
  },
  {
   "cell_type": "code",
   "execution_count": 1,
   "id": "C4zbBNp4WKsU",
   "metadata": {
    "colab": {
     "base_uri": "https://localhost:8080/",
     "height": 35
    },
    "id": "C4zbBNp4WKsU",
    "outputId": "2fa4f0d1-b684-4347-c30f-264ba6e46d57"
   },
   "outputs": [
    {
     "data": {
      "application/vnd.google.colaboratory.intrinsic+json": {
       "type": "string"
      },
      "text/plain": [
       "'1.7.3'"
      ]
     },
     "execution_count": 1,
     "metadata": {},
     "output_type": "execute_result"
    }
   ],
   "source": [
    "# Upgrading scipy if its version is below 1.6.1\n",
    "\n",
    "import scipy\n",
    "scipy.__version__\n",
    "\n",
    "# This line should remain commented if the version is 1.6.1 or above\n",
    "#!pip install --upgrade scipy"
   ]
  },
  {
   "cell_type": "code",
   "execution_count": 2,
   "id": "658c5dec",
   "metadata": {
    "colab": {
     "base_uri": "https://localhost:8080/"
    },
    "id": "658c5dec",
    "outputId": "8eb50b41-00e1-4995-a15c-b0dd6143f22e"
   },
   "outputs": [
    {
     "name": "stderr",
     "output_type": "stream",
     "text": [
      "/usr/local/lib/python3.7/dist-packages/statsmodels/tools/_testing.py:19: FutureWarning: pandas.util.testing is deprecated. Use the functions in the public API at pandas.testing instead.\n",
      "  import pandas.util.testing as tm\n"
     ]
    },
    {
     "name": "stdout",
     "output_type": "stream",
     "text": [
      "Drive already mounted at /content/drive/; to attempt to forcibly remount, call drive.mount(\"/content/drive/\", force_remount=True).\n"
     ]
    }
   ],
   "source": [
    "# Importing numerical and data manipulation libraries\n",
    "import numpy as np\n",
    "import pandas as pd\n",
    "\n",
    "# Importing visualization libraries\n",
    "import matplotlib.pyplot as plt\n",
    "import seaborn as sns\n",
    "\n",
    "# ensuring the requested graphs are shown\n",
    "%matplotlib inline  \n",
    "\n",
    "# Importing statistical libraries\n",
    "import scipy.stats as stats\n",
    "import statsmodels.stats.proportion as proportion\n",
    "import statsmodels.stats.multicomp as multicomp\n",
    "\n",
    "# Mounting google drive\n",
    "from google.colab import drive\n",
    "drive.mount('/content/drive/')\n",
    "\n",
    "# Setting the background theme and font scale for figures\n",
    "sns.set_theme(style = 'darkgrid', font_scale = 1.1)\n",
    "\n",
    "# to restrict the float value to 2 decimal places\n",
    "pd.set_option('display.float_format', lambda x: '%.2f' % x)"
   ]
  },
  {
   "cell_type": "markdown",
   "id": "6970dd99",
   "metadata": {
    "id": "6970dd99"
   },
   "source": [
    "## Reading the Data into a DataFrame & Peeking the First/Last Few Rows"
   ]
  },
  {
   "cell_type": "code",
   "execution_count": 3,
   "id": "d3b95640",
   "metadata": {
    "colab": {
     "base_uri": "https://localhost:8080/",
     "height": 206
    },
    "id": "d3b95640",
    "outputId": "0f3f0f2d-a702-4ee6-9fed-82b5cb5f1185"
   },
   "outputs": [
    {
     "data": {
      "text/html": [
       "\n",
       "  <div id=\"df-611fe9e7-70bf-4ac4-a057-52fa8ab815cb\">\n",
       "    <div class=\"colab-df-container\">\n",
       "      <div>\n",
       "<style scoped>\n",
       "    .dataframe tbody tr th:only-of-type {\n",
       "        vertical-align: middle;\n",
       "    }\n",
       "\n",
       "    .dataframe tbody tr th {\n",
       "        vertical-align: top;\n",
       "    }\n",
       "\n",
       "    .dataframe thead th {\n",
       "        text-align: right;\n",
       "    }\n",
       "</style>\n",
       "<table border=\"1\" class=\"dataframe\">\n",
       "  <thead>\n",
       "    <tr style=\"text-align: right;\">\n",
       "      <th></th>\n",
       "      <th>user_id</th>\n",
       "      <th>group</th>\n",
       "      <th>landing_page</th>\n",
       "      <th>time_spent_on_the_page</th>\n",
       "      <th>converted</th>\n",
       "      <th>language_preferred</th>\n",
       "    </tr>\n",
       "  </thead>\n",
       "  <tbody>\n",
       "    <tr>\n",
       "      <th>0</th>\n",
       "      <td>546592</td>\n",
       "      <td>control</td>\n",
       "      <td>old</td>\n",
       "      <td>3.48</td>\n",
       "      <td>no</td>\n",
       "      <td>Spanish</td>\n",
       "    </tr>\n",
       "    <tr>\n",
       "      <th>1</th>\n",
       "      <td>546468</td>\n",
       "      <td>treatment</td>\n",
       "      <td>new</td>\n",
       "      <td>7.13</td>\n",
       "      <td>yes</td>\n",
       "      <td>English</td>\n",
       "    </tr>\n",
       "    <tr>\n",
       "      <th>2</th>\n",
       "      <td>546462</td>\n",
       "      <td>treatment</td>\n",
       "      <td>new</td>\n",
       "      <td>4.40</td>\n",
       "      <td>no</td>\n",
       "      <td>Spanish</td>\n",
       "    </tr>\n",
       "    <tr>\n",
       "      <th>3</th>\n",
       "      <td>546567</td>\n",
       "      <td>control</td>\n",
       "      <td>old</td>\n",
       "      <td>3.02</td>\n",
       "      <td>no</td>\n",
       "      <td>French</td>\n",
       "    </tr>\n",
       "    <tr>\n",
       "      <th>4</th>\n",
       "      <td>546459</td>\n",
       "      <td>treatment</td>\n",
       "      <td>new</td>\n",
       "      <td>4.75</td>\n",
       "      <td>yes</td>\n",
       "      <td>Spanish</td>\n",
       "    </tr>\n",
       "  </tbody>\n",
       "</table>\n",
       "</div>\n",
       "      <button class=\"colab-df-convert\" onclick=\"convertToInteractive('df-611fe9e7-70bf-4ac4-a057-52fa8ab815cb')\"\n",
       "              title=\"Convert this dataframe to an interactive table.\"\n",
       "              style=\"display:none;\">\n",
       "        \n",
       "  <svg xmlns=\"http://www.w3.org/2000/svg\" height=\"24px\"viewBox=\"0 0 24 24\"\n",
       "       width=\"24px\">\n",
       "    <path d=\"M0 0h24v24H0V0z\" fill=\"none\"/>\n",
       "    <path d=\"M18.56 5.44l.94 2.06.94-2.06 2.06-.94-2.06-.94-.94-2.06-.94 2.06-2.06.94zm-11 1L8.5 8.5l.94-2.06 2.06-.94-2.06-.94L8.5 2.5l-.94 2.06-2.06.94zm10 10l.94 2.06.94-2.06 2.06-.94-2.06-.94-.94-2.06-.94 2.06-2.06.94z\"/><path d=\"M17.41 7.96l-1.37-1.37c-.4-.4-.92-.59-1.43-.59-.52 0-1.04.2-1.43.59L10.3 9.45l-7.72 7.72c-.78.78-.78 2.05 0 2.83L4 21.41c.39.39.9.59 1.41.59.51 0 1.02-.2 1.41-.59l7.78-7.78 2.81-2.81c.8-.78.8-2.07 0-2.86zM5.41 20L4 18.59l7.72-7.72 1.47 1.35L5.41 20z\"/>\n",
       "  </svg>\n",
       "      </button>\n",
       "      \n",
       "  <style>\n",
       "    .colab-df-container {\n",
       "      display:flex;\n",
       "      flex-wrap:wrap;\n",
       "      gap: 12px;\n",
       "    }\n",
       "\n",
       "    .colab-df-convert {\n",
       "      background-color: #E8F0FE;\n",
       "      border: none;\n",
       "      border-radius: 50%;\n",
       "      cursor: pointer;\n",
       "      display: none;\n",
       "      fill: #1967D2;\n",
       "      height: 32px;\n",
       "      padding: 0 0 0 0;\n",
       "      width: 32px;\n",
       "    }\n",
       "\n",
       "    .colab-df-convert:hover {\n",
       "      background-color: #E2EBFA;\n",
       "      box-shadow: 0px 1px 2px rgba(60, 64, 67, 0.3), 0px 1px 3px 1px rgba(60, 64, 67, 0.15);\n",
       "      fill: #174EA6;\n",
       "    }\n",
       "\n",
       "    [theme=dark] .colab-df-convert {\n",
       "      background-color: #3B4455;\n",
       "      fill: #D2E3FC;\n",
       "    }\n",
       "\n",
       "    [theme=dark] .colab-df-convert:hover {\n",
       "      background-color: #434B5C;\n",
       "      box-shadow: 0px 1px 3px 1px rgba(0, 0, 0, 0.15);\n",
       "      filter: drop-shadow(0px 1px 2px rgba(0, 0, 0, 0.3));\n",
       "      fill: #FFFFFF;\n",
       "    }\n",
       "  </style>\n",
       "\n",
       "      <script>\n",
       "        const buttonEl =\n",
       "          document.querySelector('#df-611fe9e7-70bf-4ac4-a057-52fa8ab815cb button.colab-df-convert');\n",
       "        buttonEl.style.display =\n",
       "          google.colab.kernel.accessAllowed ? 'block' : 'none';\n",
       "\n",
       "        async function convertToInteractive(key) {\n",
       "          const element = document.querySelector('#df-611fe9e7-70bf-4ac4-a057-52fa8ab815cb');\n",
       "          const dataTable =\n",
       "            await google.colab.kernel.invokeFunction('convertToInteractive',\n",
       "                                                     [key], {});\n",
       "          if (!dataTable) return;\n",
       "\n",
       "          const docLinkHtml = 'Like what you see? Visit the ' +\n",
       "            '<a target=\"_blank\" href=https://colab.research.google.com/notebooks/data_table.ipynb>data table notebook</a>'\n",
       "            + ' to learn more about interactive tables.';\n",
       "          element.innerHTML = '';\n",
       "          dataTable['output_type'] = 'display_data';\n",
       "          await google.colab.output.renderOutput(dataTable, element);\n",
       "          const docLink = document.createElement('div');\n",
       "          docLink.innerHTML = docLinkHtml;\n",
       "          element.appendChild(docLink);\n",
       "        }\n",
       "      </script>\n",
       "    </div>\n",
       "  </div>\n",
       "  "
      ],
      "text/plain": [
       "   user_id      group landing_page  time_spent_on_the_page converted  \\\n",
       "0   546592    control          old                    3.48        no   \n",
       "1   546468  treatment          new                    7.13       yes   \n",
       "2   546462  treatment          new                    4.40        no   \n",
       "3   546567    control          old                    3.02        no   \n",
       "4   546459  treatment          new                    4.75       yes   \n",
       "\n",
       "  language_preferred  \n",
       "0            Spanish  \n",
       "1            English  \n",
       "2            Spanish  \n",
       "3             French  \n",
       "4            Spanish  "
      ]
     },
     "execution_count": 3,
     "metadata": {},
     "output_type": "execute_result"
    }
   ],
   "source": [
    "# reading the datasset\n",
    "data_orig = pd.read_csv('/content/drive/MyDrive/Python_files/abtest.csv')\n",
    "\n",
    "# ensuring the original dataset remains unchanged\n",
    "df = data_orig.copy()\n",
    "\n",
    "# peeking the first five rows\n",
    "df.head()"
   ]
  },
  {
   "cell_type": "code",
   "execution_count": 4,
   "id": "8sbYQH6zQOY7",
   "metadata": {
    "colab": {
     "base_uri": "https://localhost:8080/",
     "height": 206
    },
    "id": "8sbYQH6zQOY7",
    "outputId": "4aae53ae-8bfb-4c67-ca80-962c1546a94a"
   },
   "outputs": [
    {
     "data": {
      "text/html": [
       "\n",
       "  <div id=\"df-280c4ae8-d7c4-4816-a2cc-a39231cdb2c7\">\n",
       "    <div class=\"colab-df-container\">\n",
       "      <div>\n",
       "<style scoped>\n",
       "    .dataframe tbody tr th:only-of-type {\n",
       "        vertical-align: middle;\n",
       "    }\n",
       "\n",
       "    .dataframe tbody tr th {\n",
       "        vertical-align: top;\n",
       "    }\n",
       "\n",
       "    .dataframe thead th {\n",
       "        text-align: right;\n",
       "    }\n",
       "</style>\n",
       "<table border=\"1\" class=\"dataframe\">\n",
       "  <thead>\n",
       "    <tr style=\"text-align: right;\">\n",
       "      <th></th>\n",
       "      <th>user_id</th>\n",
       "      <th>group</th>\n",
       "      <th>landing_page</th>\n",
       "      <th>time_spent_on_the_page</th>\n",
       "      <th>converted</th>\n",
       "      <th>language_preferred</th>\n",
       "    </tr>\n",
       "  </thead>\n",
       "  <tbody>\n",
       "    <tr>\n",
       "      <th>95</th>\n",
       "      <td>546446</td>\n",
       "      <td>treatment</td>\n",
       "      <td>new</td>\n",
       "      <td>5.15</td>\n",
       "      <td>no</td>\n",
       "      <td>Spanish</td>\n",
       "    </tr>\n",
       "    <tr>\n",
       "      <th>96</th>\n",
       "      <td>546544</td>\n",
       "      <td>control</td>\n",
       "      <td>old</td>\n",
       "      <td>6.52</td>\n",
       "      <td>yes</td>\n",
       "      <td>English</td>\n",
       "    </tr>\n",
       "    <tr>\n",
       "      <th>97</th>\n",
       "      <td>546472</td>\n",
       "      <td>treatment</td>\n",
       "      <td>new</td>\n",
       "      <td>7.07</td>\n",
       "      <td>yes</td>\n",
       "      <td>Spanish</td>\n",
       "    </tr>\n",
       "    <tr>\n",
       "      <th>98</th>\n",
       "      <td>546481</td>\n",
       "      <td>treatment</td>\n",
       "      <td>new</td>\n",
       "      <td>6.20</td>\n",
       "      <td>yes</td>\n",
       "      <td>Spanish</td>\n",
       "    </tr>\n",
       "    <tr>\n",
       "      <th>99</th>\n",
       "      <td>546483</td>\n",
       "      <td>treatment</td>\n",
       "      <td>new</td>\n",
       "      <td>5.86</td>\n",
       "      <td>yes</td>\n",
       "      <td>English</td>\n",
       "    </tr>\n",
       "  </tbody>\n",
       "</table>\n",
       "</div>\n",
       "      <button class=\"colab-df-convert\" onclick=\"convertToInteractive('df-280c4ae8-d7c4-4816-a2cc-a39231cdb2c7')\"\n",
       "              title=\"Convert this dataframe to an interactive table.\"\n",
       "              style=\"display:none;\">\n",
       "        \n",
       "  <svg xmlns=\"http://www.w3.org/2000/svg\" height=\"24px\"viewBox=\"0 0 24 24\"\n",
       "       width=\"24px\">\n",
       "    <path d=\"M0 0h24v24H0V0z\" fill=\"none\"/>\n",
       "    <path d=\"M18.56 5.44l.94 2.06.94-2.06 2.06-.94-2.06-.94-.94-2.06-.94 2.06-2.06.94zm-11 1L8.5 8.5l.94-2.06 2.06-.94-2.06-.94L8.5 2.5l-.94 2.06-2.06.94zm10 10l.94 2.06.94-2.06 2.06-.94-2.06-.94-.94-2.06-.94 2.06-2.06.94z\"/><path d=\"M17.41 7.96l-1.37-1.37c-.4-.4-.92-.59-1.43-.59-.52 0-1.04.2-1.43.59L10.3 9.45l-7.72 7.72c-.78.78-.78 2.05 0 2.83L4 21.41c.39.39.9.59 1.41.59.51 0 1.02-.2 1.41-.59l7.78-7.78 2.81-2.81c.8-.78.8-2.07 0-2.86zM5.41 20L4 18.59l7.72-7.72 1.47 1.35L5.41 20z\"/>\n",
       "  </svg>\n",
       "      </button>\n",
       "      \n",
       "  <style>\n",
       "    .colab-df-container {\n",
       "      display:flex;\n",
       "      flex-wrap:wrap;\n",
       "      gap: 12px;\n",
       "    }\n",
       "\n",
       "    .colab-df-convert {\n",
       "      background-color: #E8F0FE;\n",
       "      border: none;\n",
       "      border-radius: 50%;\n",
       "      cursor: pointer;\n",
       "      display: none;\n",
       "      fill: #1967D2;\n",
       "      height: 32px;\n",
       "      padding: 0 0 0 0;\n",
       "      width: 32px;\n",
       "    }\n",
       "\n",
       "    .colab-df-convert:hover {\n",
       "      background-color: #E2EBFA;\n",
       "      box-shadow: 0px 1px 2px rgba(60, 64, 67, 0.3), 0px 1px 3px 1px rgba(60, 64, 67, 0.15);\n",
       "      fill: #174EA6;\n",
       "    }\n",
       "\n",
       "    [theme=dark] .colab-df-convert {\n",
       "      background-color: #3B4455;\n",
       "      fill: #D2E3FC;\n",
       "    }\n",
       "\n",
       "    [theme=dark] .colab-df-convert:hover {\n",
       "      background-color: #434B5C;\n",
       "      box-shadow: 0px 1px 3px 1px rgba(0, 0, 0, 0.15);\n",
       "      filter: drop-shadow(0px 1px 2px rgba(0, 0, 0, 0.3));\n",
       "      fill: #FFFFFF;\n",
       "    }\n",
       "  </style>\n",
       "\n",
       "      <script>\n",
       "        const buttonEl =\n",
       "          document.querySelector('#df-280c4ae8-d7c4-4816-a2cc-a39231cdb2c7 button.colab-df-convert');\n",
       "        buttonEl.style.display =\n",
       "          google.colab.kernel.accessAllowed ? 'block' : 'none';\n",
       "\n",
       "        async function convertToInteractive(key) {\n",
       "          const element = document.querySelector('#df-280c4ae8-d7c4-4816-a2cc-a39231cdb2c7');\n",
       "          const dataTable =\n",
       "            await google.colab.kernel.invokeFunction('convertToInteractive',\n",
       "                                                     [key], {});\n",
       "          if (!dataTable) return;\n",
       "\n",
       "          const docLinkHtml = 'Like what you see? Visit the ' +\n",
       "            '<a target=\"_blank\" href=https://colab.research.google.com/notebooks/data_table.ipynb>data table notebook</a>'\n",
       "            + ' to learn more about interactive tables.';\n",
       "          element.innerHTML = '';\n",
       "          dataTable['output_type'] = 'display_data';\n",
       "          await google.colab.output.renderOutput(dataTable, element);\n",
       "          const docLink = document.createElement('div');\n",
       "          docLink.innerHTML = docLinkHtml;\n",
       "          element.appendChild(docLink);\n",
       "        }\n",
       "      </script>\n",
       "    </div>\n",
       "  </div>\n",
       "  "
      ],
      "text/plain": [
       "    user_id      group landing_page  time_spent_on_the_page converted  \\\n",
       "95   546446  treatment          new                    5.15        no   \n",
       "96   546544    control          old                    6.52       yes   \n",
       "97   546472  treatment          new                    7.07       yes   \n",
       "98   546481  treatment          new                    6.20       yes   \n",
       "99   546483  treatment          new                    5.86       yes   \n",
       "\n",
       "   language_preferred  \n",
       "95            Spanish  \n",
       "96            English  \n",
       "97            Spanish  \n",
       "98            Spanish  \n",
       "99            English  "
      ]
     },
     "execution_count": 4,
     "metadata": {},
     "output_type": "execute_result"
    }
   ],
   "source": [
    "# peeking the last five rows\n",
    "df.tail()"
   ]
  },
  {
   "cell_type": "markdown",
   "id": "JOWQ70YFQkY6",
   "metadata": {
    "id": "JOWQ70YFQkY6"
   },
   "source": [
    "#### Observations: \n",
    "The dataset has 6 columns, and seemingly 100 rows. Data in each row corresponds to a single user ID randomly drawn for statistical tests. As expected, there are two groups of them, 'treatment' and 'control', corresponding to new and old pages, respectively. The time spent on the website, the language preferred by the user and whether the user has been converted to subscribe have been reported as well. We'll look into each colum in further detail in what follows."
   ]
  },
  {
   "cell_type": "markdown",
   "id": "9d75cfa2",
   "metadata": {
    "id": "9d75cfa2"
   },
   "source": [
    "## Explore the dataset and extract insights using Exploratory Data Analysis"
   ]
  },
  {
   "cell_type": "markdown",
   "id": "27201534",
   "metadata": {
    "id": "27201534"
   },
   "source": [
    "- Data Overview\n",
    "  - Checking the shape of the dataset\n",
    "  - Getting the statistical summary for the variables\n",
    "- Check for missing values\n",
    "- Check for duplicates"
   ]
  },
  {
   "cell_type": "code",
   "execution_count": 5,
   "id": "e1ad11d4",
   "metadata": {
    "colab": {
     "base_uri": "https://localhost:8080/"
    },
    "id": "e1ad11d4",
    "outputId": "90516a06-3a29-49dd-da3d-79a31ab7b79a"
   },
   "outputs": [
    {
     "name": "stdout",
     "output_type": "stream",
     "text": [
      "The dataset has 100 rows and 6 columns.\n"
     ]
    }
   ],
   "source": [
    "# Checking the shape of the dataset\n",
    "print('The dataset has', df.shape[0], 'rows and', df.shape[1], 'columns.')"
   ]
  },
  {
   "cell_type": "code",
   "execution_count": 6,
   "id": "beK9K5J-SJ5S",
   "metadata": {
    "colab": {
     "base_uri": "https://localhost:8080/"
    },
    "id": "beK9K5J-SJ5S",
    "outputId": "a45bbeb5-3163-4511-eaf5-f2f18aba6460"
   },
   "outputs": [
    {
     "name": "stdout",
     "output_type": "stream",
     "text": [
      "<class 'pandas.core.frame.DataFrame'>\n",
      "RangeIndex: 100 entries, 0 to 99\n",
      "Data columns (total 6 columns):\n",
      " #   Column                  Non-Null Count  Dtype  \n",
      "---  ------                  --------------  -----  \n",
      " 0   user_id                 100 non-null    int64  \n",
      " 1   group                   100 non-null    object \n",
      " 2   landing_page            100 non-null    object \n",
      " 3   time_spent_on_the_page  100 non-null    float64\n",
      " 4   converted               100 non-null    object \n",
      " 5   language_preferred      100 non-null    object \n",
      "dtypes: float64(1), int64(1), object(4)\n",
      "memory usage: 4.8+ KB\n"
     ]
    }
   ],
   "source": [
    "# General info on the dataset\n",
    "df.info()"
   ]
  },
  {
   "cell_type": "markdown",
   "id": "OrNf7uXBTRMU",
   "metadata": {
    "id": "OrNf7uXBTRMU"
   },
   "source": [
    "#### Observations:\n",
    "As discussed previously, there are six columns of data. Info method shows no null value for any of the columns, and it seems all entries have been properly filled. We'll further check this later. Except 'user_id', which is not a variable to be statistically analyzed, the only numerical variable is 'time_spent_on_the_page'. The other four columns are categorical (object) types.  "
   ]
  },
  {
   "cell_type": "code",
   "execution_count": 7,
   "id": "-qQe8ZJeSPAv",
   "metadata": {
    "colab": {
     "base_uri": "https://localhost:8080/",
     "height": 175
    },
    "id": "-qQe8ZJeSPAv",
    "outputId": "99e41b3a-92e0-4e5c-ab02-64ad69d79721"
   },
   "outputs": [
    {
     "data": {
      "text/html": [
       "\n",
       "  <div id=\"df-7f10c0e7-f65a-4683-ad8c-a92279fbe0e4\">\n",
       "    <div class=\"colab-df-container\">\n",
       "      <div>\n",
       "<style scoped>\n",
       "    .dataframe tbody tr th:only-of-type {\n",
       "        vertical-align: middle;\n",
       "    }\n",
       "\n",
       "    .dataframe tbody tr th {\n",
       "        vertical-align: top;\n",
       "    }\n",
       "\n",
       "    .dataframe thead th {\n",
       "        text-align: right;\n",
       "    }\n",
       "</style>\n",
       "<table border=\"1\" class=\"dataframe\">\n",
       "  <thead>\n",
       "    <tr style=\"text-align: right;\">\n",
       "      <th></th>\n",
       "      <th>count</th>\n",
       "      <th>unique</th>\n",
       "      <th>top</th>\n",
       "      <th>freq</th>\n",
       "    </tr>\n",
       "  </thead>\n",
       "  <tbody>\n",
       "    <tr>\n",
       "      <th>group</th>\n",
       "      <td>100</td>\n",
       "      <td>2</td>\n",
       "      <td>control</td>\n",
       "      <td>50</td>\n",
       "    </tr>\n",
       "    <tr>\n",
       "      <th>landing_page</th>\n",
       "      <td>100</td>\n",
       "      <td>2</td>\n",
       "      <td>old</td>\n",
       "      <td>50</td>\n",
       "    </tr>\n",
       "    <tr>\n",
       "      <th>converted</th>\n",
       "      <td>100</td>\n",
       "      <td>2</td>\n",
       "      <td>yes</td>\n",
       "      <td>54</td>\n",
       "    </tr>\n",
       "    <tr>\n",
       "      <th>language_preferred</th>\n",
       "      <td>100</td>\n",
       "      <td>3</td>\n",
       "      <td>Spanish</td>\n",
       "      <td>34</td>\n",
       "    </tr>\n",
       "  </tbody>\n",
       "</table>\n",
       "</div>\n",
       "      <button class=\"colab-df-convert\" onclick=\"convertToInteractive('df-7f10c0e7-f65a-4683-ad8c-a92279fbe0e4')\"\n",
       "              title=\"Convert this dataframe to an interactive table.\"\n",
       "              style=\"display:none;\">\n",
       "        \n",
       "  <svg xmlns=\"http://www.w3.org/2000/svg\" height=\"24px\"viewBox=\"0 0 24 24\"\n",
       "       width=\"24px\">\n",
       "    <path d=\"M0 0h24v24H0V0z\" fill=\"none\"/>\n",
       "    <path d=\"M18.56 5.44l.94 2.06.94-2.06 2.06-.94-2.06-.94-.94-2.06-.94 2.06-2.06.94zm-11 1L8.5 8.5l.94-2.06 2.06-.94-2.06-.94L8.5 2.5l-.94 2.06-2.06.94zm10 10l.94 2.06.94-2.06 2.06-.94-2.06-.94-.94-2.06-.94 2.06-2.06.94z\"/><path d=\"M17.41 7.96l-1.37-1.37c-.4-.4-.92-.59-1.43-.59-.52 0-1.04.2-1.43.59L10.3 9.45l-7.72 7.72c-.78.78-.78 2.05 0 2.83L4 21.41c.39.39.9.59 1.41.59.51 0 1.02-.2 1.41-.59l7.78-7.78 2.81-2.81c.8-.78.8-2.07 0-2.86zM5.41 20L4 18.59l7.72-7.72 1.47 1.35L5.41 20z\"/>\n",
       "  </svg>\n",
       "      </button>\n",
       "      \n",
       "  <style>\n",
       "    .colab-df-container {\n",
       "      display:flex;\n",
       "      flex-wrap:wrap;\n",
       "      gap: 12px;\n",
       "    }\n",
       "\n",
       "    .colab-df-convert {\n",
       "      background-color: #E8F0FE;\n",
       "      border: none;\n",
       "      border-radius: 50%;\n",
       "      cursor: pointer;\n",
       "      display: none;\n",
       "      fill: #1967D2;\n",
       "      height: 32px;\n",
       "      padding: 0 0 0 0;\n",
       "      width: 32px;\n",
       "    }\n",
       "\n",
       "    .colab-df-convert:hover {\n",
       "      background-color: #E2EBFA;\n",
       "      box-shadow: 0px 1px 2px rgba(60, 64, 67, 0.3), 0px 1px 3px 1px rgba(60, 64, 67, 0.15);\n",
       "      fill: #174EA6;\n",
       "    }\n",
       "\n",
       "    [theme=dark] .colab-df-convert {\n",
       "      background-color: #3B4455;\n",
       "      fill: #D2E3FC;\n",
       "    }\n",
       "\n",
       "    [theme=dark] .colab-df-convert:hover {\n",
       "      background-color: #434B5C;\n",
       "      box-shadow: 0px 1px 3px 1px rgba(0, 0, 0, 0.15);\n",
       "      filter: drop-shadow(0px 1px 2px rgba(0, 0, 0, 0.3));\n",
       "      fill: #FFFFFF;\n",
       "    }\n",
       "  </style>\n",
       "\n",
       "      <script>\n",
       "        const buttonEl =\n",
       "          document.querySelector('#df-7f10c0e7-f65a-4683-ad8c-a92279fbe0e4 button.colab-df-convert');\n",
       "        buttonEl.style.display =\n",
       "          google.colab.kernel.accessAllowed ? 'block' : 'none';\n",
       "\n",
       "        async function convertToInteractive(key) {\n",
       "          const element = document.querySelector('#df-7f10c0e7-f65a-4683-ad8c-a92279fbe0e4');\n",
       "          const dataTable =\n",
       "            await google.colab.kernel.invokeFunction('convertToInteractive',\n",
       "                                                     [key], {});\n",
       "          if (!dataTable) return;\n",
       "\n",
       "          const docLinkHtml = 'Like what you see? Visit the ' +\n",
       "            '<a target=\"_blank\" href=https://colab.research.google.com/notebooks/data_table.ipynb>data table notebook</a>'\n",
       "            + ' to learn more about interactive tables.';\n",
       "          element.innerHTML = '';\n",
       "          dataTable['output_type'] = 'display_data';\n",
       "          await google.colab.output.renderOutput(dataTable, element);\n",
       "          const docLink = document.createElement('div');\n",
       "          docLink.innerHTML = docLinkHtml;\n",
       "          element.appendChild(docLink);\n",
       "        }\n",
       "      </script>\n",
       "    </div>\n",
       "  </div>\n",
       "  "
      ],
      "text/plain": [
       "                   count unique      top freq\n",
       "group                100      2  control   50\n",
       "landing_page         100      2      old   50\n",
       "converted            100      2      yes   54\n",
       "language_preferred   100      3  Spanish   34"
      ]
     },
     "execution_count": 7,
     "metadata": {},
     "output_type": "execute_result"
    }
   ],
   "source": [
    "# Statistical summary of the dataset (categorical variables)\n",
    "df.describe(include = object).T"
   ]
  },
  {
   "cell_type": "code",
   "execution_count": 8,
   "id": "8q0qq-IxStvY",
   "metadata": {
    "colab": {
     "base_uri": "https://localhost:8080/",
     "height": 112
    },
    "id": "8q0qq-IxStvY",
    "outputId": "2c2802d1-a56d-4e99-cf5f-db1e75ef84cb"
   },
   "outputs": [
    {
     "data": {
      "text/html": [
       "\n",
       "  <div id=\"df-c4de0cf1-fb45-4ac2-a387-bccf903b960a\">\n",
       "    <div class=\"colab-df-container\">\n",
       "      <div>\n",
       "<style scoped>\n",
       "    .dataframe tbody tr th:only-of-type {\n",
       "        vertical-align: middle;\n",
       "    }\n",
       "\n",
       "    .dataframe tbody tr th {\n",
       "        vertical-align: top;\n",
       "    }\n",
       "\n",
       "    .dataframe thead th {\n",
       "        text-align: right;\n",
       "    }\n",
       "</style>\n",
       "<table border=\"1\" class=\"dataframe\">\n",
       "  <thead>\n",
       "    <tr style=\"text-align: right;\">\n",
       "      <th></th>\n",
       "      <th>count</th>\n",
       "      <th>mean</th>\n",
       "      <th>std</th>\n",
       "      <th>min</th>\n",
       "      <th>25%</th>\n",
       "      <th>50%</th>\n",
       "      <th>75%</th>\n",
       "      <th>max</th>\n",
       "    </tr>\n",
       "  </thead>\n",
       "  <tbody>\n",
       "    <tr>\n",
       "      <th>user_id</th>\n",
       "      <td>100.00</td>\n",
       "      <td>546517.00</td>\n",
       "      <td>52.30</td>\n",
       "      <td>546443.00</td>\n",
       "      <td>546467.75</td>\n",
       "      <td>546492.50</td>\n",
       "      <td>546567.25</td>\n",
       "      <td>546592.00</td>\n",
       "    </tr>\n",
       "    <tr>\n",
       "      <th>time_spent_on_the_page</th>\n",
       "      <td>100.00</td>\n",
       "      <td>5.38</td>\n",
       "      <td>2.38</td>\n",
       "      <td>0.19</td>\n",
       "      <td>3.88</td>\n",
       "      <td>5.42</td>\n",
       "      <td>7.02</td>\n",
       "      <td>10.71</td>\n",
       "    </tr>\n",
       "  </tbody>\n",
       "</table>\n",
       "</div>\n",
       "      <button class=\"colab-df-convert\" onclick=\"convertToInteractive('df-c4de0cf1-fb45-4ac2-a387-bccf903b960a')\"\n",
       "              title=\"Convert this dataframe to an interactive table.\"\n",
       "              style=\"display:none;\">\n",
       "        \n",
       "  <svg xmlns=\"http://www.w3.org/2000/svg\" height=\"24px\"viewBox=\"0 0 24 24\"\n",
       "       width=\"24px\">\n",
       "    <path d=\"M0 0h24v24H0V0z\" fill=\"none\"/>\n",
       "    <path d=\"M18.56 5.44l.94 2.06.94-2.06 2.06-.94-2.06-.94-.94-2.06-.94 2.06-2.06.94zm-11 1L8.5 8.5l.94-2.06 2.06-.94-2.06-.94L8.5 2.5l-.94 2.06-2.06.94zm10 10l.94 2.06.94-2.06 2.06-.94-2.06-.94-.94-2.06-.94 2.06-2.06.94z\"/><path d=\"M17.41 7.96l-1.37-1.37c-.4-.4-.92-.59-1.43-.59-.52 0-1.04.2-1.43.59L10.3 9.45l-7.72 7.72c-.78.78-.78 2.05 0 2.83L4 21.41c.39.39.9.59 1.41.59.51 0 1.02-.2 1.41-.59l7.78-7.78 2.81-2.81c.8-.78.8-2.07 0-2.86zM5.41 20L4 18.59l7.72-7.72 1.47 1.35L5.41 20z\"/>\n",
       "  </svg>\n",
       "      </button>\n",
       "      \n",
       "  <style>\n",
       "    .colab-df-container {\n",
       "      display:flex;\n",
       "      flex-wrap:wrap;\n",
       "      gap: 12px;\n",
       "    }\n",
       "\n",
       "    .colab-df-convert {\n",
       "      background-color: #E8F0FE;\n",
       "      border: none;\n",
       "      border-radius: 50%;\n",
       "      cursor: pointer;\n",
       "      display: none;\n",
       "      fill: #1967D2;\n",
       "      height: 32px;\n",
       "      padding: 0 0 0 0;\n",
       "      width: 32px;\n",
       "    }\n",
       "\n",
       "    .colab-df-convert:hover {\n",
       "      background-color: #E2EBFA;\n",
       "      box-shadow: 0px 1px 2px rgba(60, 64, 67, 0.3), 0px 1px 3px 1px rgba(60, 64, 67, 0.15);\n",
       "      fill: #174EA6;\n",
       "    }\n",
       "\n",
       "    [theme=dark] .colab-df-convert {\n",
       "      background-color: #3B4455;\n",
       "      fill: #D2E3FC;\n",
       "    }\n",
       "\n",
       "    [theme=dark] .colab-df-convert:hover {\n",
       "      background-color: #434B5C;\n",
       "      box-shadow: 0px 1px 3px 1px rgba(0, 0, 0, 0.15);\n",
       "      filter: drop-shadow(0px 1px 2px rgba(0, 0, 0, 0.3));\n",
       "      fill: #FFFFFF;\n",
       "    }\n",
       "  </style>\n",
       "\n",
       "      <script>\n",
       "        const buttonEl =\n",
       "          document.querySelector('#df-c4de0cf1-fb45-4ac2-a387-bccf903b960a button.colab-df-convert');\n",
       "        buttonEl.style.display =\n",
       "          google.colab.kernel.accessAllowed ? 'block' : 'none';\n",
       "\n",
       "        async function convertToInteractive(key) {\n",
       "          const element = document.querySelector('#df-c4de0cf1-fb45-4ac2-a387-bccf903b960a');\n",
       "          const dataTable =\n",
       "            await google.colab.kernel.invokeFunction('convertToInteractive',\n",
       "                                                     [key], {});\n",
       "          if (!dataTable) return;\n",
       "\n",
       "          const docLinkHtml = 'Like what you see? Visit the ' +\n",
       "            '<a target=\"_blank\" href=https://colab.research.google.com/notebooks/data_table.ipynb>data table notebook</a>'\n",
       "            + ' to learn more about interactive tables.';\n",
       "          element.innerHTML = '';\n",
       "          dataTable['output_type'] = 'display_data';\n",
       "          await google.colab.output.renderOutput(dataTable, element);\n",
       "          const docLink = document.createElement('div');\n",
       "          docLink.innerHTML = docLinkHtml;\n",
       "          element.appendChild(docLink);\n",
       "        }\n",
       "      </script>\n",
       "    </div>\n",
       "  </div>\n",
       "  "
      ],
      "text/plain": [
       "                        count      mean   std       min       25%       50%  \\\n",
       "user_id                100.00 546517.00 52.30 546443.00 546467.75 546492.50   \n",
       "time_spent_on_the_page 100.00      5.38  2.38      0.19      3.88      5.42   \n",
       "\n",
       "                             75%       max  \n",
       "user_id                546567.25 546592.00  \n",
       "time_spent_on_the_page      7.02     10.71  "
      ]
     },
     "execution_count": 8,
     "metadata": {},
     "output_type": "execute_result"
    }
   ],
   "source": [
    "# Statistical summary of the dataset (numerical variables)\n",
    "df.describe().T"
   ]
  },
  {
   "cell_type": "markdown",
   "id": "EtZ370t_TbLi",
   "metadata": {
    "id": "EtZ370t_TbLi"
   },
   "source": [
    "#### Observations:\n",
    "\n",
    "Categorical:\n",
    "\n",
    "*   There are two groups of users: control and treatment, and since the frequency of control is 50, we can conclude that the users are equally split between the two groups.\n",
    "*   As anticipated, there are two sets of landing pages: old and new, with identical frequency. We note that there is a one-to-one correspondence between old/new pages and control/treatment groups. \n",
    "*   There are two types of entries for 'converted' column: yes and no. The majority of the users (54) have been convinced to subscribe.\n",
    "*   There are three types of languages, with Spanish being the most reocurring one. We'll later see that in fact, Spanish has the same frequency as French.\n",
    "\n",
    "Numerical:\n",
    "\n",
    "*   There are 100 user IDs, but the max - min > 99, i.e., not all IDs between the minimum and maximum have been selected, somewhat evidencing the randomness. \n",
    "* The time spent on the website lies in the fairly wide range of 0.19 min. to 10.71 mins. Note that the max and min are two orders of magnitude different. The average falls somewhere in between (5.38 mins.), which is very close to the median time (5.42 mins.). The standard deviation $s =  $ 2.38 mins. is expectedly and noticeably large (nearly 50% of the mean).     \n",
    "\n",
    "\n"
   ]
  },
  {
   "cell_type": "code",
   "execution_count": 9,
   "id": "48nKs0FcZp65",
   "metadata": {
    "colab": {
     "base_uri": "https://localhost:8080/"
    },
    "id": "48nKs0FcZp65",
    "outputId": "82f6f820-a1e9-4ad8-d4d2-27257d1f4bc8"
   },
   "outputs": [
    {
     "name": "stdout",
     "output_type": "stream",
     "text": [
      "Dataset has 0 missing entries.\n",
      "Dataset has 0 duplicated rows.\n"
     ]
    }
   ],
   "source": [
    "# Checking for missing and duplicated entries\n",
    "\n",
    "print('Dataset has', df.isnull().sum().sum(), 'missing entries.')\n",
    "print('Dataset has', df.duplicated().sum(), 'duplicated rows.')"
   ]
  },
  {
   "cell_type": "markdown",
   "id": "6LjKbyD3aiX-",
   "metadata": {
    "id": "6LjKbyD3aiX-"
   },
   "source": [
    "#### Observations:\n",
    "\n",
    "The dataset has NO missing values or duplicated rows."
   ]
  },
  {
   "cell_type": "code",
   "execution_count": 10,
   "id": "HizfnluoahJD",
   "metadata": {
    "colab": {
     "base_uri": "https://localhost:8080/"
    },
    "id": "HizfnluoahJD",
    "outputId": "c0c6241d-1dbd-4679-cae4-bcbbc6fb0a9d"
   },
   "outputs": [
    {
     "name": "stdout",
     "output_type": "stream",
     "text": [
      "Number of users in the control group visiting the new page: 0\n",
      "Number of users in the treatment group visiting the old page: 0\n"
     ]
    }
   ],
   "source": [
    "# Checking the correspondence between the landing page and user group\n",
    "\n",
    "print('Number of users in the control group visiting the new page:', \n",
    "      df.loc[(df['landing_page'] == 'new') & (df['group'] == 'control')].shape[0])\n",
    "print('Number of users in the treatment group visiting the old page:', \n",
    "      df.loc[(df['landing_page'] == 'old') & (df['group'] == 'treatment')].shape[0])"
   ]
  },
  {
   "cell_type": "markdown",
   "id": "c748fFIObC4i",
   "metadata": {
    "id": "c748fFIObC4i"
   },
   "source": [
    "#### Observations:\n",
    "This shows that the old page fully corresponds to the control group, and the new page completely overlaps with the treatment group. These 'group' and 'landing_page' columns can thus be used interchangeably."
   ]
  },
  {
   "cell_type": "markdown",
   "id": "OxeSaUFWbbxA",
   "metadata": {
    "id": "OxeSaUFWbbxA"
   },
   "source": [
    "### Renaming the Columns:\n",
    "For convenience, we rename a couple of columns with inconveniently long names."
   ]
  },
  {
   "cell_type": "code",
   "execution_count": 11,
   "id": "ofXbD9Zvbanv",
   "metadata": {
    "colab": {
     "base_uri": "https://localhost:8080/",
     "height": 206
    },
    "id": "ofXbD9Zvbanv",
    "outputId": "d903dce0-b37d-4038-ad01-3457c78df3fd"
   },
   "outputs": [
    {
     "data": {
      "text/html": [
       "\n",
       "  <div id=\"df-4f0137b1-2f74-48f0-bd6f-317d819db7fd\">\n",
       "    <div class=\"colab-df-container\">\n",
       "      <div>\n",
       "<style scoped>\n",
       "    .dataframe tbody tr th:only-of-type {\n",
       "        vertical-align: middle;\n",
       "    }\n",
       "\n",
       "    .dataframe tbody tr th {\n",
       "        vertical-align: top;\n",
       "    }\n",
       "\n",
       "    .dataframe thead th {\n",
       "        text-align: right;\n",
       "    }\n",
       "</style>\n",
       "<table border=\"1\" class=\"dataframe\">\n",
       "  <thead>\n",
       "    <tr style=\"text-align: right;\">\n",
       "      <th></th>\n",
       "      <th>user_id</th>\n",
       "      <th>group</th>\n",
       "      <th>landing_page</th>\n",
       "      <th>spent_time</th>\n",
       "      <th>converted</th>\n",
       "      <th>language</th>\n",
       "    </tr>\n",
       "  </thead>\n",
       "  <tbody>\n",
       "    <tr>\n",
       "      <th>0</th>\n",
       "      <td>546592</td>\n",
       "      <td>control</td>\n",
       "      <td>old</td>\n",
       "      <td>3.48</td>\n",
       "      <td>no</td>\n",
       "      <td>Spanish</td>\n",
       "    </tr>\n",
       "    <tr>\n",
       "      <th>1</th>\n",
       "      <td>546468</td>\n",
       "      <td>treatment</td>\n",
       "      <td>new</td>\n",
       "      <td>7.13</td>\n",
       "      <td>yes</td>\n",
       "      <td>English</td>\n",
       "    </tr>\n",
       "    <tr>\n",
       "      <th>2</th>\n",
       "      <td>546462</td>\n",
       "      <td>treatment</td>\n",
       "      <td>new</td>\n",
       "      <td>4.40</td>\n",
       "      <td>no</td>\n",
       "      <td>Spanish</td>\n",
       "    </tr>\n",
       "    <tr>\n",
       "      <th>3</th>\n",
       "      <td>546567</td>\n",
       "      <td>control</td>\n",
       "      <td>old</td>\n",
       "      <td>3.02</td>\n",
       "      <td>no</td>\n",
       "      <td>French</td>\n",
       "    </tr>\n",
       "    <tr>\n",
       "      <th>4</th>\n",
       "      <td>546459</td>\n",
       "      <td>treatment</td>\n",
       "      <td>new</td>\n",
       "      <td>4.75</td>\n",
       "      <td>yes</td>\n",
       "      <td>Spanish</td>\n",
       "    </tr>\n",
       "  </tbody>\n",
       "</table>\n",
       "</div>\n",
       "      <button class=\"colab-df-convert\" onclick=\"convertToInteractive('df-4f0137b1-2f74-48f0-bd6f-317d819db7fd')\"\n",
       "              title=\"Convert this dataframe to an interactive table.\"\n",
       "              style=\"display:none;\">\n",
       "        \n",
       "  <svg xmlns=\"http://www.w3.org/2000/svg\" height=\"24px\"viewBox=\"0 0 24 24\"\n",
       "       width=\"24px\">\n",
       "    <path d=\"M0 0h24v24H0V0z\" fill=\"none\"/>\n",
       "    <path d=\"M18.56 5.44l.94 2.06.94-2.06 2.06-.94-2.06-.94-.94-2.06-.94 2.06-2.06.94zm-11 1L8.5 8.5l.94-2.06 2.06-.94-2.06-.94L8.5 2.5l-.94 2.06-2.06.94zm10 10l.94 2.06.94-2.06 2.06-.94-2.06-.94-.94-2.06-.94 2.06-2.06.94z\"/><path d=\"M17.41 7.96l-1.37-1.37c-.4-.4-.92-.59-1.43-.59-.52 0-1.04.2-1.43.59L10.3 9.45l-7.72 7.72c-.78.78-.78 2.05 0 2.83L4 21.41c.39.39.9.59 1.41.59.51 0 1.02-.2 1.41-.59l7.78-7.78 2.81-2.81c.8-.78.8-2.07 0-2.86zM5.41 20L4 18.59l7.72-7.72 1.47 1.35L5.41 20z\"/>\n",
       "  </svg>\n",
       "      </button>\n",
       "      \n",
       "  <style>\n",
       "    .colab-df-container {\n",
       "      display:flex;\n",
       "      flex-wrap:wrap;\n",
       "      gap: 12px;\n",
       "    }\n",
       "\n",
       "    .colab-df-convert {\n",
       "      background-color: #E8F0FE;\n",
       "      border: none;\n",
       "      border-radius: 50%;\n",
       "      cursor: pointer;\n",
       "      display: none;\n",
       "      fill: #1967D2;\n",
       "      height: 32px;\n",
       "      padding: 0 0 0 0;\n",
       "      width: 32px;\n",
       "    }\n",
       "\n",
       "    .colab-df-convert:hover {\n",
       "      background-color: #E2EBFA;\n",
       "      box-shadow: 0px 1px 2px rgba(60, 64, 67, 0.3), 0px 1px 3px 1px rgba(60, 64, 67, 0.15);\n",
       "      fill: #174EA6;\n",
       "    }\n",
       "\n",
       "    [theme=dark] .colab-df-convert {\n",
       "      background-color: #3B4455;\n",
       "      fill: #D2E3FC;\n",
       "    }\n",
       "\n",
       "    [theme=dark] .colab-df-convert:hover {\n",
       "      background-color: #434B5C;\n",
       "      box-shadow: 0px 1px 3px 1px rgba(0, 0, 0, 0.15);\n",
       "      filter: drop-shadow(0px 1px 2px rgba(0, 0, 0, 0.3));\n",
       "      fill: #FFFFFF;\n",
       "    }\n",
       "  </style>\n",
       "\n",
       "      <script>\n",
       "        const buttonEl =\n",
       "          document.querySelector('#df-4f0137b1-2f74-48f0-bd6f-317d819db7fd button.colab-df-convert');\n",
       "        buttonEl.style.display =\n",
       "          google.colab.kernel.accessAllowed ? 'block' : 'none';\n",
       "\n",
       "        async function convertToInteractive(key) {\n",
       "          const element = document.querySelector('#df-4f0137b1-2f74-48f0-bd6f-317d819db7fd');\n",
       "          const dataTable =\n",
       "            await google.colab.kernel.invokeFunction('convertToInteractive',\n",
       "                                                     [key], {});\n",
       "          if (!dataTable) return;\n",
       "\n",
       "          const docLinkHtml = 'Like what you see? Visit the ' +\n",
       "            '<a target=\"_blank\" href=https://colab.research.google.com/notebooks/data_table.ipynb>data table notebook</a>'\n",
       "            + ' to learn more about interactive tables.';\n",
       "          element.innerHTML = '';\n",
       "          dataTable['output_type'] = 'display_data';\n",
       "          await google.colab.output.renderOutput(dataTable, element);\n",
       "          const docLink = document.createElement('div');\n",
       "          docLink.innerHTML = docLinkHtml;\n",
       "          element.appendChild(docLink);\n",
       "        }\n",
       "      </script>\n",
       "    </div>\n",
       "  </div>\n",
       "  "
      ],
      "text/plain": [
       "   user_id      group landing_page  spent_time converted language\n",
       "0   546592    control          old        3.48        no  Spanish\n",
       "1   546468  treatment          new        7.13       yes  English\n",
       "2   546462  treatment          new        4.40        no  Spanish\n",
       "3   546567    control          old        3.02        no   French\n",
       "4   546459  treatment          new        4.75       yes  Spanish"
      ]
     },
     "execution_count": 11,
     "metadata": {},
     "output_type": "execute_result"
    }
   ],
   "source": [
    "# Renaming columns with long names\n",
    "df.rename(columns = {'language_preferred': 'language', 'time_spent_on_the_page': 'spent_time'}, inplace = True)\n",
    "\n",
    "# Ensuring the changes have been applied \n",
    "df.head()"
   ]
  },
  {
   "cell_type": "markdown",
   "id": "68f3b2c9",
   "metadata": {
    "id": "68f3b2c9"
   },
   "source": [
    "### Univariate Analysis"
   ]
  },
  {
   "cell_type": "markdown",
   "id": "pOVz30w6i9pM",
   "metadata": {
    "id": "pOVz30w6i9pM"
   },
   "source": [
    "#### User ID:"
   ]
  },
  {
   "cell_type": "code",
   "execution_count": 12,
   "id": "1932d0f3",
   "metadata": {
    "colab": {
     "base_uri": "https://localhost:8080/"
    },
    "id": "1932d0f3",
    "outputId": "dc95ae99-800b-453a-8bce-fb8f93e1b982"
   },
   "outputs": [
    {
     "name": "stdout",
     "output_type": "stream",
     "text": [
      "# of unique user IDs: 100\n",
      "Minimum order ID: 546443\n",
      "Maximum order ID: 546592\n",
      "Difference between the maximum and minimum: 149\n"
     ]
    }
   ],
   "source": [
    "# Exploring User IDs:\n",
    "\n",
    "print('# of unique user IDs:', df['user_id'].nunique())\n",
    "print('Minimum order ID:', df['user_id'].min())\n",
    "print('Maximum order ID:', df['user_id'].max())\n",
    "print('Difference between the maximum and minimum:', df['user_id'].max() - df['user_id'].min())"
   ]
  },
  {
   "cell_type": "markdown",
   "id": "paxse6h6j7TR",
   "metadata": {
    "id": "paxse6h6j7TR"
   },
   "source": [
    "#### Observations:\n",
    "Although there are 100 unique IDs, they haven't been selected from 100 back to back numbers, which is expected, since the users chosen for the study are selected via simple random sampling."
   ]
  },
  {
   "cell_type": "markdown",
   "id": "GxOuF59sjCgy",
   "metadata": {
    "id": "GxOuF59sjCgy"
   },
   "source": [
    "#### Study Group:"
   ]
  },
  {
   "cell_type": "code",
   "execution_count": 13,
   "id": "uwFYnKOLkePs",
   "metadata": {
    "colab": {
     "base_uri": "https://localhost:8080/",
     "height": 340
    },
    "id": "uwFYnKOLkePs",
    "outputId": "d9507423-6056-45f0-956e-ebb79efd47ee"
   },
   "outputs": [
    {
     "name": "stdout",
     "output_type": "stream",
     "text": [
      "control      50\n",
      "treatment    50\n",
      "Name: group, dtype: int64\n"
     ]
    },
    {
     "data": {
      "image/png": "[encoded data removed]",
      "text/plain": [
       "<Figure size 432x288 with 1 Axes>"
      ]
     },
     "metadata": {},
     "output_type": "display_data"
    }
   ],
   "source": [
    "# Exploring study groups\n",
    "\n",
    "print(df['group'].value_counts())\n",
    "plt.figure(figsize = (6, 4))\n",
    "cntplt = sns.countplot(data = df, x = 'group');\n",
    "cntplt.set_xticklabels(['Control', 'Treatment']);\n",
    "plt.xlabel('Group');\n",
    "plt.ylabel('Count');"
   ]
  },
  {
   "cell_type": "markdown",
   "id": "FStWVZtljHlx",
   "metadata": {
    "id": "FStWVZtljHlx"
   },
   "source": [
    "#### Observations:\n",
    "As noted before, the users chosen for this study have been equally divided into two groups of control and treatment, each with 50 members.  "
   ]
  },
  {
   "cell_type": "markdown",
   "id": "3DkrKTBMmEFo",
   "metadata": {
    "id": "3DkrKTBMmEFo"
   },
   "source": [
    "#### Landing Pages:"
   ]
  },
  {
   "cell_type": "code",
   "execution_count": 14,
   "id": "GBBP105LjXab",
   "metadata": {
    "colab": {
     "base_uri": "https://localhost:8080/",
     "height": 340
    },
    "id": "GBBP105LjXab",
    "outputId": "94cdb3da-8a9d-47aa-acf9-2ffe05a85f5c"
   },
   "outputs": [
    {
     "name": "stdout",
     "output_type": "stream",
     "text": [
      "old    50\n",
      "new    50\n",
      "Name: landing_page, dtype: int64\n"
     ]
    },
    {
     "data": {
      "image/png": "[encoded data removed]",
      "text/plain": [
       "<Figure size 432x288 with 1 Axes>"
      ]
     },
     "metadata": {},
     "output_type": "display_data"
    }
   ],
   "source": [
    "# Exploring landing pages\n",
    "\n",
    "print(df['landing_page'].value_counts())\n",
    "plt.figure(figsize = (6, 4))\n",
    "cntplt = sns.countplot(data = df, x = 'landing_page');\n",
    "cntplt.set_xticklabels(['Old', 'New']);\n",
    "plt.xlabel('Landing Page');\n",
    "plt.ylabel('Count');"
   ]
  },
  {
   "cell_type": "markdown",
   "id": "kSmb32MYmeeP",
   "metadata": {
    "id": "kSmb32MYmeeP"
   },
   "source": [
    "#### Observations:\n",
    "As noted before, there is a one-to-one correspondence between the control/treatment groups and the old/new landing pages, so not surprisingly, landing pages are also split equally into two groups of old and new, each with 50 entries."
   ]
  },
  {
   "cell_type": "markdown",
   "id": "OqvUbsoZjYLX",
   "metadata": {
    "id": "OqvUbsoZjYLX"
   },
   "source": [
    "#### Conversion:"
   ]
  },
  {
   "cell_type": "code",
   "execution_count": 15,
   "id": "IDVXW5oMje-T",
   "metadata": {
    "colab": {
     "base_uri": "https://localhost:8080/",
     "height": 340
    },
    "id": "IDVXW5oMje-T",
    "outputId": "2c451927-7e66-4d13-c43d-a775414f0eae"
   },
   "outputs": [
    {
     "name": "stdout",
     "output_type": "stream",
     "text": [
      "yes    54\n",
      "no     46\n",
      "Name: converted, dtype: int64\n"
     ]
    },
    {
     "data": {
      "image/png": "[encoded data removed]",
      "text/plain": [
       "<Figure size 432x288 with 1 Axes>"
      ]
     },
     "metadata": {},
     "output_type": "display_data"
    }
   ],
   "source": [
    "# Exploring conversion of a user into a subscriber\n",
    "\n",
    "print(df['converted'].value_counts())\n",
    "plt.figure(figsize = (6, 4))\n",
    "cntplt = sns.countplot(data = df, x = 'converted', order = ['yes', 'no']);\n",
    "cntplt.set_xticklabels(['Yes', 'No']);\n",
    "plt.xlabel('Converted');\n",
    "plt.ylabel('Count');"
   ]
  },
  {
   "cell_type": "markdown",
   "id": "FO6Gd9huZCyZ",
   "metadata": {
    "id": "FO6Gd9huZCyZ"
   },
   "source": [
    "#### Observations:\n",
    "The majority of studied users (54 of them to be exact) have been convinced to subscribe, or, equivalently, have been converted. "
   ]
  },
  {
   "cell_type": "markdown",
   "id": "q9vMumvQjfWN",
   "metadata": {
    "id": "q9vMumvQjfWN"
   },
   "source": [
    "#### Preferred Languages:"
   ]
  },
  {
   "cell_type": "code",
   "execution_count": 16,
   "id": "9R5xNGQxjiyp",
   "metadata": {
    "colab": {
     "base_uri": "https://localhost:8080/",
     "height": 358
    },
    "id": "9R5xNGQxjiyp",
    "outputId": "d379b9ce-59ad-4e09-f720-61d2aa4dc99c"
   },
   "outputs": [
    {
     "name": "stdout",
     "output_type": "stream",
     "text": [
      "Spanish    34\n",
      "French     34\n",
      "English    32\n",
      "Name: language, dtype: int64\n"
     ]
    },
    {
     "data": {
      "image/png": "[encoded data removed]",
      "text/plain": [
       "<Figure size 432x288 with 1 Axes>"
      ]
     },
     "metadata": {},
     "output_type": "display_data"
    }
   ],
   "source": [
    "# Exploring language preferences of users\n",
    "\n",
    "print(df['language'].value_counts())\n",
    "plt.figure(figsize = (6, 4))\n",
    "sns.countplot(data = df, x = 'language', order = ['English', 'French', 'Spanish']);\n",
    "plt.xlabel('Language');\n",
    "plt.ylabel('Count');"
   ]
  },
  {
   "cell_type": "markdown",
   "id": "T_c2N1HVp-HS",
   "metadata": {
    "id": "T_c2N1HVp-HS"
   },
   "source": [
    "#### Observations:\n",
    "All three categories of language have been nearly equally represented in the sample, with Spanish and French being slightly more frequent than English."
   ]
  },
  {
   "cell_type": "markdown",
   "id": "Cu4M1DG7qlD9",
   "metadata": {
    "id": "Cu4M1DG7qlD9"
   },
   "source": [
    "#### Time Spent on the Landing Pages:"
   ]
  },
  {
   "cell_type": "code",
   "execution_count": 17,
   "id": "ceBMhNuJqyVQ",
   "metadata": {
    "colab": {
     "base_uri": "https://localhost:8080/",
     "height": 342
    },
    "id": "ceBMhNuJqyVQ",
    "outputId": "ab898ae6-99d7-4d94-f976-b7691f915825"
   },
   "outputs": [
    {
     "data": {
      "image/png": "[encoded data removed]",
      "text/plain": [
       "<Figure size 1080x360 with 2 Axes>"
      ]
     },
     "metadata": {},
     "output_type": "display_data"
    }
   ],
   "source": [
    "# Exploring the time spent on the pages by users\n",
    "\n",
    "# Histogram\n",
    "plt.figure(figsize = (15, 5))\n",
    "plt.subplot(121)\n",
    "sns.histplot(data = df, x = 'spent_time', bins = 11, binrange = (0, 11), kde = True);\n",
    "plt.xlabel('Spent Time (min.)');\n",
    "plt.ylabel('Count');\n",
    "\n",
    "# Boxplot\n",
    "plt.subplot(122)\n",
    "sns.boxplot(data = df, x = 'spent_time');\n",
    "plt.xlabel('Spent Time (min.)');\n"
   ]
  },
  {
   "cell_type": "markdown",
   "id": "-rRpRRk_qxpp",
   "metadata": {
    "id": "-rRpRRk_qxpp"
   },
   "source": [
    "#### Observations:\n",
    "\n",
    "\n",
    "*   The distribution of the time spent on the websites is fairly (but not exactly) normal, and it's not skewed to any certain direction.\n",
    "*   The box plot corroborates this observation by showing that the median resides almost in the middle (5.42 min.), the two whiskers have nearly the same length, and the time spent on the pages has no outliers.\n",
    "\n"
   ]
  },
  {
   "cell_type": "markdown",
   "id": "fad2de2f",
   "metadata": {
    "id": "fad2de2f"
   },
   "source": [
    "### Bivariate Analysis\n",
    "\n",
    "We first investigate the impact of all categorical variebles on the time spent on the webpages. We then repeat the same procedure but this time after separating users into two groups (control and treatment), and study each individually. Recall that 'landing_page' and 'group' basically show the same thing, so studying one of them is enough."
   ]
  },
  {
   "cell_type": "markdown",
   "id": "YRz4pD3g-ykW",
   "metadata": {
    "id": "YRz4pD3g-ykW"
   },
   "source": [
    "#### Spent Time vs. Landing Page"
   ]
  },
  {
   "cell_type": "code",
   "execution_count": 18,
   "id": "58e9a1d0",
   "metadata": {
    "colab": {
     "base_uri": "https://localhost:8080/",
     "height": 429
    },
    "id": "58e9a1d0",
    "outputId": "fad6aac4-7d01-462c-8291-6e663b9fcb7c"
   },
   "outputs": [
    {
     "name": "stdout",
     "output_type": "stream",
     "text": [
      "The average time spent by users on each landing page (min.):\n"
     ]
    },
    {
     "data": {
      "text/plain": [
       "landing_page\n",
       "new   6.22\n",
       "old   4.53\n",
       "Name: spent_time, dtype: float64"
      ]
     },
     "execution_count": 18,
     "metadata": {},
     "output_type": "execute_result"
    },
    {
     "data": {
      "image/png": "[encoded data removed]",
      "text/plain": [
       "<Figure size 648x360 with 1 Axes>"
      ]
     },
     "metadata": {},
     "output_type": "display_data"
    }
   ],
   "source": [
    "# Comparing the effect of old/new webpages on the time spent on them by users \n",
    "\n",
    "plt.figure(figsize = (9, 5));\n",
    "bxplt = sns.boxplot(data = df, x = 'spent_time', y = 'landing_page');\n",
    "plt.xlabel('Spent Time (min.)');\n",
    "plt.ylabel('Landing Page');\n",
    "bxplt.set_yticklabels(['Old', 'New']);\n",
    "\n",
    "print('The average time spent by users on each landing page (min.):')\n",
    "df.groupby('landing_page')['spent_time'].mean()"
   ]
  },
  {
   "cell_type": "markdown",
   "id": "09FrJQ55-6Ti",
   "metadata": {
    "id": "09FrJQ55-6Ti"
   },
   "source": [
    "#### Spent Time vs. Conversion Status"
   ]
  },
  {
   "cell_type": "code",
   "execution_count": 19,
   "id": "rPV3qicx-_b_",
   "metadata": {
    "colab": {
     "base_uri": "https://localhost:8080/",
     "height": 429
    },
    "id": "rPV3qicx-_b_",
    "outputId": "aeee1771-5f02-4984-aaf4-07bd1287e340"
   },
   "outputs": [
    {
     "name": "stdout",
     "output_type": "stream",
     "text": [
      "The average time spent on the webpages categorized by the conversion status of users (min.):\n"
     ]
    },
    {
     "data": {
      "text/plain": [
       "converted\n",
       "no    3.92\n",
       "yes   6.62\n",
       "Name: spent_time, dtype: float64"
      ]
     },
     "execution_count": 19,
     "metadata": {},
     "output_type": "execute_result"
    },
    {
     "data": {
      "image/png": "[encoded data removed]",
      "text/plain": [
       "<Figure size 648x360 with 1 Axes>"
      ]
     },
     "metadata": {},
     "output_type": "display_data"
    }
   ],
   "source": [
    "# Exploring how the time spent by users on the websites relates to their conversion status \n",
    "\n",
    "plt.figure(figsize = (9, 5));\n",
    "bxplt = sns.boxplot(data = df, x = 'spent_time', y = 'converted');\n",
    "plt.xlabel('Spent Time (min.)');\n",
    "plt.ylabel('Conversion Status');\n",
    "bxplt.set_yticklabels(['No', 'Yes']);\n",
    "\n",
    "print('The average time spent on the webpages categorized by the conversion status of users (min.):')\n",
    "df.groupby('converted')['spent_time'].mean()"
   ]
  },
  {
   "cell_type": "markdown",
   "id": "44EAKg29-_85",
   "metadata": {
    "id": "44EAKg29-_85"
   },
   "source": [
    "#### Spent Time vs. Language"
   ]
  },
  {
   "cell_type": "code",
   "execution_count": 20,
   "id": "mirddWyq_LvT",
   "metadata": {
    "colab": {
     "base_uri": "https://localhost:8080/",
     "height": 446
    },
    "id": "mirddWyq_LvT",
    "outputId": "95bb5ac3-5ebd-4d26-dd60-689b762f4fb5"
   },
   "outputs": [
    {
     "name": "stdout",
     "output_type": "stream",
     "text": [
      "The average time spent on the webpages categorized by the preferred language of users (min.):\n"
     ]
    },
    {
     "data": {
      "text/plain": [
       "language\n",
       "English   5.56\n",
       "French    5.25\n",
       "Spanish   5.33\n",
       "Name: spent_time, dtype: float64"
      ]
     },
     "execution_count": 20,
     "metadata": {},
     "output_type": "execute_result"
    },
    {
     "data": {
      "image/png": "[encoded data removed]",
      "text/plain": [
       "<Figure size 648x360 with 1 Axes>"
      ]
     },
     "metadata": {},
     "output_type": "display_data"
    }
   ],
   "source": [
    "# Exploring the impact of the preferred language on the time spent by users\n",
    "\n",
    "plt.figure(figsize = (9, 5));\n",
    "bxplt = sns.boxplot(data = df, x = 'spent_time', y = 'language', order = ['English', 'French', 'Spanish']);\n",
    "plt.xlabel('Spent Time (min.)');\n",
    "plt.ylabel('Language');\n",
    "\n",
    "print('The average time spent on the webpages categorized by the preferred language of users (min.):')\n",
    "df.groupby('language')['spent_time'].mean()"
   ]
  },
  {
   "cell_type": "markdown",
   "id": "bDN-Kv52_dqa",
   "metadata": {
    "id": "bDN-Kv52_dqa"
   },
   "source": [
    "#### Observations:\n",
    "\n",
    "*   Seemingly, the new webpage is far more successful in attracting people, as the (mean and median) time spent by the users on the new landing page is noticeably higher than the old one. \n",
    "*   As anticipated, and as evidenced by the much higher mean and median values of spent time for converted users, those who spend more time on the website are likelier to end up subscribing. \n",
    "*   The language doesn't appear to have any substantial impact on the time spent on the websites by users. English and French have higher maxima compared to Spanish, but the mean and median of neither group stand out. \n",
    "*   Note that all these conclusions are rudimentary, and are based on EDA. More concrete conclusions will be drawn after carrying out the relevant statistical tests.\n",
    "\n",
    "\n"
   ]
  },
  {
   "cell_type": "markdown",
   "id": "P2MkIf-mDJHF",
   "metadata": {
    "id": "P2MkIf-mDJHF"
   },
   "source": [
    "#### Spent Time vs. Conversion Status (control and treatment separated)"
   ]
  },
  {
   "cell_type": "code",
   "execution_count": 21,
   "id": "s_lqudrEDg02",
   "metadata": {
    "colab": {
     "base_uri": "https://localhost:8080/",
     "height": 519
    },
    "id": "s_lqudrEDg02",
    "outputId": "775a64b5-09d0-46c1-daa6-5f438ce29be9"
   },
   "outputs": [
    {
     "name": "stdout",
     "output_type": "stream",
     "text": [
      "The average time spent on the webpages categorized by the preferred language of users (min.):\n"
     ]
    },
    {
     "data": {
      "text/plain": [
       "group      converted\n",
       "control    no          3.35\n",
       "           yes         6.17\n",
       "treatment  no          4.88\n",
       "           yes         6.91\n",
       "Name: spent_time, dtype: float64"
      ]
     },
     "execution_count": 21,
     "metadata": {},
     "output_type": "execute_result"
    },
    {
     "data": {
      "image/png": "[encoded data removed]",
      "text/plain": [
       "<Figure size 792x432 with 1 Axes>"
      ]
     },
     "metadata": {},
     "output_type": "display_data"
    }
   ],
   "source": [
    "# Exploring how the time spent on websites influences users' subscription status \n",
    "# Note that here control and treatment groups are studied separately\n",
    "\n",
    "plt.figure(figsize = (11, 6));\n",
    "bxplt = sns.boxplot(data = df, x = 'spent_time', y = 'group', hue = 'converted');\n",
    "plt.xlabel('Spent Time (min.)');\n",
    "plt.ylabel('Group');\n",
    "bxplt.set_yticklabels(['Control', 'Treatment']);\n",
    "plt.legend(loc = 'lower left', title = 'Conversion Status')\n",
    "\n",
    "print('The average time spent on the webpages categorized by the preferred language of users (min.):')\n",
    "df.groupby(['group', 'converted'])['spent_time'].mean()\n"
   ]
  },
  {
   "cell_type": "markdown",
   "id": "znJ9j76ZDXvZ",
   "metadata": {
    "id": "znJ9j76ZDXvZ"
   },
   "source": [
    "#### Spent Time vs. Language (control and treatment separated)"
   ]
  },
  {
   "cell_type": "code",
   "execution_count": 22,
   "id": "XmLDb0tMDhbk",
   "metadata": {
    "colab": {
     "base_uri": "https://localhost:8080/",
     "height": 553
    },
    "id": "XmLDb0tMDhbk",
    "outputId": "4d5a5aec-423e-4432-ddf4-a92d0c7cc635"
   },
   "outputs": [
    {
     "name": "stdout",
     "output_type": "stream",
     "text": [
      "The average time spent on the webpages categorized by the preferred language of users (min.):\n"
     ]
    },
    {
     "data": {
      "text/plain": [
       "group      language\n",
       "control    English    4.45\n",
       "           French     4.31\n",
       "           Spanish    4.83\n",
       "treatment  English    6.66\n",
       "           French     6.20\n",
       "           Spanish    5.84\n",
       "Name: spent_time, dtype: float64"
      ]
     },
     "execution_count": 22,
     "metadata": {},
     "output_type": "execute_result"
    },
    {
     "data": {
      "image/png": "[encoded data removed]",
      "text/plain": [
       "<Figure size 792x432 with 1 Axes>"
      ]
     },
     "metadata": {},
     "output_type": "display_data"
    }
   ],
   "source": [
    "# Exploring how the language chosen by users impacts the time they spend on the websites \n",
    "# Note that here control and treatment groups are studied separately\n",
    "\n",
    "plt.figure(figsize = (11, 6));\n",
    "bxplt = sns.boxplot(data = df, x = 'spent_time', y = 'group', hue = 'language', hue_order = ['English', 'French', 'Spanish']);\n",
    "plt.xlabel('Spent Time (min.)');\n",
    "plt.ylabel('Language');\n",
    "plt.legend(loc = 'lower left', title = 'Language')\n",
    "bxplt.set_yticklabels(['Control', 'Treatment']);\n",
    "\n",
    "print('The average time spent on the webpages categorized by the preferred language of users (min.):')\n",
    "df.groupby(['group', 'language'])['spent_time'].mean()\n"
   ]
  },
  {
   "cell_type": "markdown",
   "id": "udqtkG0jDeG1",
   "metadata": {
    "id": "udqtkG0jDeG1"
   },
   "source": [
    "#### Observations:\n",
    "\n",
    "\n",
    "*   We can confirm again that those converted to subscribe spend more time on the websites. This difference is smaller in the treatment group (the group that visits the new landing page).\n",
    "*   We can also infer again that those in the treatment group (those who're shown the new page) spend more time on the website than the control group. Within each group, the time spent on the webpage is not affected too much by the language. In the control group, English has a somewhat lower median, but a mean close to the mean of the other two languages. For the treatment group, French has a fairly smaller median than the other two, but its mean is not too different.   \n",
    "*   We again emphasize that these EDA-based conclusions aren't concrete and need to be supported by rigorous statistical testings.  \n",
    "\n"
   ]
  },
  {
   "cell_type": "markdown",
   "id": "27906576",
   "metadata": {
    "id": "27906576"
   },
   "source": [
    "## 1. Do the users spend more time on the new landing page than the existing landing page?"
   ]
  },
  {
   "cell_type": "code",
   "execution_count": 23,
   "id": "Eudwgjb6cq8Y",
   "metadata": {
    "id": "Eudwgjb6cq8Y"
   },
   "outputs": [],
   "source": [
    "# Setting the level of sigificance for all statistical tests\n",
    "\n",
    "alpha = 0.05  # significance level"
   ]
  },
  {
   "cell_type": "markdown",
   "id": "e5fdf0c8",
   "metadata": {
    "id": "e5fdf0c8"
   },
   "source": [
    "### Perform visual analysis\n",
    "\n",
    "We repeat the visualization performed in the bivariate analysis section for the impact of the landing page on the time spent on the websites, here, with slightly more details."
   ]
  },
  {
   "cell_type": "code",
   "execution_count": 24,
   "id": "6eZJa41eg21n",
   "metadata": {
    "colab": {
     "base_uri": "https://localhost:8080/",
     "height": 429
    },
    "id": "6eZJa41eg21n",
    "outputId": "a5235437-8a5d-4339-99f4-98dc167d7def"
   },
   "outputs": [
    {
     "name": "stdout",
     "output_type": "stream",
     "text": [
      "The average time spent by users on each landing page (min.):\n"
     ]
    },
    {
     "data": {
      "text/plain": [
       "landing_page\n",
       "new   6.22\n",
       "old   4.53\n",
       "Name: spent_time, dtype: float64"
      ]
     },
     "execution_count": 24,
     "metadata": {},
     "output_type": "execute_result"
    },
    {
     "data": {
      "image/png": "[encoded data removed]",
      "text/plain": [
       "<Figure size 648x360 with 1 Axes>"
      ]
     },
     "metadata": {},
     "output_type": "display_data"
    }
   ],
   "source": [
    "# Comparing the effect of old/new webpages on the time spent on them users \n",
    "\n",
    "plt.figure(figsize = (9, 5));\n",
    "bxplt = sns.boxplot(data = df, x = 'spent_time', y = 'landing_page', showmeans = True,\n",
    "                    meanprops = {'marker': 'x', 'markerfacecolor': 'red', 'markeredgecolor': 'red', 'markersize': '7'});\n",
    "plt.xlabel('Spent Time (min.)');\n",
    "plt.ylabel('Landing Page');\n",
    "bxplt.set_yticklabels(['Old', 'New']);\n",
    "plt.axvline(df.groupby('landing_page')['spent_time'].mean().values.mean(), linestyle = '--', color = 'red')\n",
    "\n",
    "print('The average time spent by users on each landing page (min.):')\n",
    "df.groupby('landing_page')['spent_time'].mean()"
   ]
  },
  {
   "cell_type": "markdown",
   "id": "Qgedh3axfMMx",
   "metadata": {
    "id": "Qgedh3axfMMx"
   },
   "source": [
    "#### Observations:\n",
    "As can be seen, the new page has been visited longer on average, but this has yet to be confirmed by the proper statistical test. The red crosses demonstrate the corresponding mean value of each boxplot, while the vertical, dashed line passes through the average of these means, to better indicate how different or close they are."
   ]
  },
  {
   "cell_type": "markdown",
   "id": "56b3dafd",
   "metadata": {
    "id": "56b3dafd"
   },
   "source": [
    "### Step 1: Define the null and alternative hypotheses\n",
    "\n",
    "$H_0$: $\\mu_n = \\mu_o$\n",
    "\n",
    "$H_a$: $\\mu_n > \\mu_o$\n",
    "\n",
    "Here, $\\mu_n$ and $\\mu_o$ indicate the average time spent on the new and old landing pages, respectively."
   ]
  },
  {
   "cell_type": "markdown",
   "id": "c7ee4907",
   "metadata": {
    "id": "c7ee4907"
   },
   "source": [
    "### Step 2: Select appropriate test\n",
    "\n",
    "Since we're comparing the average of two distinct samples drawn from two independent populations, whose standard deviations aren't provided to us, the ***one-tailed, two-sample (independent) t-test*** appear to be the most appropriate statistical test. "
   ]
  },
  {
   "cell_type": "markdown",
   "id": "3f58c9a7",
   "metadata": {
    "id": "3f58c9a7"
   },
   "source": [
    "### Step 3: Decide the significance level\n",
    "\n",
    "As set already, and as provided by the problem statement, the level of significance will be fixed at $\\alpha = 0.05$ for all tests."
   ]
  },
  {
   "cell_type": "markdown",
   "id": "5fed2eac",
   "metadata": {
    "id": "5fed2eac"
   },
   "source": [
    "### Step 4: Collect and prepare data"
   ]
  },
  {
   "cell_type": "code",
   "execution_count": 25,
   "id": "f5a59495",
   "metadata": {
    "colab": {
     "base_uri": "https://localhost:8080/"
    },
    "id": "f5a59495",
    "outputId": "a51605a4-2746-42e0-b686-c695b53bab10"
   },
   "outputs": [
    {
     "name": "stdout",
     "output_type": "stream",
     "text": [
      "   user_id    group landing_page  spent_time converted language\n",
      "0   546592  control          old        3.48        no  Spanish\n",
      "1   546567  control          old        3.02        no   French\n",
      "2   546558  control          old        5.28       yes  English\n",
      "3   546581  control          old        6.53       yes  Spanish\n",
      "4   546548  control          old        2.08        no  English\n",
      "\n",
      "   user_id      group landing_page  spent_time converted language\n",
      "0   546468  treatment          new        7.13       yes  English\n",
      "1   546462  treatment          new        4.40        no  Spanish\n",
      "2   546459  treatment          new        4.75       yes  Spanish\n",
      "3   546448  treatment          new        5.25       yes   French\n",
      "4   546461  treatment          new       10.71       yes   French\n"
     ]
    }
   ],
   "source": [
    "# Subsetting the dataset based on the landing page\n",
    "\n",
    "# A dataset of all users visiting the old page\n",
    "df_o = df.loc[df['landing_page'] == 'old'].reset_index(drop = True)\n",
    "# A dataset of all users visiting the new page\n",
    "df_n = df.loc[df['landing_page'] == 'new'].reset_index(drop = True)\n",
    "\n",
    "# Ensuring the subsets have been made properly\n",
    "print(df_o.head(), end = '\\n'*2)\n",
    "print(df_n.head())\n"
   ]
  },
  {
   "cell_type": "markdown",
   "id": "DBNpdglvioqg",
   "metadata": {
    "id": "DBNpdglvioqg"
   },
   "source": [
    "### Step 4.5: Checking the standard deviations/variances\n",
    "\n",
    "Before proceeding any further, the (in)equality of standard deviations or, equivalently, variances of the two groups should be examined, as it determines one of the parameters of the test.\n",
    "\n",
    "Note that for this test the null and alternative hypotheses are:\n",
    "\n",
    "$H_0$ = $\\sigma_n^2 = \\sigma_o^2$\n",
    "\n",
    "$H_a$ = $\\sigma_n^2 \\neq \\sigma_o^2$\n",
    "\n",
    "Here, $\\sigma_n$ and $\\sigma_p$ are the respective standard deviations for the time spent by the users on the new and old landing pages.\n",
    "\n"
   ]
  },
  {
   "cell_type": "code",
   "execution_count": 26,
   "id": "9C_yR_TRo8li",
   "metadata": {
    "colab": {
     "base_uri": "https://localhost:8080/"
    },
    "id": "9C_yR_TRo8li",
    "outputId": "2435b132-2bdf-4015-a1d0-c63ae81e7d3f"
   },
   "outputs": [
    {
     "name": "stdout",
     "output_type": "stream",
     "text": [
      "The standard deviation of the time spent by the users visiting the old page: 2.58 mins.\n",
      "The standard deviation of the time spent by the users visiting the new page: 1.82 mins.\n"
     ]
    }
   ],
   "source": [
    "# Checking the standard deviations of the two groups\n",
    "\n",
    "sd_o = df_o['spent_time'].std(ddof = 1)\n",
    "sd_n = df_n['spent_time'].std(ddof = 1)\n",
    "\n",
    "print('The standard deviation of the time spent by the users visiting the old page:', round(sd_o, 2), 'mins.')\n",
    "print('The standard deviation of the time spent by the users visiting the new page:', round(sd_n, 2), 'mins.')"
   ]
  },
  {
   "cell_type": "markdown",
   "id": "-S-0cdm6pA05",
   "metadata": {
    "id": "-S-0cdm6pA05"
   },
   "source": [
    "#### Notes:\n",
    "\n",
    "*   Setting delta degrees of freedom equal to one might be wiser, since we work with samples not the whole populations.\n",
    "*   The standard deviations look somewhat different, but to be more certain, we'd conduct an F-test for comparison of variances."
   ]
  },
  {
   "cell_type": "code",
   "execution_count": 27,
   "id": "2gKwZPaIpIuc",
   "metadata": {
    "colab": {
     "base_uri": "https://localhost:8080/"
    },
    "id": "2gKwZPaIpIuc",
    "outputId": "93ea7770-85ce-42fd-e57e-cf4c038759eb"
   },
   "outputs": [
    {
     "name": "stdout",
     "output_type": "stream",
     "text": [
      "Test Statistic = 2.019\n",
      "p-value = 0.015\n",
      "There is enough statistical evidence to reject the equality of variances. \n",
      "The variances of the two samples are thus assumed to be NOT equal.\n"
     ]
    }
   ],
   "source": [
    "# Developing my own function for comparing variances\n",
    "\n",
    "def my_vareq_test(x, y):\n",
    "  '''This function receives two vectors and based on F-test calculations,\n",
    "  ensures whether their variances are equal or not.'''\n",
    "\n",
    "  x = np.array(x)\n",
    "  y = np.array(y)\n",
    "\n",
    "  n_x = len(x)   # sample sizes\n",
    "  n_y = len(y)\n",
    "\n",
    "  dfn = n_x - 1  # dof of numerator and denominator\n",
    "  dfd = n_y - 1\n",
    "\n",
    "  s_x = np.std(x, ddof = 1)  # sample standard deviations\n",
    "  s_y = np.std(y, ddof = 1)\n",
    "\n",
    "  test_stat = s_x**2/s_y**2   # test statistic\n",
    "\n",
    "  if(test_stat < 1):\n",
    "    test_stat = 1/test_stat\n",
    "    dfn = n_y - 1 \n",
    "    dfd = n_x - 1\n",
    "\n",
    "  p_val = 2*(1 - stats.f.cdf(test_stat, dfn, dfd))\n",
    "  return test_stat, p_val\n",
    "\n",
    "# Conducting F-test for equality of variances using my in-house function\n",
    "test_stat, p_value = my_vareq_test(df_o['spent_time'], df_n['spent_time'])\n",
    "\n",
    "print('Test Statistic =', round(test_stat, 3))\n",
    "print('p-value =', round(p_value, 3))\n",
    "if(p_value < alpha):\n",
    "  print('There is enough statistical evidence to reject the equality of variances. \\n' +\n",
    "        'The variances of the two samples are thus assumed to be NOT equal.')\n",
    "else:\n",
    "  print('There is NOT enough statistical evidence to reject the equality of variances. \\n' + \n",
    "        'The variances of the two samples are thus assumed to be equal.')"
   ]
  },
  {
   "cell_type": "markdown",
   "id": "f5c5258d",
   "metadata": {
    "id": "f5c5258d"
   },
   "source": [
    "### Step 5: Calculate the p-value\n",
    "\n",
    "We're now ready to perform the one-tailed, two-sample, independent t-test, while setting the equal_var parameter false."
   ]
  },
  {
   "cell_type": "code",
   "execution_count": 28,
   "id": "rmGzTntlpfT6",
   "metadata": {
    "colab": {
     "base_uri": "https://localhost:8080/"
    },
    "id": "rmGzTntlpfT6",
    "outputId": "7eb0945f-1de8-4f4f-836a-cfccf83d5d15"
   },
   "outputs": [
    {
     "name": "stdout",
     "output_type": "stream",
     "text": [
      "Test Statistic = 3.787\n",
      "p-value = 0.000139\n"
     ]
    }
   ],
   "source": [
    "# Conducting two-sample t-test\n",
    "\n",
    "test_stat, p_value = stats.ttest_ind(df_n['spent_time'], df_o['spent_time'], equal_var = False, alternative = 'greater')\n",
    "\n",
    "print('Test Statistic =', round(test_stat, 3))\n",
    "print('p-value =', round(p_value, 6))"
   ]
  },
  {
   "cell_type": "markdown",
   "id": "359b12f8",
   "metadata": {
    "id": "359b12f8"
   },
   "source": [
    "### Step 6: Compare the p-value with $\\alpha$"
   ]
  },
  {
   "cell_type": "code",
   "execution_count": 29,
   "id": "AubO9sJVqc3j",
   "metadata": {
    "colab": {
     "base_uri": "https://localhost:8080/"
    },
    "id": "AubO9sJVqc3j",
    "outputId": "0841a433-d0dc-456d-c1d4-30a2bd89e3f4"
   },
   "outputs": [
    {
     "name": "stdout",
     "output_type": "stream",
     "text": [
      "There is enough statistical evidence to reject the equality of means of the two populations. \n",
      "The average time users spend on the new page is GREATER than that of the old page.\n"
     ]
    }
   ],
   "source": [
    "if(p_value < alpha):\n",
    "  print('There is enough statistical evidence to reject the equality of means of the two populations. \\n' +\n",
    "        'The average time users spend on the new page is GREATER than that of the old page.')\n",
    "else:\n",
    "  print('There is NOT enough statistical evidence to reject the equality of means of the two populations. \\n' +\n",
    "        'The difference between the time spent by users on the two webpages is NOT statistically significant.')"
   ]
  },
  {
   "cell_type": "markdown",
   "id": "d9affc84",
   "metadata": {
    "id": "d9affc84"
   },
   "source": [
    "### Step 7:  Draw inference\n",
    "\n",
    "Since p-value is much smaller than the significance level, the null hypothesis (equality of means of the time spent on the new and old pages by the users) is rejected. Thus, there is enough statistical evidence to assert that, on average, users spend more time on the new page than the old one. We can claim it with more than 95% confidence. Note that we carried out a one-tailed test to examine the research question (alternative hypothesis) of $\\mu_n > \\mu_o$.   "
   ]
  },
  {
   "cell_type": "markdown",
   "id": "353e9d24",
   "metadata": {
    "id": "353e9d24"
   },
   "source": [
    "## 2. Is the conversion rate (the proportion of users who visit the landing page and get converted) for the new page greater than the conversion rate for the old page?"
   ]
  },
  {
   "cell_type": "markdown",
   "id": "BOAZUJs2unX6",
   "metadata": {
    "id": "BOAZUJs2unX6"
   },
   "source": [
    "### Perform visual analysis"
   ]
  },
  {
   "cell_type": "code",
   "execution_count": 30,
   "id": "3j_RslL1uvlN",
   "metadata": {
    "colab": {
     "base_uri": "https://localhost:8080/"
    },
    "id": "3j_RslL1uvlN",
    "outputId": "164470d5-c8ae-4124-852d-60b82819c6b7"
   },
   "outputs": [
    {
     "name": "stdout",
     "output_type": "stream",
     "text": [
      "converted      no  yes\n",
      "landing_page          \n",
      "new          0.34 0.66\n",
      "old          0.58 0.42\n",
      "\n",
      "  landing_page converted  values\n",
      "0          new        no    0.34\n",
      "1          new       yes    0.66\n",
      "2          old        no    0.58\n",
      "3          old       yes    0.42\n"
     ]
    }
   ],
   "source": [
    "# Making a crosstab out of landing page and conversion status\n",
    "ctab = pd.crosstab(df['landing_page'], df['converted'], normalize = 'index')\n",
    "# converting the crosstab into a dataframe\n",
    "ctab_df = ctab.stack().reset_index()\n",
    "ctab_df.rename(columns = {0: 'values'}, inplace = True)\n",
    "\n",
    "# displaying the original crosstab and its dataframe equivalent\n",
    "print(ctab, end = '\\n'*2)\n",
    "print(ctab_df)"
   ]
  },
  {
   "cell_type": "code",
   "execution_count": 31,
   "id": "fZzzi2iA0aIF",
   "metadata": {
    "colab": {
     "base_uri": "https://localhost:8080/",
     "height": 394
    },
    "id": "fZzzi2iA0aIF",
    "outputId": "477dbd76-d140-43fb-e5f2-e524fbe230d2"
   },
   "outputs": [
    {
     "data": {
      "image/png": "[encoded data removed]",
      "text/plain": [
       "<Figure size 504x360 with 1 Axes>"
      ]
     },
     "metadata": {},
     "output_type": "display_data"
    },
    {
     "name": "stdout",
     "output_type": "stream",
     "text": [
      "\n",
      "Conversion rate for the old page: 0.42\n",
      "Conversion rate for the new page: 0.66\n"
     ]
    }
   ],
   "source": [
    "# Plotting the crosstab\n",
    "\n",
    "plt.figure(figsize = (7, 5))\n",
    "ctabplt = sns.barplot(data = ctab_df, x = 'landing_page', y = 'values', hue = 'converted',\n",
    "                      order = ['old', 'new'], hue_order = ['yes', 'no']);\n",
    "ctabplt.set_xticklabels(['Old', 'New']);\n",
    "plt.xticks(rotation = 0);\n",
    "plt.xlabel('Landing Page');\n",
    "plt.ylabel('Proportion')\n",
    "plt.legend(title = 'Conversion Status', bbox_to_anchor = [1.01, 1]);\n",
    "plt.show()\n",
    "\n",
    "# Number of users visiting each page\n",
    "old_page_num = df.loc[df['landing_page'] == 'old'].shape[0]\n",
    "new_page_num = df.loc[df['landing_page'] == 'new'].shape[0]\n",
    "# Number of converted users for each page\n",
    "old_page_conv_num = df.loc[(df['landing_page'] == 'old') & (df['converted'] == 'yes')].shape[0]\n",
    "new_page_conv_num = df.loc[(df['landing_page'] == 'new') & (df['converted'] == 'yes')].shape[0]\n",
    "\n",
    "# Printing the conversion rate of users for each group\n",
    "print('\\nConversion rate for the old page:', round(old_page_conv_num/old_page_num, 2))\n",
    "print('Conversion rate for the new page:', round(new_page_conv_num/new_page_num, 2))"
   ]
  },
  {
   "cell_type": "markdown",
   "id": "E_NVe6BfMEFa",
   "metadata": {
    "id": "E_NVe6BfMEFa"
   },
   "source": [
    "#### Observations:\n",
    "\n",
    "As can be noted, the conversion rate for the users visiting the new page is arithmetically much (24%) larger than that of the users visiting the old page. This, however, should be substantiated by the poper statistical test."
   ]
  },
  {
   "cell_type": "markdown",
   "id": "27Ns50VPA3sz",
   "metadata": {
    "id": "27Ns50VPA3sz"
   },
   "source": [
    "### Step 1: Define the null and alternative hypotheses\n",
    "\n",
    "$H_0$: $p_{n} = p_{o}$\n",
    "\n",
    "$H_a$: $p_{n} > p_{o}$\n",
    "\n",
    "Here, $p_{n}$ and $p_{o}$ (calculated as the ratio of converted users to all users in each group) denote the conversion rates among users visiting the new and old landing pages, respectively.\n"
   ]
  },
  {
   "cell_type": "markdown",
   "id": "Qc_P06I2Cqzw",
   "metadata": {
    "id": "Qc_P06I2Cqzw"
   },
   "source": [
    "### Step 2: Select appropriate test\n",
    "\n",
    "Since we're comparing the proportions of converted users to all users for two separate samples drawn from two independent populations, and the research quesion concerns one being greater than the other, the ***one-tailed, two-sample z-test for proportions*** appear to be the most appropriate statistical test. "
   ]
  },
  {
   "cell_type": "markdown",
   "id": "bt6bK5YPDwUk",
   "metadata": {
    "id": "bt6bK5YPDwUk"
   },
   "source": [
    "### Step 3: Decide the significance level\n",
    "\n",
    "As set already, and as provided by the problem statement, the level of significance will be fixed at $\\alpha = 0.05$ for all tests."
   ]
  },
  {
   "cell_type": "markdown",
   "id": "VaCcnY6-D6_t",
   "metadata": {
    "id": "VaCcnY6-D6_t"
   },
   "source": [
    "### Step 4: Collect and prepare data\n",
    "\n",
    "Here, we just repeat the calculations in the visualization section, where we found the numbers of people visiting each page and the number of converted users within each. We then check for the primary assumption of z-test for proportions that $np > 10$ and $n(1 - p) > 10$ for each group, where $n$ and $p$ represent the sample size and the proportion, respectively."
   ]
  },
  {
   "cell_type": "code",
   "execution_count": 32,
   "id": "3fxio4MzD8Wt",
   "metadata": {
    "colab": {
     "base_uri": "https://localhost:8080/"
    },
    "id": "3fxio4MzD8Wt",
    "outputId": "435bd216-1aa0-42b7-f659-5abed72ec697"
   },
   "outputs": [
    {
     "name": "stdout",
     "output_type": "stream",
     "text": [
      "Sample of users visiting the old page satisfies the assumptions of the z-test for proportions.\n",
      "Sample of users visiting the new page satisfies the assumptions of the z-test for proportions.\n",
      "Both samples meet the assumptions of the statistical test.\n"
     ]
    }
   ],
   "source": [
    "# Number of users visiting each page\n",
    "n_o = df.loc[df['landing_page'] == 'old'].shape[0]\n",
    "n_n = df.loc[df['landing_page'] == 'new'].shape[0]\n",
    "# Number of converted users for each page\n",
    "n_co = df.loc[(df['landing_page'] == 'old') & (df['converted'] == 'yes')].shape[0]\n",
    "n_cn = df.loc[(df['landing_page'] == 'new') & (df['converted'] == 'yes')].shape[0]\n",
    "\n",
    "# Conversion rate or the proportion of converted users to all for both pages\n",
    "p_o = n_co/n_o   \n",
    "p_n = n_cn/n_n \n",
    "\n",
    "# Checking the assumptions of z-test for proportions\n",
    "assumptions = 0\n",
    "if(n_o*p_o and n_o*(1-p_o)):\n",
    "  print('Sample of users visiting the old page satisfies the assumptions of the z-test for proportions.')\n",
    "  assumptions += 1\n",
    "else:\n",
    "  print('Sample of users visiting the old page does NOT satisfy the assumptions of the z-test for proportions.')\n",
    "\n",
    "if(n_n*p_n and n_n*(1-p_n)):\n",
    "  print('Sample of users visiting the new page satisfies the assumptions of the z-test for proportions.')\n",
    "  assumptions += 1\n",
    "else:\n",
    "  print('Sample of users visiting the new page does NOT satisfy the assumptions of the z-test for proportions')  \n",
    "\n",
    "if(assumptions == 2):\n",
    "  print('Both samples meet the assumptions of the statistical test.')\n",
    "elif(assumptions == 1):\n",
    "  print('Only one of the samples meets the assumptions of the statistical test.')\n",
    "else:\n",
    "  print('None of the samples meets the assumptions of the statistical test.')\n",
    "  "
   ]
  },
  {
   "cell_type": "markdown",
   "id": "SvPrl41fHI8E",
   "metadata": {
    "id": "SvPrl41fHI8E"
   },
   "source": [
    "### Step 5: Calculate the p-value\n",
    "\n",
    "Now that we're convinced with the satisfaction of the assumptions, we can proceed to carrying out the two-sample z-test for proportions.\n"
   ]
  },
  {
   "cell_type": "code",
   "execution_count": 33,
   "id": "b-x-dzqqHjBV",
   "metadata": {
    "colab": {
     "base_uri": "https://localhost:8080/"
    },
    "id": "b-x-dzqqHjBV",
    "outputId": "944cb790-c11b-4f9b-9951-3548516d9fbc"
   },
   "outputs": [
    {
     "name": "stdout",
     "output_type": "stream",
     "text": [
      "Test Statistic = 2.408\n",
      "p-value = 0.00803\n"
     ]
    }
   ],
   "source": [
    "# Conducting two-sample z-test for proportions\n",
    "\n",
    "test_stat, p_value = proportion.proportions_ztest(count = np.array([n_cn, n_co]), nobs = np.array([n_n, n_o]), alternative = 'larger')\n",
    "\n",
    "print('Test Statistic =', round(test_stat, 3))\n",
    "print('p-value =', round(p_value, 5))"
   ]
  },
  {
   "cell_type": "markdown",
   "id": "mTTv_vw8Hj6a",
   "metadata": {
    "id": "mTTv_vw8Hj6a"
   },
   "source": [
    "### Step 6: Compare the p-value with $\\alpha$"
   ]
  },
  {
   "cell_type": "code",
   "execution_count": 34,
   "id": "0IPSOzyiHydd",
   "metadata": {
    "colab": {
     "base_uri": "https://localhost:8080/"
    },
    "id": "0IPSOzyiHydd",
    "outputId": "d4ded58c-4a14-480a-d6fa-3ac195b01167"
   },
   "outputs": [
    {
     "name": "stdout",
     "output_type": "stream",
     "text": [
      "Test Statistic = 2.408\n",
      "p-value = 0.008\n",
      "There is enough statistical evidence to reject the equality of proportions of converted users for the two populations. \n",
      "The conversion rate among users visiting the new page is GREATER than those visiting the old page.\n"
     ]
    }
   ],
   "source": [
    "print('Test Statistic =', round(test_stat, 3))\n",
    "print('p-value =', round(p_value, 3))\n",
    "\n",
    "if(p_value < alpha):\n",
    "  print('There is enough statistical evidence to reject the equality of proportions of converted users for the two populations. \\n' +\n",
    "        'The conversion rate among users visiting the new page is GREATER than those visiting the old page.')\n",
    "else:\n",
    "  print('There is NOT enough statistical evidence to reject the equality of proportions of converted users for the two populations. \\n' +\n",
    "        'The difference between the conversion rates of the two populations is NOT statistically significant.')"
   ]
  },
  {
   "cell_type": "markdown",
   "id": "DEul66KvH4Xt",
   "metadata": {
    "id": "DEul66KvH4Xt"
   },
   "source": [
    "### Step 7:  Draw inference\n",
    "\n",
    "Since p-value is much smaller than the significance level, the null hypothesis (equality of proportions of converted users between the treatment and control groups) is rejected. Thus, there is enough statistical evidence to assert with more than 95% confidence that a larger proportion of users who visit the new page get converted, or, equivalently, users visiting the new page are likelier to subscribe. Note that we conducted a one-tailed test to examine the research question (alternative hypothesis) of $p_n > p_o$. "
   ]
  },
  {
   "cell_type": "markdown",
   "id": "d49bfa2d",
   "metadata": {
    "id": "d49bfa2d"
   },
   "source": [
    "## 3. Is the conversion and preferred language are independent or related?"
   ]
  },
  {
   "cell_type": "markdown",
   "id": "WofP9bEaLi1a",
   "metadata": {
    "id": "WofP9bEaLi1a"
   },
   "source": [
    "### Perform visual analysis"
   ]
  },
  {
   "cell_type": "code",
   "execution_count": 35,
   "id": "78KDWRflLsRq",
   "metadata": {
    "colab": {
     "base_uri": "https://localhost:8080/"
    },
    "id": "78KDWRflLsRq",
    "outputId": "21cfb66c-b247-469c-f5a2-88e4bac04653"
   },
   "outputs": [
    {
     "name": "stdout",
     "output_type": "stream",
     "text": [
      "converted   no  yes\n",
      "language           \n",
      "English   0.34 0.66\n",
      "French    0.56 0.44\n",
      "Spanish   0.47 0.53\n",
      "\n",
      "  language converted  values\n",
      "0  English        no    0.34\n",
      "1  English       yes    0.66\n",
      "2   French        no    0.56\n",
      "3   French       yes    0.44\n",
      "4  Spanish        no    0.47\n",
      "5  Spanish       yes    0.53\n"
     ]
    }
   ],
   "source": [
    "# Making a crosstab out of landing page and conversion status\n",
    "ctab = pd.crosstab(df['language'], df['converted'], normalize = 'index')\n",
    "# converting the crosstab into a dataframe\n",
    "ctab_df = ctab.stack().reset_index()\n",
    "ctab_df.rename(columns = {0: 'values'}, inplace = True)\n",
    "\n",
    "# displaying the original crosstab and its dataframe equivalence\n",
    "print(ctab, end = '\\n'*2)\n",
    "print(ctab_df)"
   ]
  },
  {
   "cell_type": "code",
   "execution_count": 36,
   "id": "m9xnJKQAMqDl",
   "metadata": {
    "colab": {
     "base_uri": "https://localhost:8080/",
     "height": 411
    },
    "id": "m9xnJKQAMqDl",
    "outputId": "783e7ff0-296f-4492-b325-83fbf9e3bb19"
   },
   "outputs": [
    {
     "data": {
      "image/png": "[encoded data removed]",
      "text/plain": [
       "<Figure size 504x360 with 1 Axes>"
      ]
     },
     "metadata": {},
     "output_type": "display_data"
    },
    {
     "name": "stdout",
     "output_type": "stream",
     "text": [
      "\n",
      "Conversion rate for English speakers: 0.66\n",
      "Conversion rate for French speakers: 0.44\n",
      "Conversion rate for Spanish speakers: 0.53\n"
     ]
    }
   ],
   "source": [
    "# Plotting the crosstab\n",
    "\n",
    "plt.figure(figsize = (7, 5))\n",
    "ctabplt = sns.barplot(data = ctab_df, x = 'language', y = 'values', hue = 'converted', \n",
    "            order = ['English', 'French', 'Spanish'], hue_order = ['yes', 'no']);\n",
    "ctabplt.set_xticklabels(['English', 'French', 'Spanish']);\n",
    "plt.xticks(rotation = 0);\n",
    "plt.xlabel('Language');\n",
    "plt.legend(title = 'Conversion Status', bbox_to_anchor = [1.01, 1]);\n",
    "plt.show()\n",
    "\n",
    "# Number of users speaking each of three languages\n",
    "English_num = df.loc[df['language'] == 'English'].shape[0]\n",
    "French_num = df.loc[df['language'] == 'French'].shape[0]\n",
    "Spanish_num = df.loc[df['language'] == 'Spanish'].shape[0]\n",
    "# Number of converted users for in each language category\n",
    "English_conv_num = df.loc[(df['language'] == 'English') & (df['converted'] == 'yes')].shape[0]\n",
    "French_conv_num = df.loc[(df['language'] == 'French') & (df['converted'] == 'yes')].shape[0]\n",
    "Spanish_conv_num = df.loc[(df['language'] == 'Spanish') & (df['converted'] == 'yes')].shape[0]\n",
    "\n",
    "# Printing the conversion rate of users for each group\n",
    "print('\\nConversion rate for English speakers:', round(English_conv_num/English_num, 2))\n",
    "print('Conversion rate for French speakers:', round(French_conv_num/French_num, 2))\n",
    "print('Conversion rate for Spanish speakers:', round(Spanish_conv_num/Spanish_num, 2))\n"
   ]
  },
  {
   "cell_type": "markdown",
   "id": "SnRgCHpSP8Vr",
   "metadata": {
    "id": "SnRgCHpSP8Vr"
   },
   "source": [
    "#### Observations:\n",
    "\n",
    "Arithmetically speaking, users with different preferred languages have noticeably different conversion rates, with English speakers having the highest conversion rate. This can imply that preferred language and conversion status are related. The concrete statistical examination of this claim is presented in the next steps of this question."
   ]
  },
  {
   "cell_type": "markdown",
   "id": "VlmRraAOQyVK",
   "metadata": {
    "id": "VlmRraAOQyVK"
   },
   "source": [
    "### Step 1: Define the null and alternative hypotheses\n",
    "\n",
    "$H_0$: Preferred language and conversion status of users are independent.\n",
    "\n",
    "$H_a$: Preferred language and conversion status of users are dependent."
   ]
  },
  {
   "cell_type": "markdown",
   "id": "UHyb6BgoRW17",
   "metadata": {
    "id": "UHyb6BgoRW17"
   },
   "source": [
    "### Step 2: Select appropriate test\n",
    "\n",
    "Here, the dependence of two categorical variables is the subject of inquiry. Therefore, the ***chi-square test of independence*** is the way to go."
   ]
  },
  {
   "cell_type": "markdown",
   "id": "SHWQxioWRRMD",
   "metadata": {
    "id": "SHWQxioWRRMD"
   },
   "source": [
    "### Step 3: Decide the significance level\n",
    "\n",
    "As set already, and as provided by the problem statement, the level of significance will be fixed at $\\alpha = 0.05$ for all tests."
   ]
  },
  {
   "cell_type": "markdown",
   "id": "3gPA4CUVYqSq",
   "metadata": {
    "id": "3gPA4CUVYqSq"
   },
   "source": [
    "### Step 4: Collect and prepare data"
   ]
  },
  {
   "cell_type": "code",
   "execution_count": 37,
   "id": "blDyyL_1LGJv",
   "metadata": {
    "colab": {
     "base_uri": "https://localhost:8080/",
     "height": 143
    },
    "id": "blDyyL_1LGJv",
    "outputId": "f85b5766-e04e-4067-ca53-40bae6e7823f"
   },
   "outputs": [
    {
     "data": {
      "text/html": [
       "\n",
       "  <div id=\"df-1fd61ea3-fc56-4258-bed3-5a99b4ba8f61\">\n",
       "    <div class=\"colab-df-container\">\n",
       "      <div>\n",
       "<style scoped>\n",
       "    .dataframe tbody tr th:only-of-type {\n",
       "        vertical-align: middle;\n",
       "    }\n",
       "\n",
       "    .dataframe tbody tr th {\n",
       "        vertical-align: top;\n",
       "    }\n",
       "\n",
       "    .dataframe thead th {\n",
       "        text-align: right;\n",
       "    }\n",
       "</style>\n",
       "<table border=\"1\" class=\"dataframe\">\n",
       "  <thead>\n",
       "    <tr style=\"text-align: right;\">\n",
       "      <th></th>\n",
       "      <th>Language</th>\n",
       "      <th>Converted (No.)</th>\n",
       "      <th>Not Converted (No.)</th>\n",
       "    </tr>\n",
       "  </thead>\n",
       "  <tbody>\n",
       "    <tr>\n",
       "      <th>0</th>\n",
       "      <td>English</td>\n",
       "      <td>21</td>\n",
       "      <td>11</td>\n",
       "    </tr>\n",
       "    <tr>\n",
       "      <th>1</th>\n",
       "      <td>French</td>\n",
       "      <td>15</td>\n",
       "      <td>19</td>\n",
       "    </tr>\n",
       "    <tr>\n",
       "      <th>2</th>\n",
       "      <td>Spanish</td>\n",
       "      <td>18</td>\n",
       "      <td>16</td>\n",
       "    </tr>\n",
       "  </tbody>\n",
       "</table>\n",
       "</div>\n",
       "      <button class=\"colab-df-convert\" onclick=\"convertToInteractive('df-1fd61ea3-fc56-4258-bed3-5a99b4ba8f61')\"\n",
       "              title=\"Convert this dataframe to an interactive table.\"\n",
       "              style=\"display:none;\">\n",
       "        \n",
       "  <svg xmlns=\"http://www.w3.org/2000/svg\" height=\"24px\"viewBox=\"0 0 24 24\"\n",
       "       width=\"24px\">\n",
       "    <path d=\"M0 0h24v24H0V0z\" fill=\"none\"/>\n",
       "    <path d=\"M18.56 5.44l.94 2.06.94-2.06 2.06-.94-2.06-.94-.94-2.06-.94 2.06-2.06.94zm-11 1L8.5 8.5l.94-2.06 2.06-.94-2.06-.94L8.5 2.5l-.94 2.06-2.06.94zm10 10l.94 2.06.94-2.06 2.06-.94-2.06-.94-.94-2.06-.94 2.06-2.06.94z\"/><path d=\"M17.41 7.96l-1.37-1.37c-.4-.4-.92-.59-1.43-.59-.52 0-1.04.2-1.43.59L10.3 9.45l-7.72 7.72c-.78.78-.78 2.05 0 2.83L4 21.41c.39.39.9.59 1.41.59.51 0 1.02-.2 1.41-.59l7.78-7.78 2.81-2.81c.8-.78.8-2.07 0-2.86zM5.41 20L4 18.59l7.72-7.72 1.47 1.35L5.41 20z\"/>\n",
       "  </svg>\n",
       "      </button>\n",
       "      \n",
       "  <style>\n",
       "    .colab-df-container {\n",
       "      display:flex;\n",
       "      flex-wrap:wrap;\n",
       "      gap: 12px;\n",
       "    }\n",
       "\n",
       "    .colab-df-convert {\n",
       "      background-color: #E8F0FE;\n",
       "      border: none;\n",
       "      border-radius: 50%;\n",
       "      cursor: pointer;\n",
       "      display: none;\n",
       "      fill: #1967D2;\n",
       "      height: 32px;\n",
       "      padding: 0 0 0 0;\n",
       "      width: 32px;\n",
       "    }\n",
       "\n",
       "    .colab-df-convert:hover {\n",
       "      background-color: #E2EBFA;\n",
       "      box-shadow: 0px 1px 2px rgba(60, 64, 67, 0.3), 0px 1px 3px 1px rgba(60, 64, 67, 0.15);\n",
       "      fill: #174EA6;\n",
       "    }\n",
       "\n",
       "    [theme=dark] .colab-df-convert {\n",
       "      background-color: #3B4455;\n",
       "      fill: #D2E3FC;\n",
       "    }\n",
       "\n",
       "    [theme=dark] .colab-df-convert:hover {\n",
       "      background-color: #434B5C;\n",
       "      box-shadow: 0px 1px 3px 1px rgba(0, 0, 0, 0.15);\n",
       "      filter: drop-shadow(0px 1px 2px rgba(0, 0, 0, 0.3));\n",
       "      fill: #FFFFFF;\n",
       "    }\n",
       "  </style>\n",
       "\n",
       "      <script>\n",
       "        const buttonEl =\n",
       "          document.querySelector('#df-1fd61ea3-fc56-4258-bed3-5a99b4ba8f61 button.colab-df-convert');\n",
       "        buttonEl.style.display =\n",
       "          google.colab.kernel.accessAllowed ? 'block' : 'none';\n",
       "\n",
       "        async function convertToInteractive(key) {\n",
       "          const element = document.querySelector('#df-1fd61ea3-fc56-4258-bed3-5a99b4ba8f61');\n",
       "          const dataTable =\n",
       "            await google.colab.kernel.invokeFunction('convertToInteractive',\n",
       "                                                     [key], {});\n",
       "          if (!dataTable) return;\n",
       "\n",
       "          const docLinkHtml = 'Like what you see? Visit the ' +\n",
       "            '<a target=\"_blank\" href=https://colab.research.google.com/notebooks/data_table.ipynb>data table notebook</a>'\n",
       "            + ' to learn more about interactive tables.';\n",
       "          element.innerHTML = '';\n",
       "          dataTable['output_type'] = 'display_data';\n",
       "          await google.colab.output.renderOutput(dataTable, element);\n",
       "          const docLink = document.createElement('div');\n",
       "          docLink.innerHTML = docLinkHtml;\n",
       "          element.appendChild(docLink);\n",
       "        }\n",
       "      </script>\n",
       "    </div>\n",
       "  </div>\n",
       "  "
      ],
      "text/plain": [
       "  Language  Converted (No.)  Not Converted (No.)\n",
       "0  English               21                   11\n",
       "1   French               15                   19\n",
       "2  Spanish               18                   16"
      ]
     },
     "execution_count": 37,
     "metadata": {},
     "output_type": "execute_result"
    }
   ],
   "source": [
    "# Building a dataframe of languages and fraction of their speakers who subscribe\n",
    "\n",
    "# Creating a list of languages\n",
    "languages = sorted(df['language'].unique())\n",
    "\n",
    "# Initiating the dataframe\n",
    "language_conversion_df = pd.DataFrame({'Language': languages})\n",
    "\n",
    "for i, text in enumerate(languages):\n",
    "  # Number of users of a certain language group \n",
    "  n_lang = df.loc[df['language'] == text].shape[0]\n",
    "  # Number of converted users of a certain language group \n",
    "  n_lang_conv = df.loc[(df['language'] == text) & (df['converted'] == 'yes')].shape[0]\n",
    "  language_conversion_df.loc[i, 'Converted (No.)'] = n_lang_conv\n",
    "  language_conversion_df.loc[i, 'Not Converted (No.)'] = n_lang - n_lang_conv\n",
    "\n",
    "language_conversion_df['Converted (No.)'] = language_conversion_df['Converted (No.)'].astype(int)\n",
    "language_conversion_df['Not Converted (No.)'] = language_conversion_df['Not Converted (No.)'].astype(int)\n",
    "\n",
    "# Displaying the completed dataframe\n",
    "language_conversion_df"
   ]
  },
  {
   "cell_type": "markdown",
   "id": "rlPgcpjHZcb0",
   "metadata": {
    "id": "rlPgcpjHZcb0"
   },
   "source": [
    "### Step 5: Calculate the p-value\n"
   ]
  },
  {
   "cell_type": "code",
   "execution_count": 38,
   "id": "7aiV4mduZjD-",
   "metadata": {
    "colab": {
     "base_uri": "https://localhost:8080/"
    },
    "id": "7aiV4mduZjD-",
    "outputId": "a5c642ba-34e6-4fbb-ba1d-f7ab91837b46"
   },
   "outputs": [
    {
     "name": "stdout",
     "output_type": "stream",
     "text": [
      "p-value = 0.213\n"
     ]
    }
   ],
   "source": [
    "# Conducting chi-square test of independence on the numerical columns of language_conversion_df\n",
    "\n",
    "chi, p_value, dof, expected = stats.chi2_contingency(language_conversion_df.drop('Language', axis = 1))\n",
    "print('p-value =', round(p_value, 3))"
   ]
  },
  {
   "cell_type": "markdown",
   "id": "vtEl7P6KdjAw",
   "metadata": {
    "id": "vtEl7P6KdjAw"
   },
   "source": [
    "### Step 6: Compare the p-value with $\\alpha$"
   ]
  },
  {
   "cell_type": "code",
   "execution_count": 39,
   "id": "lllTBfnEdkHd",
   "metadata": {
    "colab": {
     "base_uri": "https://localhost:8080/"
    },
    "id": "lllTBfnEdkHd",
    "outputId": "8fd66124-9d29-4eb8-b53e-1853df68ab20"
   },
   "outputs": [
    {
     "name": "stdout",
     "output_type": "stream",
     "text": [
      "There is NOT enough statistical evidence to reject the the null hypothesis that language and conversion status are independent. \n",
      "The preferred language of users and their conversion status appear to be (to some degree) independent of each other.\n"
     ]
    }
   ],
   "source": [
    "if(p_value < alpha):\n",
    "  print('There is enough statistical evidence to reject the null hypothesis that language and conversion status are independent. \\n' +\n",
    "        'The preferred language of users and their conversion status largely depend on each other.')\n",
    "else:\n",
    "  print('There is NOT enough statistical evidence to reject the the null hypothesis that language and conversion status are independent. \\n' +\n",
    "        'The preferred language of users and their conversion status appear to be (to some degree) independent of each other.')"
   ]
  },
  {
   "cell_type": "markdown",
   "id": "Icq3s4i8edH1",
   "metadata": {
    "id": "Icq3s4i8edH1"
   },
   "source": [
    "### Step 7:  Draw inference\n",
    "\n",
    "Since p-value is greater than the significance level, the null hypothesis (independence of users' preferred language and conversion status) CANNOT be rejected. Thus, there is NOT enough statistical evidence to reject (with more than 95% confidence) the assertion that the language preferred by the users and their conversion status are independent. However the conversion rates of various languages are noticeably different, perhaps since the sample sizes of each subgroup (language category) isn't large enough, the dependence of language and conversion status CANNOT be claimed with more than 95% confidence (only with ~ 80% confidence)."
   ]
  },
  {
   "cell_type": "markdown",
   "id": "8d585a90",
   "metadata": {
    "id": "8d585a90"
   },
   "source": [
    "## 4. Is the time spent on the new page same for the different language users?"
   ]
  },
  {
   "cell_type": "markdown",
   "id": "qvWn_QTDqiyX",
   "metadata": {
    "id": "qvWn_QTDqiyX"
   },
   "source": [
    "### Perform visual analysis\n",
    "\n",
    "We repeat the visualization performed in the bivariate analysis section for the impact of the preferred languages on the time spent on the webpages, here, with slightly more details."
   ]
  },
  {
   "cell_type": "code",
   "execution_count": 40,
   "id": "rEqTB41fq9aX",
   "metadata": {
    "colab": {
     "base_uri": "https://localhost:8080/",
     "height": 446
    },
    "id": "rEqTB41fq9aX",
    "outputId": "99c80025-7e64-464d-cd6d-1b1ddfe3a74e"
   },
   "outputs": [
    {
     "name": "stdout",
     "output_type": "stream",
     "text": [
      "The average time spent by users on new webpage categorized by thier preferred languages (min.):\n"
     ]
    },
    {
     "data": {
      "text/plain": [
       "language\n",
       "English   6.66\n",
       "French    6.20\n",
       "Spanish   5.84\n",
       "Name: spent_time, dtype: float64"
      ]
     },
     "execution_count": 40,
     "metadata": {},
     "output_type": "execute_result"
    },
    {
     "data": {
      "image/png": "[encoded data removed]",
      "text/plain": [
       "<Figure size 648x360 with 1 Axes>"
      ]
     },
     "metadata": {},
     "output_type": "display_data"
    }
   ],
   "source": [
    "# Comparing the effect of the preferred languages on the time spent on the new webpage \n",
    "\n",
    "# Making a dataset only containing the users visiting the new pages\n",
    "df_new = df.loc[df['landing_page'] == 'new'].reset_index(drop = True)\n",
    "\n",
    "plt.figure(figsize = (9, 5));\n",
    "bxplt = sns.boxplot(data = df_new, x = 'spent_time', y = 'language', showmeans = True, order = ['English', 'French', 'Spanish'],\n",
    "                    meanprops = {'marker': 'x', 'markerfacecolor': 'red', 'markeredgecolor': 'red', 'markersize': '7'});\n",
    "plt.xlabel('Spent Time (min.)');\n",
    "plt.ylabel('Language');\n",
    "plt.axvline(df_new.groupby('language')['spent_time'].mean().values.mean(), linestyle = '--', color = 'red')\n",
    "\n",
    "print('The average time spent by users on new webpage categorized by thier preferred languages (min.):')\n",
    "df_new.groupby('language')['spent_time'].mean()"
   ]
  },
  {
   "cell_type": "markdown",
   "id": "zsc-W_F1rukc",
   "metadata": {
    "id": "zsc-W_F1rukc"
   },
   "source": [
    "#### Observations:\n",
    "As can be seen, the choice of language doesn't influence the time users spend on the new webpage substantially. This, however, should be rigorously demonstrated via appropriate statistical tests. The red crosses show the corresponding mean of each language group, while the vertical, dashed line passes through the average of these means, to better visualize the closeness of the means to each other."
   ]
  },
  {
   "cell_type": "markdown",
   "id": "7Gw-NhxgzoBN",
   "metadata": {
    "id": "7Gw-NhxgzoBN"
   },
   "source": [
    "### Step 1: Define the null and alternative hypotheses\n",
    "\n",
    "$H_0$: $\\mu_{en} = \\mu_{fr} = \\mu_{sp}$\n",
    "\n",
    "$H_a$: For at least one pair, the means aren't equal.\n",
    "\n",
    "Here, $\\mu_{en}$, $\\mu_{fr}$ and $\\mu_{sp}$ represent the average time spent on the new wepage by users who've selected English, French and Spanish as their preferred language, respectively."
   ]
  },
  {
   "cell_type": "markdown",
   "id": "d0lzfQtE1S_Z",
   "metadata": {
    "id": "d0lzfQtE1S_Z"
   },
   "source": [
    "### Step 2: Select appropriate test\n",
    "\n",
    "Since we're comparing the average of three (more than two) distinct samples drawn fron three independent populations, the ***one-way ANOVA (Analysis of Variance) test*** is chosen to conduct the hypothesis testing. The two main assumptions of this test, namely, the normality of the distribution and the homogenity (equality) of variances of all groups will be examined as well."
   ]
  },
  {
   "cell_type": "markdown",
   "id": "4rw8-OqS0WGR",
   "metadata": {
    "id": "4rw8-OqS0WGR"
   },
   "source": [
    "### Step 3: Decide the significance level\n",
    "\n",
    "As set already, and as provided by the problem statement, the level of significance will be fixed at $\\alpha = 0.05$ for all tests."
   ]
  },
  {
   "cell_type": "markdown",
   "id": "KLkVF5J72ouJ",
   "metadata": {
    "id": "KLkVF5J72ouJ"
   },
   "source": [
    "### Step 4: Select appropriate test"
   ]
  },
  {
   "cell_type": "code",
   "execution_count": 41,
   "id": "nIrzP-E72n81",
   "metadata": {
    "colab": {
     "base_uri": "https://localhost:8080/"
    },
    "id": "nIrzP-E72n81",
    "outputId": "3d88ebbd-3c67-4deb-95fe-f757bb715e74"
   },
   "outputs": [
    {
     "name": "stdout",
     "output_type": "stream",
     "text": [
      "   user_id      group landing_page  spent_time converted language\n",
      "0   546468  treatment          new        7.13       yes  English\n",
      "1   546443  treatment          new        8.73        no  English\n",
      "2   546450  treatment          new        3.65        no  English\n",
      "\n",
      "   user_id      group landing_page  spent_time converted language\n",
      "0   546448  treatment          new        5.25       yes   French\n",
      "1   546461  treatment          new       10.71       yes   French\n",
      "2   546478  treatment          new        6.03       yes   French\n",
      "\n",
      "   user_id      group landing_page  spent_time converted language\n",
      "0   546462  treatment          new        4.40        no  Spanish\n",
      "1   546459  treatment          new        4.75       yes  Spanish\n",
      "2   546491  treatment          new        5.86       yes  Spanish\n"
     ]
    }
   ],
   "source": [
    "# Subsetting the dataset based on the landing page\n",
    "\n",
    "# A dataset of all English speakers\n",
    "df_en = df_new.loc[df_new['language'] == 'English'].reset_index(drop = True)\n",
    "# A dataset of all French speakers\n",
    "df_fr = df_new.loc[df_new['language'] == 'French'].reset_index(drop = True)\n",
    "# A dataset of all Spanish speakers\n",
    "df_sp = df_new.loc[df_new['language'] == 'Spanish'].reset_index(drop = True)\n",
    "\n",
    "# Ensuring subsets have been made properly\n",
    "print(df_en.head(3), end = '\\n'*2)\n",
    "print(df_fr.head(3), end = '\\n'*2)\n",
    "print(df_sp.head(3))"
   ]
  },
  {
   "cell_type": "markdown",
   "id": "oOVV7dsl3_7k",
   "metadata": {
    "id": "oOVV7dsl3_7k"
   },
   "source": [
    "### Step 4.5: Checking the principal assumptions of ANOVA test\n",
    "\n",
    "In this step, we determine whether the assumptions of the ANOVA test are fulfilled or not."
   ]
  },
  {
   "cell_type": "markdown",
   "id": "5awnL1YZ85kT",
   "metadata": {
    "id": "5awnL1YZ85kT"
   },
   "source": [
    "The ***Shapiro-Wilk's test*** helps examine whether a continuous variable follows a normal distribution or not. The null and alternative hypotheses of this test for the time spent by users on webpages are\n",
    "\n",
    "$H_0$: Time spent by users on the webpages has a normal distribution.\n",
    "\n",
    "$H_a$: Time spent by users on the webpages does NOT have a normal distribution.\n",
    "\n",
    "We run this test for the full dataset, and the datasets subsetted by the preferred language."
   ]
  },
  {
   "cell_type": "code",
   "execution_count": 42,
   "id": "diYXJc9Q4UPk",
   "metadata": {
    "colab": {
     "base_uri": "https://localhost:8080/"
    },
    "id": "diYXJc9Q4UPk",
    "outputId": "55d65e77-b9f1-4120-edfb-8aeffee9bf21"
   },
   "outputs": [
    {
     "name": "stdout",
     "output_type": "stream",
     "text": [
      "p-value for Shapiro's test performed on the time spent on the new page: 0.804\n",
      "p-value for Shapiro's test performed on the time spent on the new page by English-speaking users: 0.886\n",
      "p-value for Shapiro's test performed on the time spent on the new page by French-speaking users: 0.321\n",
      "p-value for Shapiro's test performed on the time spent on the new page by Spanish-speaking users: 0.09\n"
     ]
    }
   ],
   "source": [
    "# Shapiro-Wilk's test for ensuring the data is normally distributed\n",
    "\n",
    "stat, p_val = stats.shapiro(df_new['spent_time'])\n",
    "stat, p_val_en = stats.shapiro(df_en['spent_time'])\n",
    "stat, p_val_fr = stats.shapiro(df_fr['spent_time'])\n",
    "stat, p_val_sp = stats.shapiro(df_sp['spent_time'])\n",
    "\n",
    "print('p-value for Shapiro\\'s test performed on the time spent on the new page:', round(p_val, 3))\n",
    "print('p-value for Shapiro\\'s test performed on the time spent on the new page by English-speaking users:', round(p_val_en, 3))\n",
    "print('p-value for Shapiro\\'s test performed on the time spent on the new page by French-speaking users:', round(p_val_fr, 3))\n",
    "print('p-value for Shapiro\\'s test performed on the time spent on the new page by Spanish-speaking users:', round(p_val_sp, 3))"
   ]
  },
  {
   "cell_type": "markdown",
   "id": "OM6B9djk6ap7",
   "metadata": {
    "id": "OM6B9djk6ap7"
   },
   "source": [
    "#### Observations:\n",
    "\n",
    "Since p-value for all tests is $\\geq \\alpha = 0.05$, although barely for the last one, we fail to reject the null hypothesis of any of these tests, i.e., the 'spent time' variable of 'df_new' as well as the 'spent time' variable of the datasets subsetted based on the preferred language from this set all (to some good degree) have normal distributions."
   ]
  },
  {
   "cell_type": "markdown",
   "id": "YkT56TlT9eUC",
   "metadata": {
    "id": "YkT56TlT9eUC"
   },
   "source": [
    "We use the ***Levene's test*** to examine the homogenity of variances of the subsetted groups. The null and alternative hypotheses of this test for this certain problem are\n",
    "\n",
    "$H_0$: $\\sigma^2_{en} = \\sigma^2_{fr} = \\sigma^2_{sp}$\n",
    "\n",
    "$H_a$: For at least one pair, variances aren't equal.\n",
    "\n",
    "Here, $\\sigma^2_{en}$, $\\sigma^2_{fr}$ and $\\sigma^2_{sp}$ denote the variances of the time spent on webpages for users who choose English, French and Spanish as their preferred langauge, respectively."
   ]
  },
  {
   "cell_type": "code",
   "execution_count": 43,
   "id": "6O-MyH01-h9_",
   "metadata": {
    "colab": {
     "base_uri": "https://localhost:8080/"
    },
    "id": "6O-MyH01-h9_",
    "outputId": "70159528-d333-4fff-caad-31a54b7c3713"
   },
   "outputs": [
    {
     "name": "stdout",
     "output_type": "stream",
     "text": [
      "Standard deviation of the time spent on webpages by English-speaking users (min.): 1.98\n",
      "Standard deviation of the time spent on webpages by French-speaking users (min.): 1.93\n",
      "Standard deviation of the time spent on webpages by Spanish-speaking users (min.): 1.53\n",
      "p-value for Levene's test performed on the spent time of different language groups: 0.467\n"
     ]
    }
   ],
   "source": [
    "# Levene's test for ensuring that the variances of all subgroups are identical\n",
    "\n",
    "stat, p_val = stats.levene(df_en['spent_time'], df_fr['spent_time'], df_sp['spent_time'])\n",
    "\n",
    "print('Standard deviation of the time spent on webpages by English-speaking users (min.):', round(df_en['spent_time'].std(ddof = 1), 2))\n",
    "print('Standard deviation of the time spent on webpages by French-speaking users (min.):', round(df_fr['spent_time'].std(ddof = 1), 2))\n",
    "print('Standard deviation of the time spent on webpages by Spanish-speaking users (min.):', round(df_sp['spent_time'].std(ddof = 1), 2))\n",
    "print('p-value for Levene\\'s test performed on the spent time of different language groups:', round(p_val, 3))"
   ]
  },
  {
   "cell_type": "markdown",
   "id": "-5VKk1TK-l-y",
   "metadata": {
    "id": "-5VKk1TK-l-y"
   },
   "source": [
    "#### Observations:\n",
    "\n",
    "Since p-value $\\geq \\alpha = 0.05$, we fail to reject the null hypothesis of the Levene's test, i.e., the variances of the time spent by users on the new webpage for all language groups can to some extent be assumed equal."
   ]
  },
  {
   "cell_type": "markdown",
   "id": "vFqf9EW8AmVY",
   "metadata": {
    "id": "vFqf9EW8AmVY"
   },
   "source": [
    "### Step 5: Calculate the p-value\n",
    "\n"
   ]
  },
  {
   "cell_type": "code",
   "execution_count": 44,
   "id": "2J2F5d5IBZ_I",
   "metadata": {
    "colab": {
     "base_uri": "https://localhost:8080/"
    },
    "id": "2J2F5d5IBZ_I",
    "outputId": "8450785b-be19-4c01-ddad-1c1f0012eca9"
   },
   "outputs": [
    {
     "name": "stdout",
     "output_type": "stream",
     "text": [
      "Test Statistic = 0.854\n",
      "p-value = 0.432\n"
     ]
    }
   ],
   "source": [
    "# Carrying out the ANOVA test\n",
    "\n",
    "test_stat, p_val = stats.f_oneway(df_en['spent_time'], df_fr['spent_time'], df_sp['spent_time'])\n",
    "\n",
    "print('Test Statistic =', round(test_stat, 3))\n",
    "print('p-value =', round(p_val, 3))"
   ]
  },
  {
   "cell_type": "markdown",
   "id": "h7g13P66BFkW",
   "metadata": {
    "id": "h7g13P66BFkW"
   },
   "source": [
    "### Step 6: Compare the p-value with $\\alpha$\n"
   ]
  },
  {
   "cell_type": "code",
   "execution_count": 45,
   "id": "wzDJljVFBQRP",
   "metadata": {
    "colab": {
     "base_uri": "https://localhost:8080/"
    },
    "id": "wzDJljVFBQRP",
    "outputId": "7c31953b-a5ab-48ca-fe29-fd38951e8e46"
   },
   "outputs": [
    {
     "name": "stdout",
     "output_type": "stream",
     "text": [
      "There is NOT enough statistical evidence to reject the the null hypothesis. \n",
      "We thus CANNOT claim that the mean time spent by users on the new webpage varies statistically significantly with their preferred language.\n"
     ]
    }
   ],
   "source": [
    "if(p_value < alpha):\n",
    "  print('There is enough statistical evidence to reject the null hypothesis. \\n' +\n",
    "        'We can thus infer that the mean time spent by users on the new webpage varies with their preferred language.')\n",
    "else:\n",
    "  print('There is NOT enough statistical evidence to reject the the null hypothesis. \\n' +\n",
    "        'We thus CANNOT claim that the mean time spent by users on the new webpage varies statistically significantly with their preferred language.')"
   ]
  },
  {
   "cell_type": "markdown",
   "id": "vBKP7aEoBAKK",
   "metadata": {
    "id": "vBKP7aEoBAKK"
   },
   "source": [
    "### Step 7:  Draw inference\n",
    "\n",
    "Since p-value is much greater than the significance level, the null hypothesis (equality of average time spent on webpages by the users of different language groups) CANNOT be rejected. Thus, we CANNOT claim with enough statistical evidence (with more than 95% confidence) that the average time users spend on webpages changes with their preferred language."
   ]
  },
  {
   "cell_type": "markdown",
   "id": "mWP3x27iEm-A",
   "metadata": {
    "id": "mWP3x27iEm-A"
   },
   "source": [
    "### Extra Step: Validating above findings via the multiple comparison test (Tukey's range test)\n",
    "\n",
    "The null and alternative hypotheses of this tests are the same as those of ANOVA test:\n",
    "\n",
    "$H_0$: $\\mu_{en} = \\mu_{fr} = \\mu_{sp}$ \n",
    "\n",
    "$H_a$: $\\mu_{en} \\neq \\mu_{fr} \\text{ or } \\mu_{en} \\neq \\mu_{sp} \\text{ or } \\mu_{fr} \\neq \\mu_{sp}$"
   ]
  },
  {
   "cell_type": "code",
   "execution_count": 46,
   "id": "-FfIIfxDFxkh",
   "metadata": {
    "colab": {
     "base_uri": "https://localhost:8080/"
    },
    "id": "-FfIIfxDFxkh",
    "outputId": "cc13e47d-b485-42e7-8a27-7e3844e10f27"
   },
   "outputs": [
    {
     "name": "stdout",
     "output_type": "stream",
     "text": [
      " Multiple Comparison of Means - Tukey HSD, FWER=0.05 \n",
      "=====================================================\n",
      " group1  group2 meandiff p-adj   lower  upper  reject\n",
      "-----------------------------------------------------\n",
      "English  French  -0.4673 0.7259 -2.0035  1.069  False\n",
      "English Spanish  -0.8285  0.401 -2.3647 0.7078  False\n",
      " French Spanish  -0.3612  0.816  -1.874 1.1516  False\n",
      "-----------------------------------------------------\n"
     ]
    }
   ],
   "source": [
    "# Performing Tukey's range test for average time spent by the users of different language groups\n",
    "\n",
    "tukey_table = multicomp.pairwise_tukeyhsd(endog = df_new['spent_time'], groups = df_new['language'], alpha = alpha)\n",
    "\n",
    "print(tukey_table)"
   ]
  },
  {
   "cell_type": "markdown",
   "id": "5c6x6UkvGkEZ",
   "metadata": {
    "id": "5c6x6UkvGkEZ"
   },
   "source": [
    "#### Observations:\n",
    "\n",
    "This table further corroborates the findings of the previous step. In fact, according to this table, there is not enough statistical evidence to claim that the mean time spent on the new webpage by users of any chosen language group differs from that of the other groups. In other words, we fail to reject all of the following hypotheses:\n",
    "\n",
    "$\\mu_{en} = \\mu_{fr}$ \n",
    "\n",
    "$\\mu_{en} = \\mu_{sp}$  \n",
    "\n",
    "$\\mu_{fr} = \\mu_{sp}$"
   ]
  },
  {
   "cell_type": "markdown",
   "id": "3acbc947",
   "metadata": {
    "id": "3acbc947"
   },
   "source": [
    "## Conclusion and Business Recommendations"
   ]
  },
  {
   "cell_type": "markdown",
   "id": "21fb1063",
   "metadata": {
    "id": "21fb1063"
   },
   "source": [
    "***Summary of findings:***\n",
    "\n",
    "\n",
    "1. Users have been equally divided into two groups: those visiting the old page (control) and those visiting the new page (treatment), which is very favorable for such A/B testings. The numbers of users in different language groups were also nearly equal to each other, making the comparions between the language groups more substantive.  \n",
    "2.   The new landing page has certainly been a success. It has compelled more users to subscribe and users are happier to interact with this new version (spend more time on it), compared to the old webpage.\n",
    "3.  Despite some evidence pointing to the higher proportion of English-speaking users being converted, we didn't find enough statistical evidence to claim that language really impacts the conversion (subscription) status.\n",
    "4. Users with different preferred languages on average spend nearly the same amount of time on the webpages.\n",
    "\n",
    "***Recommendations:***\n",
    "\n",
    "1.  E-news Express should certainly move forward with the new landing page, which is demonstrably more engaging for users, and persuades a larger proportion of them to subscribe.\n",
    "2.  I recommend to repeat the study about the impact of preferred languages on subscription status with somewhat larger samples. The EDA showed a noticeably larger proportion of English-speaking users getting converted, but the hypothesis testing didn't reveal enough statistical evidence. Larger samples may change the situation. \n",
    "3.  Especially if the aboce recommendation was pursued, and it was shown with enough statistical evidence that English-speaking users are more willing to subscribe, I recommned the company to give more weight and emphasis to its advertising and marketing in English-speaking countries. \n",
    "4. Since, at least based on the current study, there is not too much difference between the conversion rate of users with different preferred languages, adding more languages might bring in more customers, but this should not be attempted before a rigorous study.\n",
    "5. Especially if E-news Express is interested in adding more languages and bringing in more customers whose preferred language isn't English, it should find out why the conversion rates for these languages fall behind that of English. It might be that the website doesn't cover enough relevant materials for non-English-speaking countries, or that the translation into these languages isn't very good, or something else of importance that company might want to look into and resolve.  "
   ]
  },
  {
   "cell_type": "markdown",
   "id": "U0dAd4i0iCHo",
   "metadata": {
    "id": "U0dAd4i0iCHo"
   },
   "source": [
    "___"
   ]
  }
 ],
 "metadata": {
  "colab": {
   "collapsed_sections": [
    "JOWQ70YFQkY6",
    "c748fFIObC4i",
    "paxse6h6j7TR",
    "FStWVZtljHlx",
    "kSmb32MYmeeP",
    "T_c2N1HVp-HS",
    "-rRpRRk_qxpp"
   ],
   "name": "ENews_Express_Learner_Notebook_FullCode_Version.ipynb",
   "provenance": []
  },
  "kernelspec": {
   "display_name": "Python 3 (ipykernel)",
   "language": "python",
   "name": "python3"
  },
  "language_info": {
   "codemirror_mode": {
    "name": "ipython",
    "version": 3
   },
   "file_extension": ".py",
   "mimetype": "text/x-python",
   "name": "python",
   "nbconvert_exporter": "python",
   "pygments_lexer": "ipython3",
   "version": "3.9.7"
  }
 },
 "nbformat": 4,
 "nbformat_minor": 5
}
