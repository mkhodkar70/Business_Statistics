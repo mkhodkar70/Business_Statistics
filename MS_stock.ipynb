{
 "cells": [
  {
   "cell_type": "markdown",
   "metadata": {},
   "source": [
    "# Microsoft Stock Price Case Study"
   ]
  },
  {
   "cell_type": "markdown",
   "metadata": {},
   "source": [
    "## Context\n",
    "\n",
    "Companies' worth or its total market value is called market capitalization or market cap. It is equal to the share price multiplied by the number of shares outstanding. Stock price is a proportional and relative  value of companies' growth. Here, analysing the stock price data will help us to understand a company's growth. Increase in stock price increases the company's market value."
   ]
  },
  {
   "cell_type": "markdown",
   "metadata": {},
   "source": [
    "## Problem statement\n",
    "\n",
    "We have Collected the latest data of Microsoft Stock price and calculated daily log return which is approximately  normally distributed. Let us try to answer some of the question that will help us to decide roughly whether to invest in the Microsoft shares or not?\n",
    "\n",
    "a) What is the probability that the stock price will drop over 5% in a day? \n",
    "\n",
    "b) What is the probability that the stock price will drop over 10% in a day?\n",
    " \n",
    "c) What is the probability that the stock price will drop over 50% in a year? \n",
    "\n",
    "d) What is the probability that the stock price will drop over 25% in a year?\n",
    "\n",
    "e) What is the 50th percentile  of the yearly stock price?"
   ]
  },
  {
   "cell_type": "code",
   "execution_count": 1,
   "metadata": {
    "executionInfo": {
     "elapsed": 1252,
     "status": "ok",
     "timestamp": 1655392305650,
     "user": {
      "displayName": "Amin Khodkar",
      "userId": "09708206172731177785"
     },
     "user_tz": 300
    },
    "id": "KyZHA-QuZwuu"
   },
   "outputs": [],
   "source": [
    "# Importing necessary libraries and packages\n",
    "\n",
    "import numpy as np\n",
    "import pandas as pd\n",
    "import matplotlib.pyplot as plt\n",
    "import seaborn as sns\n",
    "\n",
    "%matplotlib inline\n",
    "\n",
    "import scipy.stats as stats\n"
   ]
  },
  {
   "cell_type": "code",
   "execution_count": 2,
   "metadata": {
    "colab": {
     "base_uri": "https://localhost:8080/"
    },
    "executionInfo": {
     "elapsed": 17901,
     "status": "ok",
     "timestamp": 1655392325879,
     "user": {
      "displayName": "Amin Khodkar",
      "userId": "09708206172731177785"
     },
     "user_tz": 300
    },
    "id": "A9N_eVSOaXIR",
    "outputId": "6ab5437c-a88f-4b4b-82e8-ee2e1f2aaba2"
   },
   "outputs": [
    {
     "name": "stdout",
     "output_type": "stream",
     "text": [
      "Mounted at /content/drive/\n"
     ]
    }
   ],
   "source": [
    "# Loading the stock price dataset\n",
    "\n",
    "from google.colab import drive\n",
    "drive.mount('/content/drive/')\n",
    "\n",
    "data_orig = pd.read_csv('/content/drive/MyDrive/Python_files/MSFT.csv')\n",
    "\n",
    "# Ensuring original data remains untouched\n",
    "df = data_orig.copy()\n",
    "\n",
    "# Restricting the number of decimal point in the dataset\n",
    "pd.set_option('display.float_format', lambda x: '%.2f' % x) "
   ]
  },
  {
   "cell_type": "code",
   "execution_count": 3,
   "metadata": {
    "colab": {
     "base_uri": "https://localhost:8080/",
     "height": 676
    },
    "executionInfo": {
     "elapsed": 163,
     "status": "ok",
     "timestamp": 1655392328255,
     "user": {
      "displayName": "Amin Khodkar",
      "userId": "09708206172731177785"
     },
     "user_tz": 300
    },
    "id": "CozjqR9Bdk2m",
    "outputId": "7720f59c-7da8-4c9e-b25c-140141c8b783"
   },
   "outputs": [
    {
     "name": "stdout",
     "output_type": "stream",
     "text": [
      "(252, 7)\n",
      "\n",
      "<class 'pandas.core.frame.DataFrame'>\n",
      "RangeIndex: 252 entries, 0 to 251\n",
      "Data columns (total 7 columns):\n",
      " #   Column     Non-Null Count  Dtype  \n",
      "---  ------     --------------  -----  \n",
      " 0   Date       252 non-null    object \n",
      " 1   Open       252 non-null    float64\n",
      " 2   High       252 non-null    float64\n",
      " 3   Low        252 non-null    float64\n",
      " 4   Close      252 non-null    float64\n",
      " 5   Adj Close  252 non-null    float64\n",
      " 6   Volume     252 non-null    int64  \n",
      "dtypes: float64(5), int64(1), object(1)\n",
      "memory usage: 13.9+ KB\n",
      "None\n",
      "\n"
     ]
    },
    {
     "data": {
      "text/html": [
       "\n",
       "  <div id=\"df-7e732d00-d4c8-439c-94e6-2cefb535561a\">\n",
       "    <div class=\"colab-df-container\">\n",
       "      <div>\n",
       "<style scoped>\n",
       "    .dataframe tbody tr th:only-of-type {\n",
       "        vertical-align: middle;\n",
       "    }\n",
       "\n",
       "    .dataframe tbody tr th {\n",
       "        vertical-align: top;\n",
       "    }\n",
       "\n",
       "    .dataframe thead th {\n",
       "        text-align: right;\n",
       "    }\n",
       "</style>\n",
       "<table border=\"1\" class=\"dataframe\">\n",
       "  <thead>\n",
       "    <tr style=\"text-align: right;\">\n",
       "      <th></th>\n",
       "      <th>Date</th>\n",
       "      <th>Open</th>\n",
       "      <th>High</th>\n",
       "      <th>Low</th>\n",
       "      <th>Close</th>\n",
       "      <th>Adj Close</th>\n",
       "      <th>Volume</th>\n",
       "    </tr>\n",
       "  </thead>\n",
       "  <tbody>\n",
       "    <tr>\n",
       "      <th>0</th>\n",
       "      <td>2020-01-10</td>\n",
       "      <td>162.82</td>\n",
       "      <td>163.22</td>\n",
       "      <td>161.18</td>\n",
       "      <td>161.34</td>\n",
       "      <td>159.65</td>\n",
       "      <td>20725900</td>\n",
       "    </tr>\n",
       "    <tr>\n",
       "      <th>1</th>\n",
       "      <td>2020-01-13</td>\n",
       "      <td>161.76</td>\n",
       "      <td>163.31</td>\n",
       "      <td>161.26</td>\n",
       "      <td>163.28</td>\n",
       "      <td>161.57</td>\n",
       "      <td>21626500</td>\n",
       "    </tr>\n",
       "    <tr>\n",
       "      <th>2</th>\n",
       "      <td>2020-01-14</td>\n",
       "      <td>163.39</td>\n",
       "      <td>163.60</td>\n",
       "      <td>161.72</td>\n",
       "      <td>162.13</td>\n",
       "      <td>160.43</td>\n",
       "      <td>23477400</td>\n",
       "    </tr>\n",
       "    <tr>\n",
       "      <th>3</th>\n",
       "      <td>2020-01-15</td>\n",
       "      <td>162.62</td>\n",
       "      <td>163.94</td>\n",
       "      <td>162.57</td>\n",
       "      <td>163.18</td>\n",
       "      <td>161.47</td>\n",
       "      <td>21417900</td>\n",
       "    </tr>\n",
       "    <tr>\n",
       "      <th>4</th>\n",
       "      <td>2020-01-16</td>\n",
       "      <td>164.35</td>\n",
       "      <td>166.24</td>\n",
       "      <td>164.03</td>\n",
       "      <td>166.17</td>\n",
       "      <td>164.43</td>\n",
       "      <td>23865400</td>\n",
       "    </tr>\n",
       "    <tr>\n",
       "      <th>5</th>\n",
       "      <td>2020-01-17</td>\n",
       "      <td>167.42</td>\n",
       "      <td>167.47</td>\n",
       "      <td>165.43</td>\n",
       "      <td>167.10</td>\n",
       "      <td>165.35</td>\n",
       "      <td>34371700</td>\n",
       "    </tr>\n",
       "    <tr>\n",
       "      <th>6</th>\n",
       "      <td>2020-01-21</td>\n",
       "      <td>166.68</td>\n",
       "      <td>168.19</td>\n",
       "      <td>166.43</td>\n",
       "      <td>166.50</td>\n",
       "      <td>164.75</td>\n",
       "      <td>29517200</td>\n",
       "    </tr>\n",
       "    <tr>\n",
       "      <th>7</th>\n",
       "      <td>2020-01-22</td>\n",
       "      <td>167.40</td>\n",
       "      <td>167.49</td>\n",
       "      <td>165.68</td>\n",
       "      <td>165.70</td>\n",
       "      <td>163.96</td>\n",
       "      <td>24138800</td>\n",
       "    </tr>\n",
       "    <tr>\n",
       "      <th>8</th>\n",
       "      <td>2020-01-23</td>\n",
       "      <td>166.19</td>\n",
       "      <td>166.80</td>\n",
       "      <td>165.27</td>\n",
       "      <td>166.72</td>\n",
       "      <td>164.97</td>\n",
       "      <td>19680800</td>\n",
       "    </tr>\n",
       "    <tr>\n",
       "      <th>9</th>\n",
       "      <td>2020-01-24</td>\n",
       "      <td>167.51</td>\n",
       "      <td>167.53</td>\n",
       "      <td>164.45</td>\n",
       "      <td>165.04</td>\n",
       "      <td>163.31</td>\n",
       "      <td>24918100</td>\n",
       "    </tr>\n",
       "  </tbody>\n",
       "</table>\n",
       "</div>\n",
       "      <button class=\"colab-df-convert\" onclick=\"convertToInteractive('df-7e732d00-d4c8-439c-94e6-2cefb535561a')\"\n",
       "              title=\"Convert this dataframe to an interactive table.\"\n",
       "              style=\"display:none;\">\n",
       "        \n",
       "  <svg xmlns=\"http://www.w3.org/2000/svg\" height=\"24px\"viewBox=\"0 0 24 24\"\n",
       "       width=\"24px\">\n",
       "    <path d=\"M0 0h24v24H0V0z\" fill=\"none\"/>\n",
       "    <path d=\"M18.56 5.44l.94 2.06.94-2.06 2.06-.94-2.06-.94-.94-2.06-.94 2.06-2.06.94zm-11 1L8.5 8.5l.94-2.06 2.06-.94-2.06-.94L8.5 2.5l-.94 2.06-2.06.94zm10 10l.94 2.06.94-2.06 2.06-.94-2.06-.94-.94-2.06-.94 2.06-2.06.94z\"/><path d=\"M17.41 7.96l-1.37-1.37c-.4-.4-.92-.59-1.43-.59-.52 0-1.04.2-1.43.59L10.3 9.45l-7.72 7.72c-.78.78-.78 2.05 0 2.83L4 21.41c.39.39.9.59 1.41.59.51 0 1.02-.2 1.41-.59l7.78-7.78 2.81-2.81c.8-.78.8-2.07 0-2.86zM5.41 20L4 18.59l7.72-7.72 1.47 1.35L5.41 20z\"/>\n",
       "  </svg>\n",
       "      </button>\n",
       "      \n",
       "  <style>\n",
       "    .colab-df-container {\n",
       "      display:flex;\n",
       "      flex-wrap:wrap;\n",
       "      gap: 12px;\n",
       "    }\n",
       "\n",
       "    .colab-df-convert {\n",
       "      background-color: #E8F0FE;\n",
       "      border: none;\n",
       "      border-radius: 50%;\n",
       "      cursor: pointer;\n",
       "      display: none;\n",
       "      fill: #1967D2;\n",
       "      height: 32px;\n",
       "      padding: 0 0 0 0;\n",
       "      width: 32px;\n",
       "    }\n",
       "\n",
       "    .colab-df-convert:hover {\n",
       "      background-color: #E2EBFA;\n",
       "      box-shadow: 0px 1px 2px rgba(60, 64, 67, 0.3), 0px 1px 3px 1px rgba(60, 64, 67, 0.15);\n",
       "      fill: #174EA6;\n",
       "    }\n",
       "\n",
       "    [theme=dark] .colab-df-convert {\n",
       "      background-color: #3B4455;\n",
       "      fill: #D2E3FC;\n",
       "    }\n",
       "\n",
       "    [theme=dark] .colab-df-convert:hover {\n",
       "      background-color: #434B5C;\n",
       "      box-shadow: 0px 1px 3px 1px rgba(0, 0, 0, 0.15);\n",
       "      filter: drop-shadow(0px 1px 2px rgba(0, 0, 0, 0.3));\n",
       "      fill: #FFFFFF;\n",
       "    }\n",
       "  </style>\n",
       "\n",
       "      <script>\n",
       "        const buttonEl =\n",
       "          document.querySelector('#df-7e732d00-d4c8-439c-94e6-2cefb535561a button.colab-df-convert');\n",
       "        buttonEl.style.display =\n",
       "          google.colab.kernel.accessAllowed ? 'block' : 'none';\n",
       "\n",
       "        async function convertToInteractive(key) {\n",
       "          const element = document.querySelector('#df-7e732d00-d4c8-439c-94e6-2cefb535561a');\n",
       "          const dataTable =\n",
       "            await google.colab.kernel.invokeFunction('convertToInteractive',\n",
       "                                                     [key], {});\n",
       "          if (!dataTable) return;\n",
       "\n",
       "          const docLinkHtml = 'Like what you see? Visit the ' +\n",
       "            '<a target=\"_blank\" href=https://colab.research.google.com/notebooks/data_table.ipynb>data table notebook</a>'\n",
       "            + ' to learn more about interactive tables.';\n",
       "          element.innerHTML = '';\n",
       "          dataTable['output_type'] = 'display_data';\n",
       "          await google.colab.output.renderOutput(dataTable, element);\n",
       "          const docLink = document.createElement('div');\n",
       "          docLink.innerHTML = docLinkHtml;\n",
       "          element.appendChild(docLink);\n",
       "        }\n",
       "      </script>\n",
       "    </div>\n",
       "  </div>\n",
       "  "
      ],
      "text/plain": [
       "         Date   Open   High    Low  Close  Adj Close    Volume\n",
       "0  2020-01-10 162.82 163.22 161.18 161.34     159.65  20725900\n",
       "1  2020-01-13 161.76 163.31 161.26 163.28     161.57  21626500\n",
       "2  2020-01-14 163.39 163.60 161.72 162.13     160.43  23477400\n",
       "3  2020-01-15 162.62 163.94 162.57 163.18     161.47  21417900\n",
       "4  2020-01-16 164.35 166.24 164.03 166.17     164.43  23865400\n",
       "5  2020-01-17 167.42 167.47 165.43 167.10     165.35  34371700\n",
       "6  2020-01-21 166.68 168.19 166.43 166.50     164.75  29517200\n",
       "7  2020-01-22 167.40 167.49 165.68 165.70     163.96  24138800\n",
       "8  2020-01-23 166.19 166.80 165.27 166.72     164.97  19680800\n",
       "9  2020-01-24 167.51 167.53 164.45 165.04     163.31  24918100"
      ]
     },
     "execution_count": 3,
     "metadata": {},
     "output_type": "execute_result"
    }
   ],
   "source": [
    "# Exploring the dataset\n",
    "\n",
    "print(df.shape, end = '\\n'*2)\n",
    "print(df.info(), end = '\\n'*2)\n",
    "\n",
    "df.head(10)"
   ]
  },
  {
   "cell_type": "code",
   "execution_count": 4,
   "metadata": {
    "colab": {
     "base_uri": "https://localhost:8080/",
     "height": 206
    },
    "executionInfo": {
     "elapsed": 131,
     "status": "ok",
     "timestamp": 1655392329691,
     "user": {
      "displayName": "Amin Khodkar",
      "userId": "09708206172731177785"
     },
     "user_tz": 300
    },
    "id": "MtOHCDJSeEc2",
    "outputId": "1343d606-8928-47b0-a0e2-d0a038155090"
   },
   "outputs": [
    {
     "data": {
      "text/html": [
       "\n",
       "  <div id=\"df-dda1e1fb-d8c2-4991-bbe0-d073bb85d09e\">\n",
       "    <div class=\"colab-df-container\">\n",
       "      <div>\n",
       "<style scoped>\n",
       "    .dataframe tbody tr th:only-of-type {\n",
       "        vertical-align: middle;\n",
       "    }\n",
       "\n",
       "    .dataframe tbody tr th {\n",
       "        vertical-align: top;\n",
       "    }\n",
       "\n",
       "    .dataframe thead th {\n",
       "        text-align: right;\n",
       "    }\n",
       "</style>\n",
       "<table border=\"1\" class=\"dataframe\">\n",
       "  <thead>\n",
       "    <tr style=\"text-align: right;\">\n",
       "      <th></th>\n",
       "      <th>Date</th>\n",
       "      <th>Open</th>\n",
       "      <th>High</th>\n",
       "      <th>Low</th>\n",
       "      <th>Close</th>\n",
       "    </tr>\n",
       "  </thead>\n",
       "  <tbody>\n",
       "    <tr>\n",
       "      <th>0</th>\n",
       "      <td>2020-01-10</td>\n",
       "      <td>162.82</td>\n",
       "      <td>163.22</td>\n",
       "      <td>161.18</td>\n",
       "      <td>161.34</td>\n",
       "    </tr>\n",
       "    <tr>\n",
       "      <th>1</th>\n",
       "      <td>2020-01-13</td>\n",
       "      <td>161.76</td>\n",
       "      <td>163.31</td>\n",
       "      <td>161.26</td>\n",
       "      <td>163.28</td>\n",
       "    </tr>\n",
       "    <tr>\n",
       "      <th>2</th>\n",
       "      <td>2020-01-14</td>\n",
       "      <td>163.39</td>\n",
       "      <td>163.60</td>\n",
       "      <td>161.72</td>\n",
       "      <td>162.13</td>\n",
       "    </tr>\n",
       "    <tr>\n",
       "      <th>3</th>\n",
       "      <td>2020-01-15</td>\n",
       "      <td>162.62</td>\n",
       "      <td>163.94</td>\n",
       "      <td>162.57</td>\n",
       "      <td>163.18</td>\n",
       "    </tr>\n",
       "    <tr>\n",
       "      <th>4</th>\n",
       "      <td>2020-01-16</td>\n",
       "      <td>164.35</td>\n",
       "      <td>166.24</td>\n",
       "      <td>164.03</td>\n",
       "      <td>166.17</td>\n",
       "    </tr>\n",
       "  </tbody>\n",
       "</table>\n",
       "</div>\n",
       "      <button class=\"colab-df-convert\" onclick=\"convertToInteractive('df-dda1e1fb-d8c2-4991-bbe0-d073bb85d09e')\"\n",
       "              title=\"Convert this dataframe to an interactive table.\"\n",
       "              style=\"display:none;\">\n",
       "        \n",
       "  <svg xmlns=\"http://www.w3.org/2000/svg\" height=\"24px\"viewBox=\"0 0 24 24\"\n",
       "       width=\"24px\">\n",
       "    <path d=\"M0 0h24v24H0V0z\" fill=\"none\"/>\n",
       "    <path d=\"M18.56 5.44l.94 2.06.94-2.06 2.06-.94-2.06-.94-.94-2.06-.94 2.06-2.06.94zm-11 1L8.5 8.5l.94-2.06 2.06-.94-2.06-.94L8.5 2.5l-.94 2.06-2.06.94zm10 10l.94 2.06.94-2.06 2.06-.94-2.06-.94-.94-2.06-.94 2.06-2.06.94z\"/><path d=\"M17.41 7.96l-1.37-1.37c-.4-.4-.92-.59-1.43-.59-.52 0-1.04.2-1.43.59L10.3 9.45l-7.72 7.72c-.78.78-.78 2.05 0 2.83L4 21.41c.39.39.9.59 1.41.59.51 0 1.02-.2 1.41-.59l7.78-7.78 2.81-2.81c.8-.78.8-2.07 0-2.86zM5.41 20L4 18.59l7.72-7.72 1.47 1.35L5.41 20z\"/>\n",
       "  </svg>\n",
       "      </button>\n",
       "      \n",
       "  <style>\n",
       "    .colab-df-container {\n",
       "      display:flex;\n",
       "      flex-wrap:wrap;\n",
       "      gap: 12px;\n",
       "    }\n",
       "\n",
       "    .colab-df-convert {\n",
       "      background-color: #E8F0FE;\n",
       "      border: none;\n",
       "      border-radius: 50%;\n",
       "      cursor: pointer;\n",
       "      display: none;\n",
       "      fill: #1967D2;\n",
       "      height: 32px;\n",
       "      padding: 0 0 0 0;\n",
       "      width: 32px;\n",
       "    }\n",
       "\n",
       "    .colab-df-convert:hover {\n",
       "      background-color: #E2EBFA;\n",
       "      box-shadow: 0px 1px 2px rgba(60, 64, 67, 0.3), 0px 1px 3px 1px rgba(60, 64, 67, 0.15);\n",
       "      fill: #174EA6;\n",
       "    }\n",
       "\n",
       "    [theme=dark] .colab-df-convert {\n",
       "      background-color: #3B4455;\n",
       "      fill: #D2E3FC;\n",
       "    }\n",
       "\n",
       "    [theme=dark] .colab-df-convert:hover {\n",
       "      background-color: #434B5C;\n",
       "      box-shadow: 0px 1px 3px 1px rgba(0, 0, 0, 0.15);\n",
       "      filter: drop-shadow(0px 1px 2px rgba(0, 0, 0, 0.3));\n",
       "      fill: #FFFFFF;\n",
       "    }\n",
       "  </style>\n",
       "\n",
       "      <script>\n",
       "        const buttonEl =\n",
       "          document.querySelector('#df-dda1e1fb-d8c2-4991-bbe0-d073bb85d09e button.colab-df-convert');\n",
       "        buttonEl.style.display =\n",
       "          google.colab.kernel.accessAllowed ? 'block' : 'none';\n",
       "\n",
       "        async function convertToInteractive(key) {\n",
       "          const element = document.querySelector('#df-dda1e1fb-d8c2-4991-bbe0-d073bb85d09e');\n",
       "          const dataTable =\n",
       "            await google.colab.kernel.invokeFunction('convertToInteractive',\n",
       "                                                     [key], {});\n",
       "          if (!dataTable) return;\n",
       "\n",
       "          const docLinkHtml = 'Like what you see? Visit the ' +\n",
       "            '<a target=\"_blank\" href=https://colab.research.google.com/notebooks/data_table.ipynb>data table notebook</a>'\n",
       "            + ' to learn more about interactive tables.';\n",
       "          element.innerHTML = '';\n",
       "          dataTable['output_type'] = 'display_data';\n",
       "          await google.colab.output.renderOutput(dataTable, element);\n",
       "          const docLink = document.createElement('div');\n",
       "          docLink.innerHTML = docLinkHtml;\n",
       "          element.appendChild(docLink);\n",
       "        }\n",
       "      </script>\n",
       "    </div>\n",
       "  </div>\n",
       "  "
      ],
      "text/plain": [
       "         Date   Open   High    Low  Close\n",
       "0  2020-01-10 162.82 163.22 161.18 161.34\n",
       "1  2020-01-13 161.76 163.31 161.26 163.28\n",
       "2  2020-01-14 163.39 163.60 161.72 162.13\n",
       "3  2020-01-15 162.62 163.94 162.57 163.18\n",
       "4  2020-01-16 164.35 166.24 164.03 166.17"
      ]
     },
     "execution_count": 4,
     "metadata": {},
     "output_type": "execute_result"
    }
   ],
   "source": [
    "# Dropping the unnecessary columns\n",
    "\n",
    "df.drop(columns = ['Adj Close', 'Volume'], axis = 1, inplace = True)\n",
    "\n",
    "df.head()"
   ]
  },
  {
   "cell_type": "code",
   "execution_count": 5,
   "metadata": {
    "colab": {
     "base_uri": "https://localhost:8080/",
     "height": 206
    },
    "executionInfo": {
     "elapsed": 172,
     "status": "ok",
     "timestamp": 1655392330546,
     "user": {
      "displayName": "Amin Khodkar",
      "userId": "09708206172731177785"
     },
     "user_tz": 300
    },
    "id": "C2sLzBqUe-xw",
    "outputId": "d0254280-afad-4231-ca4c-a37e19655ed8"
   },
   "outputs": [
    {
     "data": {
      "text/html": [
       "\n",
       "  <div id=\"df-31412153-31da-4024-b886-93dd64b3d227\">\n",
       "    <div class=\"colab-df-container\">\n",
       "      <div>\n",
       "<style scoped>\n",
       "    .dataframe tbody tr th:only-of-type {\n",
       "        vertical-align: middle;\n",
       "    }\n",
       "\n",
       "    .dataframe tbody tr th {\n",
       "        vertical-align: top;\n",
       "    }\n",
       "\n",
       "    .dataframe thead th {\n",
       "        text-align: right;\n",
       "    }\n",
       "</style>\n",
       "<table border=\"1\" class=\"dataframe\">\n",
       "  <thead>\n",
       "    <tr style=\"text-align: right;\">\n",
       "      <th></th>\n",
       "      <th>Date</th>\n",
       "      <th>Open</th>\n",
       "      <th>High</th>\n",
       "      <th>Low</th>\n",
       "      <th>Close</th>\n",
       "    </tr>\n",
       "  </thead>\n",
       "  <tbody>\n",
       "    <tr>\n",
       "      <th>0</th>\n",
       "      <td>2020-01-10</td>\n",
       "      <td>162.82</td>\n",
       "      <td>163.22</td>\n",
       "      <td>161.18</td>\n",
       "      <td>161.34</td>\n",
       "    </tr>\n",
       "    <tr>\n",
       "      <th>1</th>\n",
       "      <td>2020-01-13</td>\n",
       "      <td>161.76</td>\n",
       "      <td>163.31</td>\n",
       "      <td>161.26</td>\n",
       "      <td>163.28</td>\n",
       "    </tr>\n",
       "    <tr>\n",
       "      <th>2</th>\n",
       "      <td>2020-01-14</td>\n",
       "      <td>163.39</td>\n",
       "      <td>163.60</td>\n",
       "      <td>161.72</td>\n",
       "      <td>162.13</td>\n",
       "    </tr>\n",
       "    <tr>\n",
       "      <th>3</th>\n",
       "      <td>2020-01-15</td>\n",
       "      <td>162.62</td>\n",
       "      <td>163.94</td>\n",
       "      <td>162.57</td>\n",
       "      <td>163.18</td>\n",
       "    </tr>\n",
       "    <tr>\n",
       "      <th>4</th>\n",
       "      <td>2020-01-16</td>\n",
       "      <td>164.35</td>\n",
       "      <td>166.24</td>\n",
       "      <td>164.03</td>\n",
       "      <td>166.17</td>\n",
       "    </tr>\n",
       "  </tbody>\n",
       "</table>\n",
       "</div>\n",
       "      <button class=\"colab-df-convert\" onclick=\"convertToInteractive('df-31412153-31da-4024-b886-93dd64b3d227')\"\n",
       "              title=\"Convert this dataframe to an interactive table.\"\n",
       "              style=\"display:none;\">\n",
       "        \n",
       "  <svg xmlns=\"http://www.w3.org/2000/svg\" height=\"24px\"viewBox=\"0 0 24 24\"\n",
       "       width=\"24px\">\n",
       "    <path d=\"M0 0h24v24H0V0z\" fill=\"none\"/>\n",
       "    <path d=\"M18.56 5.44l.94 2.06.94-2.06 2.06-.94-2.06-.94-.94-2.06-.94 2.06-2.06.94zm-11 1L8.5 8.5l.94-2.06 2.06-.94-2.06-.94L8.5 2.5l-.94 2.06-2.06.94zm10 10l.94 2.06.94-2.06 2.06-.94-2.06-.94-.94-2.06-.94 2.06-2.06.94z\"/><path d=\"M17.41 7.96l-1.37-1.37c-.4-.4-.92-.59-1.43-.59-.52 0-1.04.2-1.43.59L10.3 9.45l-7.72 7.72c-.78.78-.78 2.05 0 2.83L4 21.41c.39.39.9.59 1.41.59.51 0 1.02-.2 1.41-.59l7.78-7.78 2.81-2.81c.8-.78.8-2.07 0-2.86zM5.41 20L4 18.59l7.72-7.72 1.47 1.35L5.41 20z\"/>\n",
       "  </svg>\n",
       "      </button>\n",
       "      \n",
       "  <style>\n",
       "    .colab-df-container {\n",
       "      display:flex;\n",
       "      flex-wrap:wrap;\n",
       "      gap: 12px;\n",
       "    }\n",
       "\n",
       "    .colab-df-convert {\n",
       "      background-color: #E8F0FE;\n",
       "      border: none;\n",
       "      border-radius: 50%;\n",
       "      cursor: pointer;\n",
       "      display: none;\n",
       "      fill: #1967D2;\n",
       "      height: 32px;\n",
       "      padding: 0 0 0 0;\n",
       "      width: 32px;\n",
       "    }\n",
       "\n",
       "    .colab-df-convert:hover {\n",
       "      background-color: #E2EBFA;\n",
       "      box-shadow: 0px 1px 2px rgba(60, 64, 67, 0.3), 0px 1px 3px 1px rgba(60, 64, 67, 0.15);\n",
       "      fill: #174EA6;\n",
       "    }\n",
       "\n",
       "    [theme=dark] .colab-df-convert {\n",
       "      background-color: #3B4455;\n",
       "      fill: #D2E3FC;\n",
       "    }\n",
       "\n",
       "    [theme=dark] .colab-df-convert:hover {\n",
       "      background-color: #434B5C;\n",
       "      box-shadow: 0px 1px 3px 1px rgba(0, 0, 0, 0.15);\n",
       "      filter: drop-shadow(0px 1px 2px rgba(0, 0, 0, 0.3));\n",
       "      fill: #FFFFFF;\n",
       "    }\n",
       "  </style>\n",
       "\n",
       "      <script>\n",
       "        const buttonEl =\n",
       "          document.querySelector('#df-31412153-31da-4024-b886-93dd64b3d227 button.colab-df-convert');\n",
       "        buttonEl.style.display =\n",
       "          google.colab.kernel.accessAllowed ? 'block' : 'none';\n",
       "\n",
       "        async function convertToInteractive(key) {\n",
       "          const element = document.querySelector('#df-31412153-31da-4024-b886-93dd64b3d227');\n",
       "          const dataTable =\n",
       "            await google.colab.kernel.invokeFunction('convertToInteractive',\n",
       "                                                     [key], {});\n",
       "          if (!dataTable) return;\n",
       "\n",
       "          const docLinkHtml = 'Like what you see? Visit the ' +\n",
       "            '<a target=\"_blank\" href=https://colab.research.google.com/notebooks/data_table.ipynb>data table notebook</a>'\n",
       "            + ' to learn more about interactive tables.';\n",
       "          element.innerHTML = '';\n",
       "          dataTable['output_type'] = 'display_data';\n",
       "          await google.colab.output.renderOutput(dataTable, element);\n",
       "          const docLink = document.createElement('div');\n",
       "          docLink.innerHTML = docLinkHtml;\n",
       "          element.appendChild(docLink);\n",
       "        }\n",
       "      </script>\n",
       "    </div>\n",
       "  </div>\n",
       "  "
      ],
      "text/plain": [
       "        Date   Open   High    Low  Close\n",
       "0 2020-01-10 162.82 163.22 161.18 161.34\n",
       "1 2020-01-13 161.76 163.31 161.26 163.28\n",
       "2 2020-01-14 163.39 163.60 161.72 162.13\n",
       "3 2020-01-15 162.62 163.94 162.57 163.18\n",
       "4 2020-01-16 164.35 166.24 164.03 166.17"
      ]
     },
     "execution_count": 5,
     "metadata": {},
     "output_type": "execute_result"
    }
   ],
   "source": [
    "# Converting date column from string to datetime variable type\n",
    "\n",
    "df['Date'] = pd.to_datetime(data_orig['Date'], yearfirst = True, format = '%Y-%m-%d')\n",
    "\n",
    "df.head()"
   ]
  },
  {
   "cell_type": "code",
   "execution_count": 6,
   "metadata": {
    "colab": {
     "base_uri": "https://localhost:8080/"
    },
    "executionInfo": {
     "elapsed": 142,
     "status": "ok",
     "timestamp": 1655392331282,
     "user": {
      "displayName": "Amin Khodkar",
      "userId": "09708206172731177785"
     },
     "user_tz": 300
    },
    "id": "T26WuznHgQDM",
    "outputId": "1eadf4b5-b0d5-4e1f-d788-467e1e547da2"
   },
   "outputs": [
    {
     "name": "stdout",
     "output_type": "stream",
     "text": [
      "<class 'pandas.core.frame.DataFrame'>\n",
      "RangeIndex: 252 entries, 0 to 251\n",
      "Data columns (total 5 columns):\n",
      " #   Column  Non-Null Count  Dtype         \n",
      "---  ------  --------------  -----         \n",
      " 0   Date    252 non-null    datetime64[ns]\n",
      " 1   Open    252 non-null    float64       \n",
      " 2   High    252 non-null    float64       \n",
      " 3   Low     252 non-null    float64       \n",
      " 4   Close   252 non-null    float64       \n",
      "dtypes: datetime64[ns](1), float64(4)\n",
      "memory usage: 10.0 KB\n"
     ]
    }
   ],
   "source": [
    "# Ensuring the change in date column is successful\n",
    "df.info()"
   ]
  },
  {
   "cell_type": "code",
   "execution_count": 7,
   "metadata": {
    "colab": {
     "base_uri": "https://localhost:8080/",
     "height": 363
    },
    "executionInfo": {
     "elapsed": 158,
     "status": "ok",
     "timestamp": 1655392331963,
     "user": {
      "displayName": "Amin Khodkar",
      "userId": "09708206172731177785"
     },
     "user_tz": 300
    },
    "id": "ZDKrW88ljFus",
    "outputId": "9fbd7fab-328a-4de1-c5be-9104a49277b2"
   },
   "outputs": [
    {
     "data": {
      "text/html": [
       "\n",
       "  <div id=\"df-8f387eee-2635-42bf-880c-bd1dfaacb3b5\">\n",
       "    <div class=\"colab-df-container\">\n",
       "      <div>\n",
       "<style scoped>\n",
       "    .dataframe tbody tr th:only-of-type {\n",
       "        vertical-align: middle;\n",
       "    }\n",
       "\n",
       "    .dataframe tbody tr th {\n",
       "        vertical-align: top;\n",
       "    }\n",
       "\n",
       "    .dataframe thead th {\n",
       "        text-align: right;\n",
       "    }\n",
       "</style>\n",
       "<table border=\"1\" class=\"dataframe\">\n",
       "  <thead>\n",
       "    <tr style=\"text-align: right;\">\n",
       "      <th></th>\n",
       "      <th>Date</th>\n",
       "      <th>Open</th>\n",
       "      <th>High</th>\n",
       "      <th>Low</th>\n",
       "      <th>Close</th>\n",
       "      <th>Day</th>\n",
       "      <th>Weekday</th>\n",
       "      <th>Month</th>\n",
       "    </tr>\n",
       "  </thead>\n",
       "  <tbody>\n",
       "    <tr>\n",
       "      <th>0</th>\n",
       "      <td>2020-01-10</td>\n",
       "      <td>162.82</td>\n",
       "      <td>163.22</td>\n",
       "      <td>161.18</td>\n",
       "      <td>161.34</td>\n",
       "      <td>10</td>\n",
       "      <td>Friday</td>\n",
       "      <td>January</td>\n",
       "    </tr>\n",
       "    <tr>\n",
       "      <th>1</th>\n",
       "      <td>2020-01-13</td>\n",
       "      <td>161.76</td>\n",
       "      <td>163.31</td>\n",
       "      <td>161.26</td>\n",
       "      <td>163.28</td>\n",
       "      <td>13</td>\n",
       "      <td>Monday</td>\n",
       "      <td>January</td>\n",
       "    </tr>\n",
       "    <tr>\n",
       "      <th>2</th>\n",
       "      <td>2020-01-14</td>\n",
       "      <td>163.39</td>\n",
       "      <td>163.60</td>\n",
       "      <td>161.72</td>\n",
       "      <td>162.13</td>\n",
       "      <td>14</td>\n",
       "      <td>Tuesday</td>\n",
       "      <td>January</td>\n",
       "    </tr>\n",
       "    <tr>\n",
       "      <th>3</th>\n",
       "      <td>2020-01-15</td>\n",
       "      <td>162.62</td>\n",
       "      <td>163.94</td>\n",
       "      <td>162.57</td>\n",
       "      <td>163.18</td>\n",
       "      <td>15</td>\n",
       "      <td>Wednesday</td>\n",
       "      <td>January</td>\n",
       "    </tr>\n",
       "    <tr>\n",
       "      <th>4</th>\n",
       "      <td>2020-01-16</td>\n",
       "      <td>164.35</td>\n",
       "      <td>166.24</td>\n",
       "      <td>164.03</td>\n",
       "      <td>166.17</td>\n",
       "      <td>16</td>\n",
       "      <td>Thursday</td>\n",
       "      <td>January</td>\n",
       "    </tr>\n",
       "    <tr>\n",
       "      <th>5</th>\n",
       "      <td>2020-01-17</td>\n",
       "      <td>167.42</td>\n",
       "      <td>167.47</td>\n",
       "      <td>165.43</td>\n",
       "      <td>167.10</td>\n",
       "      <td>17</td>\n",
       "      <td>Friday</td>\n",
       "      <td>January</td>\n",
       "    </tr>\n",
       "    <tr>\n",
       "      <th>6</th>\n",
       "      <td>2020-01-21</td>\n",
       "      <td>166.68</td>\n",
       "      <td>168.19</td>\n",
       "      <td>166.43</td>\n",
       "      <td>166.50</td>\n",
       "      <td>21</td>\n",
       "      <td>Tuesday</td>\n",
       "      <td>January</td>\n",
       "    </tr>\n",
       "    <tr>\n",
       "      <th>7</th>\n",
       "      <td>2020-01-22</td>\n",
       "      <td>167.40</td>\n",
       "      <td>167.49</td>\n",
       "      <td>165.68</td>\n",
       "      <td>165.70</td>\n",
       "      <td>22</td>\n",
       "      <td>Wednesday</td>\n",
       "      <td>January</td>\n",
       "    </tr>\n",
       "    <tr>\n",
       "      <th>8</th>\n",
       "      <td>2020-01-23</td>\n",
       "      <td>166.19</td>\n",
       "      <td>166.80</td>\n",
       "      <td>165.27</td>\n",
       "      <td>166.72</td>\n",
       "      <td>23</td>\n",
       "      <td>Thursday</td>\n",
       "      <td>January</td>\n",
       "    </tr>\n",
       "    <tr>\n",
       "      <th>9</th>\n",
       "      <td>2020-01-24</td>\n",
       "      <td>167.51</td>\n",
       "      <td>167.53</td>\n",
       "      <td>164.45</td>\n",
       "      <td>165.04</td>\n",
       "      <td>24</td>\n",
       "      <td>Friday</td>\n",
       "      <td>January</td>\n",
       "    </tr>\n",
       "  </tbody>\n",
       "</table>\n",
       "</div>\n",
       "      <button class=\"colab-df-convert\" onclick=\"convertToInteractive('df-8f387eee-2635-42bf-880c-bd1dfaacb3b5')\"\n",
       "              title=\"Convert this dataframe to an interactive table.\"\n",
       "              style=\"display:none;\">\n",
       "        \n",
       "  <svg xmlns=\"http://www.w3.org/2000/svg\" height=\"24px\"viewBox=\"0 0 24 24\"\n",
       "       width=\"24px\">\n",
       "    <path d=\"M0 0h24v24H0V0z\" fill=\"none\"/>\n",
       "    <path d=\"M18.56 5.44l.94 2.06.94-2.06 2.06-.94-2.06-.94-.94-2.06-.94 2.06-2.06.94zm-11 1L8.5 8.5l.94-2.06 2.06-.94-2.06-.94L8.5 2.5l-.94 2.06-2.06.94zm10 10l.94 2.06.94-2.06 2.06-.94-2.06-.94-.94-2.06-.94 2.06-2.06.94z\"/><path d=\"M17.41 7.96l-1.37-1.37c-.4-.4-.92-.59-1.43-.59-.52 0-1.04.2-1.43.59L10.3 9.45l-7.72 7.72c-.78.78-.78 2.05 0 2.83L4 21.41c.39.39.9.59 1.41.59.51 0 1.02-.2 1.41-.59l7.78-7.78 2.81-2.81c.8-.78.8-2.07 0-2.86zM5.41 20L4 18.59l7.72-7.72 1.47 1.35L5.41 20z\"/>\n",
       "  </svg>\n",
       "      </button>\n",
       "      \n",
       "  <style>\n",
       "    .colab-df-container {\n",
       "      display:flex;\n",
       "      flex-wrap:wrap;\n",
       "      gap: 12px;\n",
       "    }\n",
       "\n",
       "    .colab-df-convert {\n",
       "      background-color: #E8F0FE;\n",
       "      border: none;\n",
       "      border-radius: 50%;\n",
       "      cursor: pointer;\n",
       "      display: none;\n",
       "      fill: #1967D2;\n",
       "      height: 32px;\n",
       "      padding: 0 0 0 0;\n",
       "      width: 32px;\n",
       "    }\n",
       "\n",
       "    .colab-df-convert:hover {\n",
       "      background-color: #E2EBFA;\n",
       "      box-shadow: 0px 1px 2px rgba(60, 64, 67, 0.3), 0px 1px 3px 1px rgba(60, 64, 67, 0.15);\n",
       "      fill: #174EA6;\n",
       "    }\n",
       "\n",
       "    [theme=dark] .colab-df-convert {\n",
       "      background-color: #3B4455;\n",
       "      fill: #D2E3FC;\n",
       "    }\n",
       "\n",
       "    [theme=dark] .colab-df-convert:hover {\n",
       "      background-color: #434B5C;\n",
       "      box-shadow: 0px 1px 3px 1px rgba(0, 0, 0, 0.15);\n",
       "      filter: drop-shadow(0px 1px 2px rgba(0, 0, 0, 0.3));\n",
       "      fill: #FFFFFF;\n",
       "    }\n",
       "  </style>\n",
       "\n",
       "      <script>\n",
       "        const buttonEl =\n",
       "          document.querySelector('#df-8f387eee-2635-42bf-880c-bd1dfaacb3b5 button.colab-df-convert');\n",
       "        buttonEl.style.display =\n",
       "          google.colab.kernel.accessAllowed ? 'block' : 'none';\n",
       "\n",
       "        async function convertToInteractive(key) {\n",
       "          const element = document.querySelector('#df-8f387eee-2635-42bf-880c-bd1dfaacb3b5');\n",
       "          const dataTable =\n",
       "            await google.colab.kernel.invokeFunction('convertToInteractive',\n",
       "                                                     [key], {});\n",
       "          if (!dataTable) return;\n",
       "\n",
       "          const docLinkHtml = 'Like what you see? Visit the ' +\n",
       "            '<a target=\"_blank\" href=https://colab.research.google.com/notebooks/data_table.ipynb>data table notebook</a>'\n",
       "            + ' to learn more about interactive tables.';\n",
       "          element.innerHTML = '';\n",
       "          dataTable['output_type'] = 'display_data';\n",
       "          await google.colab.output.renderOutput(dataTable, element);\n",
       "          const docLink = document.createElement('div');\n",
       "          docLink.innerHTML = docLinkHtml;\n",
       "          element.appendChild(docLink);\n",
       "        }\n",
       "      </script>\n",
       "    </div>\n",
       "  </div>\n",
       "  "
      ],
      "text/plain": [
       "        Date   Open   High    Low  Close  Day    Weekday    Month\n",
       "0 2020-01-10 162.82 163.22 161.18 161.34   10     Friday  January\n",
       "1 2020-01-13 161.76 163.31 161.26 163.28   13     Monday  January\n",
       "2 2020-01-14 163.39 163.60 161.72 162.13   14    Tuesday  January\n",
       "3 2020-01-15 162.62 163.94 162.57 163.18   15  Wednesday  January\n",
       "4 2020-01-16 164.35 166.24 164.03 166.17   16   Thursday  January\n",
       "5 2020-01-17 167.42 167.47 165.43 167.10   17     Friday  January\n",
       "6 2020-01-21 166.68 168.19 166.43 166.50   21    Tuesday  January\n",
       "7 2020-01-22 167.40 167.49 165.68 165.70   22  Wednesday  January\n",
       "8 2020-01-23 166.19 166.80 165.27 166.72   23   Thursday  January\n",
       "9 2020-01-24 167.51 167.53 164.45 165.04   24     Friday  January"
      ]
     },
     "execution_count": 7,
     "metadata": {},
     "output_type": "execute_result"
    }
   ],
   "source": [
    "df['Day'] = df['Date'].dt.day\n",
    "df['Weekday'] = df['Date'].dt.day_name()\n",
    "df['Month'] = df['Date'].dt.month_name()\n",
    "\n",
    "df.head(10)"
   ]
  },
  {
   "cell_type": "code",
   "execution_count": 8,
   "metadata": {
    "colab": {
     "base_uri": "https://localhost:8080/",
     "height": 401
    },
    "executionInfo": {
     "elapsed": 797,
     "status": "ok",
     "timestamp": 1655392333547,
     "user": {
      "displayName": "Amin Khodkar",
      "userId": "09708206172731177785"
     },
     "user_tz": 300
    },
    "id": "Vw8zmi9HmRQw",
    "outputId": "4d72ec27-13b6-4509-add5-54afc6437d5f"
   },
   "outputs": [
    {
     "data": {
      "image/png": "[encoded data removed]",
      "text/plain": [
       "<Figure size 792x396 with 1 Axes>"
      ]
     },
     "metadata": {
      "needs_background": "light"
     },
     "output_type": "display_data"
    }
   ],
   "source": [
    "# Variation of MS stock prices over the given year\n",
    "\n",
    "# Plotting  onthly mean of the closing prices\n",
    "plt.figure(figsize = (11, 5.5))\n",
    "sns.lineplot(data = df, x = 'Month', y = 'Close', ci = False);\n",
    "plt.ylabel('Closing Price ($)');\n",
    "plt.xticks(rotation = 55);"
   ]
  },
  {
   "cell_type": "code",
   "execution_count": 9,
   "metadata": {
    "colab": {
     "base_uri": "https://localhost:8080/",
     "height": 374
    },
    "executionInfo": {
     "elapsed": 394,
     "status": "ok",
     "timestamp": 1655392336136,
     "user": {
      "displayName": "Amin Khodkar",
      "userId": "09708206172731177785"
     },
     "user_tz": 300
    },
    "id": "uI8Yos9UzHfv",
    "outputId": "c052b04d-aa84-4efe-bb79-e67512daac14"
   },
   "outputs": [
    {
     "data": {
      "image/png": "[encoded data removed]",
      "text/plain": [
       "<Figure size 864x432 with 1 Axes>"
      ]
     },
     "metadata": {
      "needs_background": "light"
     },
     "output_type": "display_data"
    }
   ],
   "source": [
    "# Plotting daily changes of the closing prices\n",
    "\n",
    "x_axis = np.linspace(df['Date'].min().timestamp(), df['Date'].max().timestamp(), df.shape[0])\n",
    "x_ticks = np.linspace(df['Date'].min().timestamp(), df['Date'].max().timestamp(), 13)\n",
    "\n",
    "plt.figure(figsize = (12, 6))\n",
    "plt.plot(x_axis, df['Close']);\n",
    "plt.xticks(ticks = x_ticks, labels = ['Jan 20', 'Feb 20', 'Mar 20', 'Apr 20', 'May 20', 'Jun 20',\n",
    "                                      'Jul 20', 'Aug 20', 'Sep 20', 'Oct 20', 'Nov 20', 'Dec 20', 'Jan 21']);\n",
    "plt.ylabel('Closing Price ($)');"
   ]
  },
  {
   "cell_type": "code",
   "execution_count": 10,
   "metadata": {
    "colab": {
     "base_uri": "https://localhost:8080/",
     "height": 206
    },
    "executionInfo": {
     "elapsed": 159,
     "status": "ok",
     "timestamp": 1655392339320,
     "user": {
      "displayName": "Amin Khodkar",
      "userId": "09708206172731177785"
     },
     "user_tz": 300
    },
    "id": "qEBK9e-k0w5F",
    "outputId": "309416fc-9912-454c-e411-ca379e7c88c0"
   },
   "outputs": [
    {
     "data": {
      "text/html": [
       "\n",
       "  <div id=\"df-78ce0230-b22e-43a8-865b-9fdc36e1657d\">\n",
       "    <div class=\"colab-df-container\">\n",
       "      <div>\n",
       "<style scoped>\n",
       "    .dataframe tbody tr th:only-of-type {\n",
       "        vertical-align: middle;\n",
       "    }\n",
       "\n",
       "    .dataframe tbody tr th {\n",
       "        vertical-align: top;\n",
       "    }\n",
       "\n",
       "    .dataframe thead th {\n",
       "        text-align: right;\n",
       "    }\n",
       "</style>\n",
       "<table border=\"1\" class=\"dataframe\">\n",
       "  <thead>\n",
       "    <tr style=\"text-align: right;\">\n",
       "      <th></th>\n",
       "      <th>Date</th>\n",
       "      <th>Open</th>\n",
       "      <th>High</th>\n",
       "      <th>Low</th>\n",
       "      <th>Close</th>\n",
       "      <th>Day</th>\n",
       "      <th>Weekday</th>\n",
       "      <th>Month</th>\n",
       "      <th>Gain (%)</th>\n",
       "    </tr>\n",
       "  </thead>\n",
       "  <tbody>\n",
       "    <tr>\n",
       "      <th>0</th>\n",
       "      <td>2020-01-10</td>\n",
       "      <td>162.82</td>\n",
       "      <td>163.22</td>\n",
       "      <td>161.18</td>\n",
       "      <td>161.34</td>\n",
       "      <td>10</td>\n",
       "      <td>Friday</td>\n",
       "      <td>January</td>\n",
       "      <td>3.11</td>\n",
       "    </tr>\n",
       "    <tr>\n",
       "      <th>1</th>\n",
       "      <td>2020-01-13</td>\n",
       "      <td>161.76</td>\n",
       "      <td>163.31</td>\n",
       "      <td>161.26</td>\n",
       "      <td>163.28</td>\n",
       "      <td>13</td>\n",
       "      <td>Monday</td>\n",
       "      <td>January</td>\n",
       "      <td>1.20</td>\n",
       "    </tr>\n",
       "    <tr>\n",
       "      <th>2</th>\n",
       "      <td>2020-01-14</td>\n",
       "      <td>163.39</td>\n",
       "      <td>163.60</td>\n",
       "      <td>161.72</td>\n",
       "      <td>162.13</td>\n",
       "      <td>14</td>\n",
       "      <td>Tuesday</td>\n",
       "      <td>January</td>\n",
       "      <td>-0.70</td>\n",
       "    </tr>\n",
       "    <tr>\n",
       "      <th>3</th>\n",
       "      <td>2020-01-15</td>\n",
       "      <td>162.62</td>\n",
       "      <td>163.94</td>\n",
       "      <td>162.57</td>\n",
       "      <td>163.18</td>\n",
       "      <td>15</td>\n",
       "      <td>Wednesday</td>\n",
       "      <td>January</td>\n",
       "      <td>0.65</td>\n",
       "    </tr>\n",
       "    <tr>\n",
       "      <th>4</th>\n",
       "      <td>2020-01-16</td>\n",
       "      <td>164.35</td>\n",
       "      <td>166.24</td>\n",
       "      <td>164.03</td>\n",
       "      <td>166.17</td>\n",
       "      <td>16</td>\n",
       "      <td>Thursday</td>\n",
       "      <td>January</td>\n",
       "      <td>1.83</td>\n",
       "    </tr>\n",
       "  </tbody>\n",
       "</table>\n",
       "</div>\n",
       "      <button class=\"colab-df-convert\" onclick=\"convertToInteractive('df-78ce0230-b22e-43a8-865b-9fdc36e1657d')\"\n",
       "              title=\"Convert this dataframe to an interactive table.\"\n",
       "              style=\"display:none;\">\n",
       "        \n",
       "  <svg xmlns=\"http://www.w3.org/2000/svg\" height=\"24px\"viewBox=\"0 0 24 24\"\n",
       "       width=\"24px\">\n",
       "    <path d=\"M0 0h24v24H0V0z\" fill=\"none\"/>\n",
       "    <path d=\"M18.56 5.44l.94 2.06.94-2.06 2.06-.94-2.06-.94-.94-2.06-.94 2.06-2.06.94zm-11 1L8.5 8.5l.94-2.06 2.06-.94-2.06-.94L8.5 2.5l-.94 2.06-2.06.94zm10 10l.94 2.06.94-2.06 2.06-.94-2.06-.94-.94-2.06-.94 2.06-2.06.94z\"/><path d=\"M17.41 7.96l-1.37-1.37c-.4-.4-.92-.59-1.43-.59-.52 0-1.04.2-1.43.59L10.3 9.45l-7.72 7.72c-.78.78-.78 2.05 0 2.83L4 21.41c.39.39.9.59 1.41.59.51 0 1.02-.2 1.41-.59l7.78-7.78 2.81-2.81c.8-.78.8-2.07 0-2.86zM5.41 20L4 18.59l7.72-7.72 1.47 1.35L5.41 20z\"/>\n",
       "  </svg>\n",
       "      </button>\n",
       "      \n",
       "  <style>\n",
       "    .colab-df-container {\n",
       "      display:flex;\n",
       "      flex-wrap:wrap;\n",
       "      gap: 12px;\n",
       "    }\n",
       "\n",
       "    .colab-df-convert {\n",
       "      background-color: #E8F0FE;\n",
       "      border: none;\n",
       "      border-radius: 50%;\n",
       "      cursor: pointer;\n",
       "      display: none;\n",
       "      fill: #1967D2;\n",
       "      height: 32px;\n",
       "      padding: 0 0 0 0;\n",
       "      width: 32px;\n",
       "    }\n",
       "\n",
       "    .colab-df-convert:hover {\n",
       "      background-color: #E2EBFA;\n",
       "      box-shadow: 0px 1px 2px rgba(60, 64, 67, 0.3), 0px 1px 3px 1px rgba(60, 64, 67, 0.15);\n",
       "      fill: #174EA6;\n",
       "    }\n",
       "\n",
       "    [theme=dark] .colab-df-convert {\n",
       "      background-color: #3B4455;\n",
       "      fill: #D2E3FC;\n",
       "    }\n",
       "\n",
       "    [theme=dark] .colab-df-convert:hover {\n",
       "      background-color: #434B5C;\n",
       "      box-shadow: 0px 1px 3px 1px rgba(0, 0, 0, 0.15);\n",
       "      filter: drop-shadow(0px 1px 2px rgba(0, 0, 0, 0.3));\n",
       "      fill: #FFFFFF;\n",
       "    }\n",
       "  </style>\n",
       "\n",
       "      <script>\n",
       "        const buttonEl =\n",
       "          document.querySelector('#df-78ce0230-b22e-43a8-865b-9fdc36e1657d button.colab-df-convert');\n",
       "        buttonEl.style.display =\n",
       "          google.colab.kernel.accessAllowed ? 'block' : 'none';\n",
       "\n",
       "        async function convertToInteractive(key) {\n",
       "          const element = document.querySelector('#df-78ce0230-b22e-43a8-865b-9fdc36e1657d');\n",
       "          const dataTable =\n",
       "            await google.colab.kernel.invokeFunction('convertToInteractive',\n",
       "                                                     [key], {});\n",
       "          if (!dataTable) return;\n",
       "\n",
       "          const docLinkHtml = 'Like what you see? Visit the ' +\n",
       "            '<a target=\"_blank\" href=https://colab.research.google.com/notebooks/data_table.ipynb>data table notebook</a>'\n",
       "            + ' to learn more about interactive tables.';\n",
       "          element.innerHTML = '';\n",
       "          dataTable['output_type'] = 'display_data';\n",
       "          await google.colab.output.renderOutput(dataTable, element);\n",
       "          const docLink = document.createElement('div');\n",
       "          docLink.innerHTML = docLinkHtml;\n",
       "          element.appendChild(docLink);\n",
       "        }\n",
       "      </script>\n",
       "    </div>\n",
       "  </div>\n",
       "  "
      ],
      "text/plain": [
       "        Date   Open   High    Low  Close  Day    Weekday    Month  Gain (%)\n",
       "0 2020-01-10 162.82 163.22 161.18 161.34   10     Friday  January      3.11\n",
       "1 2020-01-13 161.76 163.31 161.26 163.28   13     Monday  January      1.20\n",
       "2 2020-01-14 163.39 163.60 161.72 162.13   14    Tuesday  January     -0.70\n",
       "3 2020-01-15 162.62 163.94 162.57 163.18   15  Wednesday  January      0.65\n",
       "4 2020-01-16 164.35 166.24 164.03 166.17   16   Thursday  January      1.83"
      ]
     },
     "execution_count": 10,
     "metadata": {},
     "output_type": "execute_result"
    }
   ],
   "source": [
    "# Calculating the daily gains (percentage of increase or decrease)\n",
    "\n",
    "df['Gain (%)'] = (df['Close'] - df['Close'].shift(1))/df['Close'].shift(1)*100\n",
    "df.loc[0, 'Gain (%)'] = 2*df.loc[1, 'Gain (%)'] - df.loc[2, 'Gain (%)']\n",
    "df.head()"
   ]
  },
  {
   "cell_type": "code",
   "execution_count": 12,
   "metadata": {
    "colab": {
     "base_uri": "https://localhost:8080/",
     "height": 206
    },
    "executionInfo": {
     "elapsed": 178,
     "status": "ok",
     "timestamp": 1655392354355,
     "user": {
      "displayName": "Amin Khodkar",
      "userId": "09708206172731177785"
     },
     "user_tz": 300
    },
    "id": "OleW9Cnc3y6n",
    "outputId": "b2cf9c82-784c-4166-f7d8-e675d6f43c39"
   },
   "outputs": [
    {
     "data": {
      "text/html": [
       "\n",
       "  <div id=\"df-fca9f3a8-1d03-4972-927b-ae34e8b17ff8\">\n",
       "    <div class=\"colab-df-container\">\n",
       "      <div>\n",
       "<style scoped>\n",
       "    .dataframe tbody tr th:only-of-type {\n",
       "        vertical-align: middle;\n",
       "    }\n",
       "\n",
       "    .dataframe tbody tr th {\n",
       "        vertical-align: top;\n",
       "    }\n",
       "\n",
       "    .dataframe thead th {\n",
       "        text-align: right;\n",
       "    }\n",
       "</style>\n",
       "<table border=\"1\" class=\"dataframe\">\n",
       "  <thead>\n",
       "    <tr style=\"text-align: right;\">\n",
       "      <th></th>\n",
       "      <th>Date</th>\n",
       "      <th>Open</th>\n",
       "      <th>High</th>\n",
       "      <th>Low</th>\n",
       "      <th>Close</th>\n",
       "      <th>Day</th>\n",
       "      <th>Weekday</th>\n",
       "      <th>Month</th>\n",
       "      <th>Gain (%)</th>\n",
       "      <th>Price_mean</th>\n",
       "    </tr>\n",
       "  </thead>\n",
       "  <tbody>\n",
       "    <tr>\n",
       "      <th>0</th>\n",
       "      <td>2020-01-10</td>\n",
       "      <td>162.82</td>\n",
       "      <td>163.22</td>\n",
       "      <td>161.18</td>\n",
       "      <td>161.34</td>\n",
       "      <td>10</td>\n",
       "      <td>Friday</td>\n",
       "      <td>January</td>\n",
       "      <td>3.11</td>\n",
       "      <td>162.20</td>\n",
       "    </tr>\n",
       "    <tr>\n",
       "      <th>1</th>\n",
       "      <td>2020-01-13</td>\n",
       "      <td>161.76</td>\n",
       "      <td>163.31</td>\n",
       "      <td>161.26</td>\n",
       "      <td>163.28</td>\n",
       "      <td>13</td>\n",
       "      <td>Monday</td>\n",
       "      <td>January</td>\n",
       "      <td>1.20</td>\n",
       "      <td>162.28</td>\n",
       "    </tr>\n",
       "    <tr>\n",
       "      <th>2</th>\n",
       "      <td>2020-01-14</td>\n",
       "      <td>163.39</td>\n",
       "      <td>163.60</td>\n",
       "      <td>161.72</td>\n",
       "      <td>162.13</td>\n",
       "      <td>14</td>\n",
       "      <td>Tuesday</td>\n",
       "      <td>January</td>\n",
       "      <td>-0.70</td>\n",
       "      <td>162.66</td>\n",
       "    </tr>\n",
       "    <tr>\n",
       "      <th>3</th>\n",
       "      <td>2020-01-15</td>\n",
       "      <td>162.62</td>\n",
       "      <td>163.94</td>\n",
       "      <td>162.57</td>\n",
       "      <td>163.18</td>\n",
       "      <td>15</td>\n",
       "      <td>Wednesday</td>\n",
       "      <td>January</td>\n",
       "      <td>0.65</td>\n",
       "      <td>163.26</td>\n",
       "    </tr>\n",
       "    <tr>\n",
       "      <th>4</th>\n",
       "      <td>2020-01-16</td>\n",
       "      <td>164.35</td>\n",
       "      <td>166.24</td>\n",
       "      <td>164.03</td>\n",
       "      <td>166.17</td>\n",
       "      <td>16</td>\n",
       "      <td>Thursday</td>\n",
       "      <td>January</td>\n",
       "      <td>1.83</td>\n",
       "      <td>165.14</td>\n",
       "    </tr>\n",
       "  </tbody>\n",
       "</table>\n",
       "</div>\n",
       "      <button class=\"colab-df-convert\" onclick=\"convertToInteractive('df-fca9f3a8-1d03-4972-927b-ae34e8b17ff8')\"\n",
       "              title=\"Convert this dataframe to an interactive table.\"\n",
       "              style=\"display:none;\">\n",
       "        \n",
       "  <svg xmlns=\"http://www.w3.org/2000/svg\" height=\"24px\"viewBox=\"0 0 24 24\"\n",
       "       width=\"24px\">\n",
       "    <path d=\"M0 0h24v24H0V0z\" fill=\"none\"/>\n",
       "    <path d=\"M18.56 5.44l.94 2.06.94-2.06 2.06-.94-2.06-.94-.94-2.06-.94 2.06-2.06.94zm-11 1L8.5 8.5l.94-2.06 2.06-.94-2.06-.94L8.5 2.5l-.94 2.06-2.06.94zm10 10l.94 2.06.94-2.06 2.06-.94-2.06-.94-.94-2.06-.94 2.06-2.06.94z\"/><path d=\"M17.41 7.96l-1.37-1.37c-.4-.4-.92-.59-1.43-.59-.52 0-1.04.2-1.43.59L10.3 9.45l-7.72 7.72c-.78.78-.78 2.05 0 2.83L4 21.41c.39.39.9.59 1.41.59.51 0 1.02-.2 1.41-.59l7.78-7.78 2.81-2.81c.8-.78.8-2.07 0-2.86zM5.41 20L4 18.59l7.72-7.72 1.47 1.35L5.41 20z\"/>\n",
       "  </svg>\n",
       "      </button>\n",
       "      \n",
       "  <style>\n",
       "    .colab-df-container {\n",
       "      display:flex;\n",
       "      flex-wrap:wrap;\n",
       "      gap: 12px;\n",
       "    }\n",
       "\n",
       "    .colab-df-convert {\n",
       "      background-color: #E8F0FE;\n",
       "      border: none;\n",
       "      border-radius: 50%;\n",
       "      cursor: pointer;\n",
       "      display: none;\n",
       "      fill: #1967D2;\n",
       "      height: 32px;\n",
       "      padding: 0 0 0 0;\n",
       "      width: 32px;\n",
       "    }\n",
       "\n",
       "    .colab-df-convert:hover {\n",
       "      background-color: #E2EBFA;\n",
       "      box-shadow: 0px 1px 2px rgba(60, 64, 67, 0.3), 0px 1px 3px 1px rgba(60, 64, 67, 0.15);\n",
       "      fill: #174EA6;\n",
       "    }\n",
       "\n",
       "    [theme=dark] .colab-df-convert {\n",
       "      background-color: #3B4455;\n",
       "      fill: #D2E3FC;\n",
       "    }\n",
       "\n",
       "    [theme=dark] .colab-df-convert:hover {\n",
       "      background-color: #434B5C;\n",
       "      box-shadow: 0px 1px 3px 1px rgba(0, 0, 0, 0.15);\n",
       "      filter: drop-shadow(0px 1px 2px rgba(0, 0, 0, 0.3));\n",
       "      fill: #FFFFFF;\n",
       "    }\n",
       "  </style>\n",
       "\n",
       "      <script>\n",
       "        const buttonEl =\n",
       "          document.querySelector('#df-fca9f3a8-1d03-4972-927b-ae34e8b17ff8 button.colab-df-convert');\n",
       "        buttonEl.style.display =\n",
       "          google.colab.kernel.accessAllowed ? 'block' : 'none';\n",
       "\n",
       "        async function convertToInteractive(key) {\n",
       "          const element = document.querySelector('#df-fca9f3a8-1d03-4972-927b-ae34e8b17ff8');\n",
       "          const dataTable =\n",
       "            await google.colab.kernel.invokeFunction('convertToInteractive',\n",
       "                                                     [key], {});\n",
       "          if (!dataTable) return;\n",
       "\n",
       "          const docLinkHtml = 'Like what you see? Visit the ' +\n",
       "            '<a target=\"_blank\" href=https://colab.research.google.com/notebooks/data_table.ipynb>data table notebook</a>'\n",
       "            + ' to learn more about interactive tables.';\n",
       "          element.innerHTML = '';\n",
       "          dataTable['output_type'] = 'display_data';\n",
       "          await google.colab.output.renderOutput(dataTable, element);\n",
       "          const docLink = document.createElement('div');\n",
       "          docLink.innerHTML = docLinkHtml;\n",
       "          element.appendChild(docLink);\n",
       "        }\n",
       "      </script>\n",
       "    </div>\n",
       "  </div>\n",
       "  "
      ],
      "text/plain": [
       "        Date   Open   High    Low  Close  Day    Weekday    Month  Gain (%)  \\\n",
       "0 2020-01-10 162.82 163.22 161.18 161.34   10     Friday  January      3.11   \n",
       "1 2020-01-13 161.76 163.31 161.26 163.28   13     Monday  January      1.20   \n",
       "2 2020-01-14 163.39 163.60 161.72 162.13   14    Tuesday  January     -0.70   \n",
       "3 2020-01-15 162.62 163.94 162.57 163.18   15  Wednesday  January      0.65   \n",
       "4 2020-01-16 164.35 166.24 164.03 166.17   16   Thursday  January      1.83   \n",
       "\n",
       "   Price_mean  \n",
       "0      162.20  \n",
       "1      162.28  \n",
       "2      162.66  \n",
       "3      163.26  \n",
       "4      165.14  "
      ]
     },
     "execution_count": 12,
     "metadata": {},
     "output_type": "execute_result"
    }
   ],
   "source": [
    "# Plot the distribution of the stock average price in a day \n",
    "\n",
    "# Average price of a stock is calculated as mean of the high and low price on a day\n",
    "\n",
    "df['Price_mean'] = (df['High'] + df['Low'])/2\n",
    "\n",
    "df.head()"
   ]
  },
  {
   "cell_type": "code",
   "execution_count": 13,
   "metadata": {
    "colab": {
     "base_uri": "https://localhost:8080/",
     "height": 280
    },
    "executionInfo": {
     "elapsed": 344,
     "status": "ok",
     "timestamp": 1655392358748,
     "user": {
      "displayName": "Amin Khodkar",
      "userId": "09708206172731177785"
     },
     "user_tz": 300
    },
    "id": "WkyyXlgpPAnA",
    "outputId": "10da2245-7724-4cad-828d-d59decbe5f22"
   },
   "outputs": [
    {
     "data": {
      "image/png": "[encoded data removed]",
      "text/plain": [
       "<Figure size 432x288 with 1 Axes>"
      ]
     },
     "metadata": {
      "needs_background": "light"
     },
     "output_type": "display_data"
    }
   ],
   "source": [
    "# Plotting the distribution of the stock price\n",
    "sns.histplot(data = df, x = 'Price_mean', binwidth = 7.5, kde = True);"
   ]
  },
  {
   "cell_type": "markdown",
   "metadata": {
    "id": "fb1R23O_PlY1"
   },
   "source": [
    "Observation: Stock price's distibution is far from normal, as expected, since the average price is steadily increasing over the year."
   ]
  },
  {
   "cell_type": "code",
   "execution_count": 14,
   "metadata": {
    "colab": {
     "base_uri": "https://localhost:8080/",
     "height": 279
    },
    "executionInfo": {
     "elapsed": 337,
     "status": "ok",
     "timestamp": 1655392362281,
     "user": {
      "displayName": "Amin Khodkar",
      "userId": "09708206172731177785"
     },
     "user_tz": 300
    },
    "id": "puUY0hjEPIzj",
    "outputId": "7909393a-12bd-41f1-e8f2-571c686bb867"
   },
   "outputs": [
    {
     "data": {
      "image/png": "[encoded data removed]",
      "text/plain": [
       "<Figure size 432x288 with 1 Axes>"
      ]
     },
     "metadata": {
      "needs_background": "light"
     },
     "output_type": "display_data"
    }
   ],
   "source": [
    "# Plotting the distribution of the percentage of the gain\n",
    "\n",
    "sns.histplot(data = df, x = 'Gain (%)', kde = True);"
   ]
  },
  {
   "cell_type": "markdown",
   "metadata": {
    "id": "j69i2W-DY7rl"
   },
   "source": [
    "Observation: On the other hand, the poercentage of daily gain or drop in the stock price has a fairly normal distribution."
   ]
  },
  {
   "cell_type": "code",
   "execution_count": 15,
   "metadata": {
    "colab": {
     "base_uri": "https://localhost:8080/",
     "height": 279
    },
    "executionInfo": {
     "elapsed": 483,
     "status": "ok",
     "timestamp": 1655392366278,
     "user": {
      "displayName": "Amin Khodkar",
      "userId": "09708206172731177785"
     },
     "user_tz": 300
    },
    "id": "JB8UFTdlYzIC",
    "outputId": "90bbb2b5-9c5f-4a61-ce02-fb91ecd5480f"
   },
   "outputs": [
    {
     "data": {
      "image/png": "[encoded data removed]",
      "text/plain": [
       "<Figure size 432x288 with 1 Axes>"
      ]
     },
     "metadata": {
      "needs_background": "light"
     },
     "output_type": "display_data"
    }
   ],
   "source": [
    "# Calculating the idealized normal distribution of daily gain\n",
    "\n",
    "mu = df['Gain (%)'].mean()    # Gain's mean\n",
    "sigma = df['Gain (%)'].std()  # Gain's std\n",
    "x_gain = np.linspace(df['Gain (%)'].min(), df['Gain (%)'].max(), 100)\n",
    "\n",
    "gain_ideal_density = stats.norm.pdf(x_gain, loc = mu, scale = sigma) \n",
    "\n",
    "sns.histplot(data = df, x = 'Gain (%)', kde = True, stat = 'density');\n",
    "plt.plot(x_gain, gain_ideal_density, color = 'red');\n",
    "plt.legend(['Actual', 'Idealized']);"
   ]
  },
  {
   "cell_type": "code",
   "execution_count": 19,
   "metadata": {
    "colab": {
     "base_uri": "https://localhost:8080/"
    },
    "executionInfo": {
     "elapsed": 128,
     "status": "ok",
     "timestamp": 1655392501949,
     "user": {
      "displayName": "Amin Khodkar",
      "userId": "09708206172731177785"
     },
     "user_tz": 300
    },
    "id": "Uftr1PfVFPid",
    "outputId": "cba6491c-80b5-4dc8-b51a-9e89ce144aa3"
   },
   "outputs": [
    {
     "data": {
      "text/plain": [
       "0.17333346807327377"
      ]
     },
     "execution_count": 19,
     "metadata": {},
     "output_type": "execute_result"
    }
   ],
   "source": [
    "mu"
   ]
  },
  {
   "cell_type": "code",
   "execution_count": 18,
   "metadata": {
    "colab": {
     "base_uri": "https://localhost:8080/"
    },
    "executionInfo": {
     "elapsed": 154,
     "status": "ok",
     "timestamp": 1655392417205,
     "user": {
      "displayName": "Amin Khodkar",
      "userId": "09708206172731177785"
     },
     "user_tz": 300
    },
    "id": "ul6D1PSLZeRi",
    "outputId": "fca62d18-5ad8-4001-f2cf-a0ef8c30c3b6"
   },
   "outputs": [
    {
     "name": "stdout",
     "output_type": "stream",
     "text": [
      "The probability of observing 5% or more daily drop in the stock price is 3.16%.\n",
      "\n",
      "The probability of observing 10% or more daily drop in the stock price is 0.013%.\n"
     ]
    }
   ],
   "source": [
    "# Calculating the probability of various drops in daily stock price changes\n",
    "\n",
    "print('The probability of observing 5% or more daily drop in the stock price is ', \n",
    "      round(stats.norm.cdf(-5, mu, sigma)*100, 2), '%.', sep = '', end = '\\n'*2)\n",
    "print('The probability of observing 10% or more daily drop in the stock price is ', \n",
    "      round(stats.norm.cdf(-10, mu, sigma)*100, 3), '%.', sep = '')"
   ]
  },
  {
   "cell_type": "code",
   "execution_count": 23,
   "metadata": {
    "colab": {
     "base_uri": "https://localhost:8080/",
     "height": 279
    },
    "executionInfo": {
     "elapsed": 342,
     "status": "ok",
     "timestamp": 1655392951150,
     "user": {
      "displayName": "Amin Khodkar",
      "userId": "09708206172731177785"
     },
     "user_tz": 300
    },
    "id": "a42N0uJWbNyW",
    "outputId": "9eb647fc-fa0c-4a8c-cd03-e6f25778224d"
   },
   "outputs": [
    {
     "data": {
      "image/png": "[encoded data removed]",
      "text/plain": [
       "<Figure size 432x288 with 1 Axes>"
      ]
     },
     "metadata": {
      "needs_background": "light"
     },
     "output_type": "display_data"
    }
   ],
   "source": [
    "# Finding the idealized normal distribution of annual gain\n",
    "\n",
    "mu_annual = mu*df.shape[0]        # Gain's mean\n",
    "sigma_annual = sigma*np.sqrt(df.shape[0])  # Gain's std\n",
    "x_annual = np.linspace(df['Gain (%)'].min()*10, \n",
    "                     df['Gain (%)'].max()*17, 100)\n",
    "\n",
    "annual_gain = stats.norm.pdf(x_annual, loc = mu_annual, scale = sigma_annual) \n",
    "\n",
    "plt.plot(x_annual, annual_gain, color = 'blue');\n",
    "plt.xlabel('Annual Gain (%)');\n",
    "plt.ylabel('Density');"
   ]
  },
  {
   "cell_type": "code",
   "execution_count": null,
   "metadata": {
    "colab": {
     "base_uri": "https://localhost:8080/"
    },
    "executionInfo": {
     "elapsed": 145,
     "status": "ok",
     "timestamp": 1655333105307,
     "user": {
      "displayName": "Amin Khodkar",
      "userId": "09708206172731177785"
     },
     "user_tz": 300
    },
    "id": "nENHCJU3dUWZ",
    "outputId": "e3d7274f-99fc-4911-89ff-d1c114ecdf92"
   },
   "outputs": [
    {
     "name": "stdout",
     "output_type": "stream",
     "text": [
      "The probability of observing 50% or more annual loss is 1.7%.\n",
      "\n",
      "The probability of observing 25% or more annual loss is 6.01%.\n",
      "\n",
      "With 50% probability, the annual gain in stock price is 43.68%.\n"
     ]
    }
   ],
   "source": [
    "# Calculating the probability of various drops in daily stock price changes\n",
    "\n",
    "print('The probability of observing 50% or more annual loss is ', \n",
    "      round(stats.norm.cdf(-50, mu_annual, sigma_annual)*100, 2), '%.', sep = '', end = '\\n'*2)\n",
    "print('The probability of observing 25% or more annual loss is ', \n",
    "      round(stats.norm.cdf(-25, mu_annual, sigma_annual)*100, 2), '%.', sep = '', end = '\\n'*2)\n",
    "\n",
    "print('With 50% probability, the annual gain in stock price is ', \n",
    "      round(stats.norm.ppf(0.5, mu_annual, sigma_annual), 2), '%.', sep = '')"
   ]
  }
 ],
 "metadata": {
  "colab": {
   "authorship_tag": "ABX9TyMq0EK+2KanQ3Qy3D5h6EKC",
   "collapsed_sections": [],
   "name": "MS_stock_additional_case_my_solution.ipynb",
   "provenance": []
  },
  "kernelspec": {
   "display_name": "Python 3 (ipykernel)",
   "language": "python",
   "name": "python3"
  },
  "language_info": {
   "codemirror_mode": {
    "name": "ipython",
    "version": 3
   },
   "file_extension": ".py",
   "mimetype": "text/x-python",
   "name": "python",
   "nbconvert_exporter": "python",
   "pygments_lexer": "ipython3",
   "version": "3.9.7"
  }
 },
 "nbformat": 4,
 "nbformat_minor": 1
}
